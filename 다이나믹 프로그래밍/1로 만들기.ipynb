{
 "cells": [
  {
   "cell_type": "code",
   "execution_count": 8,
   "metadata": {},
   "outputs": [
    {
     "name": "stdout",
     "output_type": "stream",
     "text": [
      "2 1 1\n",
      "2 1\n",
      "3 1 1\n",
      "3 1\n",
      "4 2 2\n",
      "4 2\n",
      "5 1 1\n",
      "5 1\n",
      "6 2 2\n",
      "6 2 2\n",
      "6 2\n",
      "7 3\n",
      "8 3 3\n",
      "8 3\n",
      "9 2 2\n",
      "9 2\n",
      "10 2 2\n",
      "10 2 2\n",
      "10 2\n",
      "11 3\n",
      "12 3 3\n",
      "12 3 3\n",
      "12 3\n",
      "13 4\n",
      "14 4 4\n",
      "14 4\n",
      "15 2 2\n",
      "15 2 2\n",
      "15 2\n",
      "16 3 4\n",
      "16 3\n",
      "17 4\n",
      "18 3 3\n",
      "18 3 3\n",
      "18 3\n",
      "19 4\n",
      "20 3 3\n",
      "20 3 3\n",
      "20 3\n",
      "21 4 4\n",
      "21 4\n",
      "22 4 4\n",
      "22 4\n",
      "23 5\n",
      "24 4 4\n",
      "24 4 4\n",
      "24 4\n",
      "25 2 2\n",
      "25 2\n",
      "26 3 5\n",
      "26 3\n",
      "3\n"
     ]
    }
   ],
   "source": [
    "x = int(input())\n",
    "\n",
    "d = [0] * 30001\n",
    "\n",
    "for i in range(2, x + 1):\n",
    "    d[i] = d[i - 1] + 1\n",
    "\n",
    "    if i % 2 == 0:\n",
    "        d[i] = min(d[i], d[i // 2] + 1)\n",
    "        print(i, d[i], d[i // 2] + 1)\n",
    "    \n",
    "    if i % 3 == 0:\n",
    "        d[i] = min(d[i], d[i // 3] + 1)\n",
    "        print(i, d[i], d[i // 3] + 1)\n",
    "    \n",
    "    if i % 5 == 0:\n",
    "        d[i] = min(d[i], d[i // 5] + 1)\n",
    "        print(i, d[i], d[i // 5] + 1)\n",
    "\n",
    "print(d[x])"
   ]
  },
  {
   "cell_type": "code",
   "execution_count": null,
   "metadata": {},
   "outputs": [],
   "source": []
  }
 ],
 "metadata": {
  "kernelspec": {
   "display_name": "Python 3.8.0 64-bit",
   "language": "python",
   "name": "python3"
  },
  "language_info": {
   "codemirror_mode": {
    "name": "ipython",
    "version": 3
   },
   "file_extension": ".py",
   "mimetype": "text/x-python",
   "name": "python",
   "nbconvert_exporter": "python",
   "pygments_lexer": "ipython3",
   "version": "3.8.0"
  },
  "orig_nbformat": 4,
  "vscode": {
   "interpreter": {
    "hash": "c2e55c9285be7209c352033cdce09d8fd6005e5e0666f201e74b15d445dd77cd"
   }
  }
 },
 "nbformat": 4,
 "nbformat_minor": 2
}
