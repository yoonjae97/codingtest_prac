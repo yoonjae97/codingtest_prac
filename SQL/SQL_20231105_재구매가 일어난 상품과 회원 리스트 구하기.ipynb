{
 "cells": [
  {
   "cell_type": "markdown",
   "metadata": {},
   "source": [
    "문제 출처 : https://school.programmers.co.kr/learn/courses/30/lessons/131536"
   ]
  },
  {
   "cell_type": "code",
   "execution_count": null,
   "metadata": {
    "vscode": {
     "languageId": "plaintext"
    }
   },
   "outputs": [],
   "source": [
    "SELECT USER_ID, PRODUCT_ID\n",
    "FROM ONLINE_SALE\n",
    "GROUP BY USER_ID, PRODUCT_ID\n",
    "HAVING COUNT(*) >= 2\n",
    "ORDER BY USER_ID, PRODUCT_ID DESCㅛ"
   ]
  }
 ],
 "metadata": {
  "language_info": {
   "name": "python"
  }
 },
 "nbformat": 4,
 "nbformat_minor": 2
}
