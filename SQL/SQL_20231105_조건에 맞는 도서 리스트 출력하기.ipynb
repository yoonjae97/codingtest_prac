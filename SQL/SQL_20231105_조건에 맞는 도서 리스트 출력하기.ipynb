{
 "cells": [
  {
   "cell_type": "markdown",
   "metadata": {},
   "source": [
    "문제 출처 : https://school.programmers.co.kr/learn/courses/30/lessons/144853"
   ]
  },
  {
   "cell_type": "markdown",
   "metadata": {},
   "source": [
    "SELECT BOOK_ID, DATE_FORMAT(published_date, '%Y-%m-%d') PUBLISHED_DATE\n",
    "FROM BOOK\n",
    "WHERE YEAR(published_date) = 2021 AND CATEGORY = '인문'\n",
    "ORDER BY PUBLISHED_DATE ASC"
   ]
  }
 ],
 "metadata": {
  "language_info": {
   "name": "python"
  }
 },
 "nbformat": 4,
 "nbformat_minor": 2
}
