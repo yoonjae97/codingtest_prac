{
 "cells": [
  {
   "cell_type": "markdown",
   "metadata": {},
   "source": [
    "문제 출처 : https://school.programmers.co.kr/learn/courses/30/lessons/151136"
   ]
  },
  {
   "cell_type": "markdown",
   "metadata": {},
   "source": [
    "SELECT ROUND(AVG(DAILY_FEE), 0) AVERAGE_FEE\n",
    "FROM CAR_RENTAL_COMPANY_CAR\n",
    "WHERE CAR_TYPE = \"SUV\"\n",
    "GROUP BY CAR_TYPE"
   ]
  }
 ],
 "metadata": {
  "language_info": {
   "name": "python"
  }
 },
 "nbformat": 4,
 "nbformat_minor": 2
}
