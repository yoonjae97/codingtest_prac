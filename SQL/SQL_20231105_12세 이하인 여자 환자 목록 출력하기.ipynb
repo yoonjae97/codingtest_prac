{
 "cells": [
  {
   "cell_type": "markdown",
   "metadata": {},
   "source": [
    "문제 출처 : https://school.programmers.co.kr/learn/courses/30/lessons/132201"
   ]
  },
  {
   "cell_type": "markdown",
   "metadata": {},
   "source": [
    "SELECT PT_NAME, PT_NO, GEND_CD, AGE, IFNULL(TLNO, \"NONE\")\n",
    "FROM PATIENT\n",
    "WHERE AGE <= 12 AND GEND_CD = 'W'\n",
    "ORDER BY AGE DESC, PT_NAME ASC"
   ]
  }
 ],
 "metadata": {
  "language_info": {
   "name": "python"
  }
 },
 "nbformat": 4,
 "nbformat_minor": 2
}
