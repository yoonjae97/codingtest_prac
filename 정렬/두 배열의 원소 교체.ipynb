{
 "cells": [
  {
   "cell_type": "code",
   "execution_count": 6,
   "metadata": {},
   "outputs": [
    {
     "name": "stdout",
     "output_type": "stream",
     "text": [
      "26\n"
     ]
    }
   ],
   "source": [
    "n, k = map(int, input().split())\n",
    "\n",
    "arr_a = list(map(int, input().split()))\n",
    "arr_b = list(map(int, input().split()))\n",
    "\n",
    "arr_a.sort()\n",
    "arr_b.sort()\n",
    "\n",
    "for i in range(k):\n",
    "    if arr_a[i] < arr_b[n-1]:\n",
    "        arr_a[i], arr_b[n-1] = arr_b[n-1], arr_a[i]\n",
    "        n -= 1\n",
    "    else:\n",
    "        break\n",
    "    \n",
    "print(sum(arr_a))"
   ]
  },
  {
   "cell_type": "code",
   "execution_count": 2,
   "metadata": {},
   "outputs": [
    {
     "data": {
      "text/plain": [
       "[6, 6, 5, 4, 5]"
      ]
     },
     "execution_count": 2,
     "metadata": {},
     "output_type": "execute_result"
    }
   ],
   "source": [
    "# 모범 답안\n",
    "n, k = map(int, input().split())\n",
    "\n",
    "arr_a = list(map(int, input().split()))\n",
    "arr_b = list(map(int, input().split()))\n",
    "\n",
    "arr_a.sort()\n",
    "arr_b.sort(reverse=True)\n",
    "\n",
    "for i in range(k):\n",
    "    if arr_a[i] < arr_b[i]:\n",
    "        arr_a[i], arr_b[i] = arr_b[i], arr_a[i]\n",
    "    \n",
    "    else:\n",
    "        break\n",
    "print(sum(arr_a))"
   ]
  },
  {
   "cell_type": "code",
   "execution_count": null,
   "metadata": {},
   "outputs": [],
   "source": []
  }
 ],
 "metadata": {
  "kernelspec": {
   "display_name": "Python 3.8.0 64-bit",
   "language": "python",
   "name": "python3"
  },
  "language_info": {
   "codemirror_mode": {
    "name": "ipython",
    "version": 3
   },
   "file_extension": ".py",
   "mimetype": "text/x-python",
   "name": "python",
   "nbconvert_exporter": "python",
   "pygments_lexer": "ipython3",
   "version": "3.8.0"
  },
  "orig_nbformat": 4,
  "vscode": {
   "interpreter": {
    "hash": "c2e55c9285be7209c352033cdce09d8fd6005e5e0666f201e74b15d445dd77cd"
   }
  }
 },
 "nbformat": 4,
 "nbformat_minor": 2
}
