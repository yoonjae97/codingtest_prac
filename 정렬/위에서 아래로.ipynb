{
 "cells": [
  {
   "cell_type": "code",
   "execution_count": 2,
   "metadata": {},
   "outputs": [
    {
     "name": "stdout",
     "output_type": "stream",
     "text": [
      "27 15 12 "
     ]
    }
   ],
   "source": [
    "n = int(input())\n",
    "result = []\n",
    "\n",
    "for i in range(n):\n",
    "    result.append(int(input()))\n",
    "\n",
    "result.sort(reverse=True)\n",
    "\n",
    "for j in result:\n",
    "    print(j, end=' ')"
   ]
  }
 ],
 "metadata": {
  "kernelspec": {
   "display_name": "Python 3.8.0 64-bit",
   "language": "python",
   "name": "python3"
  },
  "language_info": {
   "codemirror_mode": {
    "name": "ipython",
    "version": 3
   },
   "file_extension": ".py",
   "mimetype": "text/x-python",
   "name": "python",
   "nbconvert_exporter": "python",
   "pygments_lexer": "ipython3",
   "version": "3.8.0"
  },
  "orig_nbformat": 4,
  "vscode": {
   "interpreter": {
    "hash": "c2e55c9285be7209c352033cdce09d8fd6005e5e0666f201e74b15d445dd77cd"
   }
  }
 },
 "nbformat": 4,
 "nbformat_minor": 2
}
