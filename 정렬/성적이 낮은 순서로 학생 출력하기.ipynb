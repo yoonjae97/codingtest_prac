{
 "cells": [
  {
   "cell_type": "code",
   "execution_count": 9,
   "metadata": {},
   "outputs": [
    {
     "name": "stdout",
     "output_type": "stream",
     "text": [
      "이순신 홍길동 "
     ]
    }
   ],
   "source": [
    "n = int(input())\n",
    "\n",
    "result = []\n",
    "\n",
    "\n",
    "for i in range(n):\n",
    "    lst = list(input().split())\n",
    "    result.append(lst)\n",
    "\n",
    "result = sorted(result, key=lambda x : x[1])\n",
    "\n",
    "for i in result:\n",
    "    print(i[0], end=' ')"
   ]
  },
  {
   "cell_type": "code",
   "execution_count": 10,
   "metadata": {},
   "outputs": [
    {
     "name": "stdout",
     "output_type": "stream",
     "text": [
      "이순신 홍길동 "
     ]
    }
   ],
   "source": [
    "# 복습 1회차\n",
    "n = int(input())\n",
    "\n",
    "lst = []\n",
    "\n",
    "for i in range(n):\n",
    "    lst.append((input().split()))\n",
    "\n",
    "lst = sorted(lst, key = lambda x: x[1])\n",
    "\n",
    "for i in lst:\n",
    "    print(i[0], end=' ')\n"
   ]
  }
 ],
 "metadata": {
  "kernelspec": {
   "display_name": "Python 3.8.0 64-bit",
   "language": "python",
   "name": "python3"
  },
  "language_info": {
   "codemirror_mode": {
    "name": "ipython",
    "version": 3
   },
   "file_extension": ".py",
   "mimetype": "text/x-python",
   "name": "python",
   "nbconvert_exporter": "python",
   "pygments_lexer": "ipython3",
   "version": "3.8.0 (tags/v3.8.0:fa919fd, Oct 14 2019, 19:37:50) [MSC v.1916 64 bit (AMD64)]"
  },
  "orig_nbformat": 4,
  "vscode": {
   "interpreter": {
    "hash": "c2e55c9285be7209c352033cdce09d8fd6005e5e0666f201e74b15d445dd77cd"
   }
  }
 },
 "nbformat": 4,
 "nbformat_minor": 2
}
