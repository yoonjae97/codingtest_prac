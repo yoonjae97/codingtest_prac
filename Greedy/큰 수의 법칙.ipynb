{
 "cells": [
  {
   "cell_type": "code",
   "execution_count": 3,
   "id": "cab5cd73",
   "metadata": {},
   "outputs": [],
   "source": [
    "import time"
   ]
  },
  {
   "cell_type": "code",
   "execution_count": 15,
   "id": "c39798b9",
   "metadata": {},
   "outputs": [
    {
     "name": "stdout",
     "output_type": "stream",
     "text": [
      "47\n"
     ]
    }
   ],
   "source": [
    "# 단순하게 푸는 답안 예시\n",
    "n, m ,k = map(int, input().split())\n",
    "lst = list(map(int, input().split()))\n",
    "lst.sort(reverse=True)\n",
    "\n",
    "result = 0\n",
    "\n",
    "while True:\n",
    "    for i in range(k):\n",
    "        if m == 0:\n",
    "            break\n",
    "        result += lst[0]\n",
    "        m -= 1\n",
    "    \n",
    "    if m == 0:\n",
    "        break\n",
    "\n",
    "    result += lst[1]\n",
    "    m -= 1\n",
    "\n",
    "\n",
    "print(result)\n",
    "\n",
    "    "
   ]
  },
  {
   "cell_type": "markdown",
   "id": "01a1e0da",
   "metadata": {},
   "source": [
    "주어진 배열에서 가장 큰 수가 연속적으로 k번 더해질 수 있다.\n",
    "  #\n",
    "이후에는 1번 2번째로 큰 수가 더해져야 한다.\n",
    "  #\n",
    "(a, a, a, ..., a, b) 형태로 반복된다. 길이는 k + 1\n",
    "  #\n",
    "(총 더해지는 횟수 m 을 k+1로 나눈 값만큼 수열을 반복) + ((m % (k+1))은 k보다 작으므로 가장 큰 수를 나머지 값만큼 더한다) = 최종값을 구할 수 있을 것이다."
   ]
  },
  {
   "cell_type": "code",
   "execution_count": 16,
   "id": "d5cbce8e",
   "metadata": {},
   "outputs": [
    {
     "name": "stdout",
     "output_type": "stream",
     "text": [
      "46\n"
     ]
    }
   ],
   "source": [
    "# 간단하게 푸는 예시\n",
    "\n",
    "n, m ,k = map(int, input().split())\n",
    "lst = list(map(int, input().split()))\n",
    "lst.sort(reverse=True)\n",
    "\n",
    "result = 0\n",
    "result += ((lst[0]*k)+lst[1]) * (m // (k+1))\n",
    "result += (lst[0] * (m % (k+1)))\n",
    "\n",
    "print(result)"
   ]
  },
  {
   "cell_type": "code",
   "execution_count": null,
   "id": "aabddd6d",
   "metadata": {},
   "outputs": [],
   "source": []
  }
 ],
 "metadata": {
  "kernelspec": {
   "display_name": "Python 3.8.0 64-bit",
   "language": "python",
   "name": "python3"
  },
  "language_info": {
   "codemirror_mode": {
    "name": "ipython",
    "version": 3
   },
   "file_extension": ".py",
   "mimetype": "text/x-python",
   "name": "python",
   "nbconvert_exporter": "python",
   "pygments_lexer": "ipython3",
   "version": "3.8.0"
  },
  "vscode": {
   "interpreter": {
    "hash": "c2e55c9285be7209c352033cdce09d8fd6005e5e0666f201e74b15d445dd77cd"
   }
  }
 },
 "nbformat": 4,
 "nbformat_minor": 5
}
