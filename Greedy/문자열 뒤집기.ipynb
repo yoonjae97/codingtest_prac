{
 "cells": [
  {
   "cell_type": "code",
   "execution_count": 20,
   "metadata": {},
   "outputs": [],
   "source": [
    "import math"
   ]
  },
  {
   "cell_type": "code",
   "execution_count": 21,
   "metadata": {},
   "outputs": [
    {
     "name": "stdout",
     "output_type": "stream",
     "text": [
      "2\n"
     ]
    }
   ],
   "source": [
    "s = input()\n",
    "start = s[0]\n",
    "count = 0\n",
    "\n",
    "for i in range(0, len(s)):\n",
    "    if (i + 1) <= (len(s) - 1):\n",
    "        \n",
    "        if s[i] == s[i+1]:\n",
    "            continue\n",
    "\n",
    "        else:\n",
    "            count += 1\n",
    "\n",
    "print(math.ceil(count/2))"
   ]
  },
  {
   "cell_type": "code",
   "execution_count": null,
   "metadata": {},
   "outputs": [],
   "source": [
    "# 답안\n",
    "\n",
    "data = input()\n",
    "\n",
    "count0 = 0\n",
    "count1 = 0\n",
    "\n",
    "if data[0] == '1':\n",
    "    count0 += 1\n",
    "else:\n",
    "    count1 += 1\n",
    "\n",
    "for i in range(len(data) - 1):\n",
    "    if data[i + 1] == '1':\n",
    "        count0 += 1\n",
    "    else:\n",
    "        count1 += 1\n",
    "\n",
    "print(min(count0, count1))"
   ]
  }
 ],
 "metadata": {
  "kernelspec": {
   "display_name": "Python 3",
   "language": "python",
   "name": "python3"
  },
  "language_info": {
   "codemirror_mode": {
    "name": "ipython",
    "version": 3
   },
   "file_extension": ".py",
   "mimetype": "text/x-python",
   "name": "python",
   "nbconvert_exporter": "python",
   "pygments_lexer": "ipython3",
   "version": "3.8.0"
  },
  "orig_nbformat": 4,
  "vscode": {
   "interpreter": {
    "hash": "c2e55c9285be7209c352033cdce09d8fd6005e5e0666f201e74b15d445dd77cd"
   }
  }
 },
 "nbformat": 4,
 "nbformat_minor": 2
}
