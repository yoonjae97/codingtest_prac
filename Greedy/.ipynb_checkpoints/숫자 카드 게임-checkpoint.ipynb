{
 "cells": [
  {
   "cell_type": "code",
   "execution_count": 16,
   "id": "7d6f6f29",
   "metadata": {},
   "outputs": [],
   "source": [
    "import time"
   ]
  },
  {
   "cell_type": "code",
   "execution_count": 17,
   "id": "03a922cc",
   "metadata": {},
   "outputs": [
    {
     "name": "stdout",
     "output_type": "stream",
     "text": [
      "걸린시간 0.0\n"
     ]
    }
   ],
   "source": [
    "data = [[3, 1, 2], [4, 1, 4], [2, 2, 2]]\n",
    "\n",
    "def func1(data):\n",
    "    max_num = []\n",
    "    for i in range(len(data)):\n",
    "        if i == 0:\n",
    "            a = min(data[i])\n",
    "        else: \n",
    "            if a < min(data[i]):\n",
    "                a = min(data[i])\n",
    "            else:\n",
    "                continue\n",
    "                \n",
    "    return a\n",
    "\n",
    "start = time.time()\n",
    "\n",
    "func1(data)\n",
    "\n",
    "end = time.time()\n",
    "\n",
    "print(f'걸린시간 {end - start}')"
   ]
  },
  {
   "cell_type": "markdown",
   "id": "ea38bf27",
   "metadata": {},
   "source": [
    "각 행에서 가장 작은 수를 추출하고 그 중에서 가장 큰 수를 뽑을 때 값인데\n",
    "해당 값의 행을 추출하는 것으로 잘못 인식. 문제를 좀 더 꼼꼼히 읽는 연습 필요"
   ]
  },
  {
   "cell_type": "code",
   "execution_count": null,
   "id": "77411117",
   "metadata": {},
   "outputs": [],
   "source": [
    "## min 함수 이용 답안\n",
    "\n",
    "n, m = map(int, input().split())\n",
    "\n",
    "result = 0\n",
    "\n",
    "for i in range(n):\n",
    "    data = list(map(int, input().split()))\n",
    "    \n",
    "    min_value = min(data)\n",
    "    \n",
    "    result = max(result, min_value)\n",
    "    \n",
    "print(result)"
   ]
  },
  {
   "cell_type": "code",
   "execution_count": null,
   "id": "da8314c8",
   "metadata": {},
   "outputs": [],
   "source": [
    "## 2중 반복문 구조 이용 답안\n",
    "\n",
    "n, m = map(int, input().split())\n",
    "\n",
    "result = 0\n",
    "\n",
    "for i in range(n):\n",
    "    data = list(map(int, input().split()))\n",
    "    \n",
    "    min_value = 10001\n",
    "    \n",
    "    for a in data:\n",
    "        min_value = min(min_value, a)\n",
    "        \n",
    "    result =  max(result, min_value)\n",
    "    \n",
    "print(result)"
   ]
  }
 ],
 "metadata": {
  "kernelspec": {
   "display_name": "Python 3 (ipykernel)",
   "language": "python",
   "name": "python3"
  },
  "language_info": {
   "codemirror_mode": {
    "name": "ipython",
    "version": 3
   },
   "file_extension": ".py",
   "mimetype": "text/x-python",
   "name": "python",
   "nbconvert_exporter": "python",
   "pygments_lexer": "ipython3",
   "version": "3.8.0"
  }
 },
 "nbformat": 4,
 "nbformat_minor": 5
}
