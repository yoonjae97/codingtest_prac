{
 "cells": [
  {
   "cell_type": "code",
   "execution_count": 28,
   "metadata": {},
   "outputs": [
    {
     "name": "stdout",
     "output_type": "stream",
     "text": [
      "576\n"
     ]
    }
   ],
   "source": [
    "data = input()\n",
    "lst = []\n",
    "\n",
    "for i in range(len(data)):\n",
    "    lst.append(int(data[i]))\n",
    "\n",
    "result = int(lst[0])\n",
    "\n",
    "\n",
    "for i in range(1, len(lst)):\n",
    "    if result <= 1 or lst[i] <= 1:\n",
    "        result += lst[i]\n",
    "\n",
    "    else:\n",
    "        result *= lst[i]\n",
    "\n",
    "print(result)\n",
    "    "
   ]
  },
  {
   "cell_type": "code",
   "execution_count": 29,
   "metadata": {},
   "outputs": [
    {
     "name": "stdout",
     "output_type": "stream",
     "text": [
      "576\n"
     ]
    }
   ],
   "source": [
    "# 모범 답안\n",
    "\n",
    "data = input()\n",
    "\n",
    "result = int(data[0])\n",
    "\n",
    "for i in range(1, len(data)):\n",
    "\n",
    "    num = int(data[i])\n",
    "\n",
    "    if num <= 1 or result <= 1:\n",
    "        result += num\n",
    "    \n",
    "    else:\n",
    "        result *= num\n",
    "\n",
    "print(result)"
   ]
  }
 ],
 "metadata": {
  "kernelspec": {
   "display_name": "Python 3",
   "language": "python",
   "name": "python3"
  },
  "language_info": {
   "codemirror_mode": {
    "name": "ipython",
    "version": 3
   },
   "file_extension": ".py",
   "mimetype": "text/x-python",
   "name": "python",
   "nbconvert_exporter": "python",
   "pygments_lexer": "ipython3",
   "version": "3.8.0"
  },
  "orig_nbformat": 4,
  "vscode": {
   "interpreter": {
    "hash": "c2e55c9285be7209c352033cdce09d8fd6005e5e0666f201e74b15d445dd77cd"
   }
  }
 },
 "nbformat": 4,
 "nbformat_minor": 2
}
