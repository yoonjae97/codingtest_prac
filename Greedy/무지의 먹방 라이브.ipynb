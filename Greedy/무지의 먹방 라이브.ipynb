{
 "cells": [
  {
   "cell_type": "code",
   "execution_count": 38,
   "metadata": {},
   "outputs": [
    {
     "name": "stdout",
     "output_type": "stream",
     "text": [
      "1\n"
     ]
    }
   ],
   "source": [
    "k = int(input())\n",
    "data = list(map(int, input().split()))\n",
    "time = 0\n",
    "i = 0\n",
    "\n",
    "while True:\n",
    "\n",
    "    if i > (len(data) - 1):\n",
    "        i = 0\n",
    "\n",
    "\n",
    "    if data[i] > 0:\n",
    "        data[i] -= 1\n",
    "        i += 1\n",
    "        time += 1\n",
    "    \n",
    "    else:\n",
    "        i += 1\n",
    "        continue\n",
    "\n",
    "    if time == k:\n",
    "        break\n",
    "\n",
    "for x in range(len(data)):\n",
    "    if data[x] != 0:\n",
    "        print(x+1)\n",
    "        break"
   ]
  },
  {
   "cell_type": "code",
   "execution_count": 40,
   "metadata": {},
   "outputs": [],
   "source": [
    "import heapq"
   ]
  },
  {
   "cell_type": "code",
   "execution_count": 44,
   "metadata": {},
   "outputs": [
    {
     "name": "stdout",
     "output_type": "stream",
     "text": [
      "[(1, 2), (3, 1), (2, 3)]\n"
     ]
    },
    {
     "data": {
      "text/plain": [
       "1"
      ]
     },
     "execution_count": 44,
     "metadata": {},
     "output_type": "execute_result"
    }
   ],
   "source": [
    "# 답안\n",
    "\n",
    "def solution(food_times, k):\n",
    "    if sum(food_times) <= k:\n",
    "        return -1\n",
    "    \n",
    "    q = []\n",
    "\n",
    "    for i in range(len(food_times)):\n",
    "        heapq.heappush(q, (food_times[i], i + 1))\n",
    "    print(q)\n",
    "    sum_value = 0\n",
    "    previous = 0\n",
    "    length = len(food_times)\n",
    "\n",
    "    while sum_value + ((q[0][0] - previous) * length) <= k:\n",
    "        now = heapq.heappop(q)[0]\n",
    "        sum_value += (now - previous) * length\n",
    "        length -= 1\n",
    "        previous = now\n",
    "    \n",
    "    result = sorted(q, key = lambda x: x[1])\n",
    "    return result[(k - sum_value) % length][1]\n",
    "\n",
    "food_times = [3, 1, 2]\n",
    "k = 5\n",
    "solution(food_times, k)"
   ]
  }
 ],
 "metadata": {
  "kernelspec": {
   "display_name": "Python 3",
   "language": "python",
   "name": "python3"
  },
  "language_info": {
   "codemirror_mode": {
    "name": "ipython",
    "version": 3
   },
   "file_extension": ".py",
   "mimetype": "text/x-python",
   "name": "python",
   "nbconvert_exporter": "python",
   "pygments_lexer": "ipython3",
   "version": "3.8.0 (tags/v3.8.0:fa919fd, Oct 14 2019, 19:37:50) [MSC v.1916 64 bit (AMD64)]"
  },
  "orig_nbformat": 4,
  "vscode": {
   "interpreter": {
    "hash": "c2e55c9285be7209c352033cdce09d8fd6005e5e0666f201e74b15d445dd77cd"
   }
  }
 },
 "nbformat": 4,
 "nbformat_minor": 2
}
