{
 "cells": [
  {
   "cell_type": "markdown",
   "metadata": {},
   "source": [
    "## 문제링크 : https://www.acmicpc.net/problem/1051"
   ]
  },
  {
   "cell_type": "code",
   "execution_count": 64,
   "metadata": {},
   "outputs": [
    {
     "name": "stdout",
     "output_type": "stream",
     "text": [
      "16\n"
     ]
    }
   ],
   "source": [
    "import sys\n",
    "\n",
    "n, m = map(int, sys.stdin.readline().split())\n",
    "square = [list(map(int, sys.stdin.readline().strip())) for _ in range(n)]\n",
    "\n",
    "def find_rec(x, y):\n",
    "    drx, dry = 1, 1\n",
    "    max_val = 1\n",
    "    while True:\n",
    "        if x + drx < n and y + dry < m :\n",
    "            if square[x][y] == square[x + drx][y + dry] == square[x + drx][y] == square[x][y + dry]:\n",
    "                max_val = drx + 1\n",
    "            drx += 1\n",
    "            dry += 1\n",
    "        else:\n",
    "            return max_val**2\n",
    "\n",
    "result = 1\n",
    "for i in range(n):\n",
    "    for j in range(m):\n",
    "        result = max(find_rec(i, j), result)\n",
    "\n",
    "print(result)"
   ]
  },
  {
   "cell_type": "markdown",
   "metadata": {},
   "source": [
    "#### 생각정리\n",
    "- nxm 직사각형에서 정사각형을 찾는 경우 n,m중에 작은 값이 최대 정사각형이다\n",
    "- n,m의 최대가 50개 이므로 굳이 다 안볼 필요가 없다\n",
    "- 좌표는 우, 하, 우하단으로 1씩 커진다\n",
    "- 우하단 좌표만 확인하면 우, 하는 자동으로 범위내에 존재한다\n",
    "- 좌표에 더할값은 다 만들지말고 x, y 각 1개씩만 만들어서 활용하자"
   ]
  }
 ],
 "metadata": {
  "kernelspec": {
   "display_name": "Python 3",
   "language": "python",
   "name": "python3"
  },
  "language_info": {
   "codemirror_mode": {
    "name": "ipython",
    "version": 3
   },
   "file_extension": ".py",
   "mimetype": "text/x-python",
   "name": "python",
   "nbconvert_exporter": "python",
   "pygments_lexer": "ipython3",
   "version": "3.8.0"
  }
 },
 "nbformat": 4,
 "nbformat_minor": 2
}
