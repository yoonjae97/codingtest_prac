{
 "cells": [
  {
   "cell_type": "code",
   "execution_count": null,
   "metadata": {},
   "outputs": [],
   "source": [
    "from collections import Counter\n",
    "def solution(input_string):\n",
    "    temp_list = []\n",
    "    idx = 0\n",
    "    for i in range(1, len(input_string)):\n",
    "        if input_string[idx] != input_string[i]:\n",
    "            temp_list.append(input_string[idx])\n",
    "            idx = i\n",
    "    temp_list.append(input_string[idx])\n",
    "    \n",
    "    result = ''\n",
    "\n",
    "    for k, i in Counter(temp_list).items():\n",
    "        if i > 1:\n",
    "            result += k\n",
    "\n",
    "    if (result == ''):\n",
    "        return \"N\"\n",
    "    else:\n",
    "        return ''.join(sorted(result))\n",
    "    return answer\n",
    "\n",
    "# temp리스트를 만들고 다음 인덱스의 알파벳이 같으면 인덱스 + 1\n",
    "# 다르면 끊어서 temp에 저장\n",
    "# 예를 들면 eeddee 같은 경우는 ['ee', 'dd', 'ee']\n",
    "# 그런다음 리스트의 각 값의 0번 인덱스만 갖도록 리스트를 변경\n",
    "# 변경된 리스트에 Counter 적용해서 value가 2이상인 경우만 result에 저장\n",
    "# result가 '' 인경우 \"N\" return 아닐 경우는 sorted로 정렬해서 return"
   ]
  }
 ],
 "metadata": {
  "language_info": {
   "name": "python"
  },
  "orig_nbformat": 4
 },
 "nbformat": 4,
 "nbformat_minor": 2
}
