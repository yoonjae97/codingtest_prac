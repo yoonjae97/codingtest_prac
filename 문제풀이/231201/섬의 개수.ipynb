{
 "cells": [
  {
   "cell_type": "markdown",
   "metadata": {},
   "source": [
    "## 문제링크 : https://www.acmicpc.net/problem/4963"
   ]
  },
  {
   "cell_type": "code",
   "execution_count": null,
   "metadata": {},
   "outputs": [],
   "source": [
    "import sys\n",
    "sys.setrecursionlimit(10**6)\n",
    "\n",
    "def dfs(visited_map, x, y):\n",
    "    dx = [-1, -1, 0, 1, 1, 1, 0, -1]\n",
    "    dy = [0, -1, -1, -1, 0, 1, 1, 1]\n",
    "    visited_map[x][y] = 0\n",
    "    for i in range(8):\n",
    "        tx = x + dx[i]\n",
    "        ty = y + dy[i]\n",
    "\n",
    "        if 0 <= tx < h and 0 <= ty < w and visited_map[tx][ty] == '1':\n",
    "            \n",
    "            dfs(visited_map, tx, ty)\n",
    "\n",
    "while True:\n",
    "    w, h = map(int, input().split())\n",
    "\n",
    "    if w == 0 and h == 0 :\n",
    "        break\n",
    "    \n",
    "    visited_map = [list(input().split()) for _ in range(h)]\n",
    "    result = 0\n",
    "    for i in range(h):\n",
    "        for j in range(w):\n",
    "            if visited_map[i][j] == '1':\n",
    "                dfs(visited_map, i, j)\n",
    "                result += 1\n",
    "\n",
    "    \n",
    "    print(result)\n",
    "\n"
   ]
  },
  {
   "cell_type": "code",
   "execution_count": null,
   "metadata": {},
   "outputs": [],
   "source": [
    "import sys\n",
    "from collections import deque\n",
    "sys.setrecursionlimit(10**6)\n",
    "\n",
    "def bfs(visited_map, x, y):\n",
    "    dx = [-1, -1, 0, 1, 1, 1, 0, -1]\n",
    "    dy = [0, -1, -1, -1, 0, 1, 1, 1]\n",
    "    visited_map[x][y] = 0\n",
    "    queue = deque()\n",
    "    queue.append((x, y))\n",
    "    while queue:\n",
    "        x, y = queue.popleft()\n",
    "\n",
    "        for i in range(8):\n",
    "            tx = x + dx[i]\n",
    "            ty = y + dy[i]\n",
    "\n",
    "            if 0 <= tx < h and 0 <= ty < w and visited_map[tx][ty] == '1':\n",
    "                queue.append((tx, ty))\n",
    "                visited_map[tx][ty] = 0\n",
    "\n",
    "while True:\n",
    "    w, h = map(int, input().split())\n",
    "\n",
    "    if w == 0 and h == 0 :\n",
    "        break\n",
    "    \n",
    "    visited_map = [list(input().split()) for _ in range(h)]\n",
    "    result = 0\n",
    "    for i in range(h):\n",
    "        for j in range(w):\n",
    "            if visited_map[i][j] == '1':\n",
    "                bfs(visited_map, i, j)\n",
    "                result += 1\n",
    "\n",
    "    \n",
    "    print(result)\n",
    "\n"
   ]
  },
  {
   "cell_type": "markdown",
   "metadata": {},
   "source": [
    "## 생각정리\n",
    "- dfs, bfs 두 가지로 풀 수 있을 듯 하다.\n",
    "- 방향은 상하좌우 대각선 전부 봐야 한다.\n",
    "- 방문처리를 해서 이미 간 곳은 못가도록 하는게 좋을 듯 하다."
   ]
  }
 ],
 "metadata": {
  "kernelspec": {
   "display_name": "Python 3",
   "language": "python",
   "name": "python3"
  },
  "language_info": {
   "codemirror_mode": {
    "name": "ipython",
    "version": 3
   },
   "file_extension": ".py",
   "mimetype": "text/x-python",
   "name": "python",
   "nbconvert_exporter": "python",
   "pygments_lexer": "ipython3",
   "version": "3.8.0"
  }
 },
 "nbformat": 4,
 "nbformat_minor": 2
}
