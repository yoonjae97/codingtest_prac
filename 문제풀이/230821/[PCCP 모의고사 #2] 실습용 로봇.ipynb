{
 "cells": [
  {
   "cell_type": "code",
   "execution_count": null,
   "metadata": {},
   "outputs": [],
   "source": [
    "def solution(command):\n",
    "\n",
    "    #북 동 남 서\n",
    "    dx = [0, 1, 0, -1]\n",
    "    dy = [1, 0, -1, 0]\n",
    "    \n",
    "    n_dir = 0\n",
    "    nx = 0\n",
    "    ny = 0\n",
    "\n",
    "    for i in command:\n",
    "        if i == 'R':\n",
    "            n_dir += 1\n",
    "            if n_dir == 4:\n",
    "                n_dir = 0\n",
    "\n",
    "        if i == 'L':\n",
    "            n_dir -= 1\n",
    "            if n_dir == -1:\n",
    "                n_dir = 3\n",
    "\n",
    "        if i == 'G':\n",
    "            nx += dx[n_dir]\n",
    "            ny += dy[n_dir]\n",
    "            \n",
    "        if i == 'B':\n",
    "            nx -= dx[n_dir]\n",
    "            ny -= dy[n_dir]\n",
    "    return [nx, ny]"
   ]
  }
 ],
 "metadata": {
  "language_info": {
   "name": "python"
  },
  "orig_nbformat": 4
 },
 "nbformat": 4,
 "nbformat_minor": 2
}
