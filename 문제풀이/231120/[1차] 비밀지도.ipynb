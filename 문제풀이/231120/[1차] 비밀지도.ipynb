{
 "cells": [
  {
   "cell_type": "markdown",
   "metadata": {},
   "source": [
    "문제 링크 : https://school.programmers.co.kr/learn/courses/30/lessons/17681?language=python3"
   ]
  },
  {
   "cell_type": "code",
   "execution_count": null,
   "metadata": {},
   "outputs": [],
   "source": [
    "def solution(n, arr1, arr2):\n",
    "    n_lst = [2**i for i in range(16)]\n",
    "    \n",
    "    arr1_lst = [get_str(n_lst, i, n-1) for i in arr1]\n",
    "    arr2_lst = [get_str(n_lst, i, n-1) for i in arr2]\n",
    "\n",
    "    result = []\n",
    "    for i in range(n):\n",
    "        temp = \"\"\n",
    "        for j in range(n):\n",
    "            if arr1_lst[i][j] == ' ' and arr2_lst[i][j] == ' ':\n",
    "                temp += ' '\n",
    "            else:\n",
    "                temp += \"#\"\n",
    "        result.append(temp)\n",
    "    return result\n",
    "\n",
    "def get_str(n_lst, val, n):\n",
    "    num = val\n",
    "    result = \"\"\n",
    "    for i in range(n, -1, -1):\n",
    "        #print()\n",
    "        if num >=  n_lst[i]:\n",
    "            num -= n_lst[i]\n",
    "            result += \"#\"\n",
    "            \n",
    "        else :\n",
    "            result += \" \"\n",
    "\n",
    "    return result"
   ]
  },
  {
   "cell_type": "markdown",
   "metadata": {},
   "source": [
    "### 생각 정리\n",
    "- 2^15 까지 존재할 수 있다\n",
    "- 그러면 2^15까지 저장한 리스트를 1개 생성\n",
    "- 리스트에서 정수합보다 바로작은 인덱스 추출\n",
    "- 가장 큰값부터 빼나가면 되지 않을까?"
   ]
  },
  {
   "cell_type": "markdown",
   "metadata": {},
   "source": [
    "## 배운점\n",
    "- 2진수, 8진수, 16진수로 변경해주는 코드가 있다는 것을 몰랐었다..\n",
    "- bin, oct, hex를 사용하면 변환 할 수 있다.\n",
    "- zfill을 활용하면 앞에 0으로 채울 수 있고 rjust를 사용하면 원하는 문자로 채울 수 있다.\n",
    "- 문자열.zfill(숫자) / 문자열.rjust(자리수, 채울 문자)\n",
    "- 참고 자료 : https://yang-wistory1009.tistory.com/99"
   ]
  }
 ],
 "metadata": {
  "kernelspec": {
   "display_name": "Python 3",
   "language": "python",
   "name": "python3"
  },
  "language_info": {
   "name": "python",
   "version": "3.8.0"
  }
 },
 "nbformat": 4,
 "nbformat_minor": 2
}
