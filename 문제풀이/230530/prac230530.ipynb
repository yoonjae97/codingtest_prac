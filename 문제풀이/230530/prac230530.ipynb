{
 "cells": [
  {
   "cell_type": "code",
   "execution_count": null,
   "metadata": {},
   "outputs": [],
   "source": [
    "# 내 답안\n",
    "import re\n",
    "\n",
    "def solution(s):\n",
    "    dic = {}\n",
    "    s = re.sub(r'[^0-9,]', '', s)\n",
    "    temp = s.split(',')\n",
    "    for i in temp:\n",
    "        try:\n",
    "            dic[int(i)] += 1\n",
    "        except:\n",
    "            dic[int(i)] = 1\n",
    "            \n",
    "    return [k for k, v in sorted(dic.items(), key = lambda x : x[1], reverse=True)]"
   ]
  },
  {
   "cell_type": "code",
   "execution_count": null,
   "metadata": {},
   "outputs": [],
   "source": [
    "# 모범 답안\n",
    "def solution(s):\n",
    "\n",
    "    s = Counter(re.findall('\\d+', s))\n",
    "    return list(map(int, [k for k, v in sorted(s.items(), key=lambda x: x[1], reverse=True)]))\n",
    "\n",
    "import re\n",
    "from collections import Counter"
   ]
  },
  {
   "attachments": {},
   "cell_type": "markdown",
   "metadata": {},
   "source": [
    "- 문제 출처 : https://school.programmers.co.kr/learn/courses/30/lessons/64065\n",
    "- s : \"{{2},{2,1},{2,1,3},{2,1,3,4}}\"\tresult : [2, 1, 3, 4]\n",
    "- 위와 같은 형식으로 주어지는데 dic타입이 아닌 s가 문자열로 주어지기 때문에 인덱싱이 아닌 정규표현식을 사용하여 숫자와 ,만 남겼다.\n",
    "- ,도 남긴 이유는 숫자가 한자리 수가 아닐경우에는 숫자끼리 붙어버리기 때문 ex) {20, 111} -> 20111\n",
    "- 따라서 구분자로 ,를 사용한다음 각 숫자가 등장한 횟수를 세고 등장 빈도가 높은순으로 정렬하였다.\n",
    "\n",
    "----------------------\n",
    "- for문으로 dict에 직접 넣을 필요없이 Counter 함수를 사용하면 한줄로 줄일 수 있었다.\n"
   ]
  }
 ],
 "metadata": {
  "language_info": {
   "name": "python"
  },
  "orig_nbformat": 4
 },
 "nbformat": 4,
 "nbformat_minor": 2
}
