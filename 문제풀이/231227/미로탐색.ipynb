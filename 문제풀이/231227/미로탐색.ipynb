{
 "cells": [
  {
   "cell_type": "markdown",
   "metadata": {},
   "source": [
    "문제링크 : https://www.acmicpc.net/problem/2178"
   ]
  },
  {
   "cell_type": "code",
   "execution_count": 74,
   "metadata": {},
   "outputs": [],
   "source": [
    "import sys\n",
    "from collections import deque\n",
    "\n",
    "input = sys.stdin.readline\n",
    "n, m = map(int, input().split())\n",
    "map_lst = [list(map(int, input().strip())) for i in range(n)]\n",
    "\n",
    "dx = [-1, 0, 1, 0]\n",
    "dy = [0, 1, 0, -1]\n",
    "\n",
    "queue = deque()\n",
    "queue.append((0, 0))\n",
    "\n",
    "while queue:\n",
    "    x, y = queue.popleft()\n",
    "    for i in range(4):\n",
    "        nx = x + dx[i]\n",
    "        ny = y + dy[i]\n",
    "        if 0 <= nx < n and 0 <= ny < m and map_lst[nx][ny] == 1:\n",
    "            queue.append((nx, ny))\n",
    "            map_lst[nx][ny] = map_lst[x][y] + 1\n",
    "            \n",
    "    \n",
    "print(map_lst[n-1][m-1])"
   ]
  },
  {
   "cell_type": "markdown",
   "metadata": {},
   "source": [
    "## 생각정리\n",
    "- 최소의 칸 수 이기 때문에 bfs를 이용하면 풀 수 있다고 생각\n",
    "- 현재 칸을 기준으로 상하좌우가 +1씩 되고 대각선이 없기 때문에 처음 1에 방문해서 갱신할 때가 해당 칸 방문의 최소점\n",
    "- 따라서 visited로 따로 방문 리스트를 만들 필요없이 방문한 위치의 숫자가 1인지만 확인하면 될 것이라고 생각"
   ]
  }
 ],
 "metadata": {
  "kernelspec": {
   "display_name": "subs_predict",
   "language": "python",
   "name": "python3"
  },
  "language_info": {
   "codemirror_mode": {
    "name": "ipython",
    "version": 3
   },
   "file_extension": ".py",
   "mimetype": "text/x-python",
   "name": "python",
   "nbconvert_exporter": "python",
   "pygments_lexer": "ipython3",
   "version": "3.8.0"
  }
 },
 "nbformat": 4,
 "nbformat_minor": 2
}
