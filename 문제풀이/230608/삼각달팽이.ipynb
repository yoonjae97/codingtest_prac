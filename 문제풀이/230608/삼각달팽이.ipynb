{
 "cells": [
  {
   "cell_type": "code",
   "execution_count": null,
   "metadata": {},
   "outputs": [],
   "source": [
    "def solution(n):\n",
    "    res = [[0] * n for _ in range(n)]\n",
    "    answer = []\n",
    "    x, y = -1, 0\n",
    "    num = 1\n",
    "    \n",
    "    for i in range(n):\n",
    "        for j in range(i, n):\n",
    "            if i % 3 == 0:\n",
    "                x += 1\n",
    "            elif i % 3 == 1:\n",
    "                y += 1\n",
    "            elif i % 3 == 2:\n",
    "                x -= 1\n",
    "                y -= 1\n",
    "            res[x][y] = num\n",
    "            num += 1\n",
    "            \n",
    "    for i in res:\n",
    "        for j in i:\n",
    "            if j != 0:\n",
    "                answer.append(j)\n",
    "    \n",
    "    return answer"
   ]
  },
  {
   "attachments": {},
   "cell_type": "markdown",
   "metadata": {},
   "source": [
    "#### 참고코드 : https://hbj0209.tistory.com/68\n",
    "\n",
    "- 그래프 탐색의 형태로 구현해보려 했으나 실패\n",
    "- 이중 반복문의 형태로 아래, 오른쪽, 왼쪽 대각선으로 이동하는 것을 구현하는게 중요"
   ]
  },
  {
   "attachments": {},
   "cell_type": "markdown",
   "metadata": {},
   "source": []
  }
 ],
 "metadata": {
  "language_info": {
   "name": "python"
  },
  "orig_nbformat": 4
 },
 "nbformat": 4,
 "nbformat_minor": 2
}
