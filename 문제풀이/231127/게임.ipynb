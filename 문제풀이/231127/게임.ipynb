{
 "cells": [
  {
   "cell_type": "markdown",
   "metadata": {},
   "source": [
    "문제 링크 : https://www.acmicpc.net/problem/1072"
   ]
  },
  {
   "cell_type": "code",
   "execution_count": 21,
   "metadata": {},
   "outputs": [
    {
     "name": "stdout",
     "output_type": "stream",
     "text": [
      "r 47\n",
      "u 0 499999999 64\n",
      "u 0 249999998 57\n",
      "u 0 124999998 52\n",
      "u 0 62499998 50\n",
      "u 0 31249998 48\n",
      "o 15625000 31249998 47\n",
      "u 15625000 23437498 48\n",
      "u 15625000 19531248 48\n",
      "o 17578125 19531248 47\n",
      "o 18554687 19531248 47\n",
      "o 19042968 19531248 47\n",
      "u 19042968 19287107 48\n",
      "o 19165038 19287107 47\n",
      "o 19226073 19287107 47\n",
      "u 19226073 19256589 48\n",
      "u 19226073 19241330 48\n",
      "u 19226073 19233700 48\n",
      "o 19229887 19233700 47\n",
      "u 19229887 19231792 48\n",
      "u 19229887 19230838 48\n",
      "o 19230363 19230838 47\n",
      "o 19230601 19230838 47\n",
      "o 19230720 19230838 47\n",
      "u 19230720 19230778 48\n",
      "o 19230750 19230778 47\n",
      "o 19230765 19230778 47\n",
      "u 19230765 19230770 48\n",
      "o 19230768 19230770 47\n",
      "o 19230770 19230770 47\n",
      "u 19230770 19230769 48\n",
      "19230770\n"
     ]
    }
   ],
   "source": [
    "import math\n",
    "x, y  = map(int, input().split())\n",
    "result = math.floor((y*100/x))\n",
    "left = 0\n",
    "right = x\n",
    "res = x\n",
    "print('r', result)\n",
    "if result >= 99:\n",
    "    print(-1)\n",
    "    exit()\n",
    "while left<=right:\n",
    "    mid = (left + right) // 2\n",
    "\n",
    "    if (100*(y+mid))//(x+mid) > result:\n",
    "        res = mid\n",
    "        right = mid - 1\n",
    "        print('u', left, right, (100*(y+mid))//(x+mid))\n",
    "    else:\n",
    "        left = mid + 1\n",
    "        print('o', left, right, (100*(y+mid))//(x+mid))\n",
    "\n",
    "print(res)"
   ]
  }
 ],
 "metadata": {
  "kernelspec": {
   "display_name": "Python 3",
   "language": "python",
   "name": "python3"
  },
  "language_info": {
   "codemirror_mode": {
    "name": "ipython",
    "version": 3
   },
   "file_extension": ".py",
   "mimetype": "text/x-python",
   "name": "python",
   "nbconvert_exporter": "python",
   "pygments_lexer": "ipython3",
   "version": "3.8.0"
  }
 },
 "nbformat": 4,
 "nbformat_minor": 2
}
