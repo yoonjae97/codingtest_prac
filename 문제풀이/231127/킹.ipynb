{
 "cells": [
  {
   "cell_type": "markdown",
   "metadata": {},
   "source": [
    "문제 링크 : https://www.acmicpc.net/problem/1063"
   ]
  },
  {
   "cell_type": "code",
   "execution_count": 20,
   "metadata": {},
   "outputs": [
    {
     "name": "stdout",
     "output_type": "stream",
     "text": [
      "0 1 A 2 A 2\n",
      "same\n",
      "A2\n",
      "A3\n"
     ]
    }
   ],
   "source": [
    "k, s, cnt = input().split()\n",
    "\n",
    "dic = {\"R\":(1,0), \"L\":(-1, 0), \"B\":(0, -1), \"T\":(0, 1),\n",
    "      \"RT\":(1, 1), \"LT\":(-1, 1), \"RB\":(1, -1), \"LB\":(-1, -1)}\n",
    "\n",
    "kx, ky = k[0], int(k[1])\n",
    "sx, sy = s[0], int(s[1])\n",
    "for _ in range(int(cnt)):\n",
    "    i = input()\n",
    "    mx, my = dic[i]\n",
    "\n",
    "    tkx, tky = chr(ord(kx) + mx), ky + my\n",
    "\n",
    "    if \"A\" <= tkx <= \"H\" and 1 <= tky <= 8:\n",
    "        if tkx == sx and tky == sy:\n",
    "            \n",
    "            tsx, tsy = chr(ord(sx) + mx), sy + my\n",
    "            if \"A\" <= tsx <= \"H\" and 1 <= tsy <= 8:\n",
    "                kx, ky = tkx, tky\n",
    "                sx, sy = tsx, tsy\n",
    "        else:\n",
    "            kx, ky = tkx, tky\n",
    "\n",
    "print(kx+str(ky))\n",
    "print(sx+str(sy))"
   ]
  },
  {
   "cell_type": "markdown",
   "metadata": {},
   "source": [
    "## 배운점\n",
    "- ord 함수를 사용하면 영어 알파벳을 숫자로\n",
    "- chr 함수를 사용하면 숫자를 영어 알파벳으로 변경이 가능하다\n",
    "- 알파벳끼리는 비교가 가능하다"
   ]
  }
 ],
 "metadata": {
  "kernelspec": {
   "display_name": "Python 3",
   "language": "python",
   "name": "python3"
  },
  "language_info": {
   "codemirror_mode": {
    "name": "ipython",
    "version": 3
   },
   "file_extension": ".py",
   "mimetype": "text/x-python",
   "name": "python",
   "nbconvert_exporter": "python",
   "pygments_lexer": "ipython3",
   "version": "3.8.0"
  }
 },
 "nbformat": 4,
 "nbformat_minor": 2
}
