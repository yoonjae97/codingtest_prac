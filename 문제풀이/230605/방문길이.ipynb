{
 "cells": [
  {
   "cell_type": "code",
   "execution_count": null,
   "metadata": {},
   "outputs": [],
   "source": [
    "def solution(dirs):\n",
    "    map_lst = set()\n",
    "       \n",
    "    x, y = 0, 0\n",
    "    result = 0\n",
    "    \n",
    "    dic = {\"U\":(0, 1), \"R\":(1, 0), \"L\":(-1, 0), \"D\":(0, -1)}\n",
    "    \n",
    "    for i in dirs:\n",
    "        dx = x + dic[i][0]\n",
    "        dy = y + dic[i][1]\n",
    "        \n",
    "        if abs(dx) > 5 or abs(dy) > 5:\n",
    "            continue\n",
    "            \n",
    "        else:\n",
    "            map_lst.add(((y, x), (dy, dx)))\n",
    "            map_lst.add(((dy, dx), (y, x)))\n",
    "            x, y = dx, dy\n",
    "    \n",
    "    return len(map_lst) // 2"
   ]
  },
  {
   "attachments": {},
   "cell_type": "markdown",
   "metadata": {},
   "source": [
    "참고 코드 : https://velog.io/@radm90/Programmers-Lv2-%EB%B0%A9%EB%AC%B8-%EA%B8%B8%EC%9D%B4\n",
    "\n",
    "- 반복되는 문자열을 for 문을 활용해 if 문 4개를 작성하는 코드를 줄이고자 dic을 활용\n",
    "- 0으로 채워진 리스트를 생성해서 방문시 1로 바꿔주려 했으나 2가지 문제점 발생\n",
    "- 1. 방문한 위치가 아니라 경로를 찾는 것이기 때문에 중복 제거를 못함\n",
    "- 2. 좌표이기 때문에 0 리스트에서 인덱싱이 안됨\n",
    "\n",
    "- 문제풀이 도중 기존 좌표 (x, y)와 도착 좌표 (dx, dy)가 모두 있어야 경로를 식별할 수 있다는 것을 생각해냈다.\n",
    "- 이후 dic을 활용하려 했으나 실패\n",
    "\n",
    "- 위의 링크를 보고 set을 활용 및 이전 좌표 + 도착 좌표 / 도착 좌표 + 이전 좌표를 모두 저장한다음 2로 나누어서 중복을 피한 것을 참고했다."
   ]
  }
 ],
 "metadata": {
  "language_info": {
   "name": "python"
  },
  "orig_nbformat": 4
 },
 "nbformat": 4,
 "nbformat_minor": 2
}
