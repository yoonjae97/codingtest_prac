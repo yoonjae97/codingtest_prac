{
 "cells": [
  {
   "cell_type": "markdown",
   "metadata": {},
   "source": [
    "## 문제링크 : https://www.acmicpc.net/problem/1303"
   ]
  },
  {
   "cell_type": "code",
   "execution_count": 35,
   "metadata": {},
   "outputs": [
    {
     "name": "stdout",
     "output_type": "stream",
     "text": [
      "130 65\n"
     ]
    }
   ],
   "source": [
    "import sys\n",
    "sys.setrecursionlimit(10**6)\n",
    "\n",
    "def force(first, i, j, cnt):\n",
    "    dxy = [(0, -1), (-1, 0), (0, 1), (1, 0)]\n",
    "    war_map[i][j] = 'N'\n",
    "    for move in dxy:\n",
    "        tx = i + move[0]\n",
    "        ty = j + move[1]\n",
    "\n",
    "        if tx >= 0 and tx < m and ty >= 0 and ty < n and war_map[tx][ty] == first:\n",
    "            war_map[tx][ty] = 'N'\n",
    "            cnt = force(first, tx, ty, cnt+1)\n",
    "\n",
    "    return cnt\n",
    "\n",
    "n, m = map(int, input().split())\n",
    "war_map = [list(input()) for i in range(m)]\n",
    "w_force = 0\n",
    "b_force = 0\n",
    "for i in range(m):\n",
    "    for j in range(n):\n",
    "        if war_map[i][j] == 'W':\n",
    "            w_force += (force('W', i, j, 1))**2\n",
    "        elif  war_map[i][j] == 'B':\n",
    "            b_force += (force('B', i, j, 1))**2\n",
    "print(w_force, b_force)"
   ]
  },
  {
   "cell_type": "markdown",
   "metadata": {},
   "source": [
    "## 배운점\n",
    "- 참고 링크 : https://hseungyeon.tistory.com/232\n",
    "- dfs를 이용해서 방문처리까지는 했으나 값을 어떻게 리턴받을지 생각못했다\n",
    "- 재귀 함수의 각 호출은 호출 스택에 자신만의 지역변수를 갖는다(cnt)\n",
    "- 자신만의 지역변수를 따로 return해서 저장해주지 않으면 상위 호출에 반영이 되지 않는다\n",
    "- 그래서 cnt += 1은 작동하지 않고 더해진 값을 return해서 직접 변수에 넣어줘야 반영이 된다"
   ]
  }
 ],
 "metadata": {
  "kernelspec": {
   "display_name": "Python 3",
   "language": "python",
   "name": "python3"
  },
  "language_info": {
   "codemirror_mode": {
    "name": "ipython",
    "version": 3
   },
   "file_extension": ".py",
   "mimetype": "text/x-python",
   "name": "python",
   "nbconvert_exporter": "python",
   "pygments_lexer": "ipython3",
   "version": "3.8.0"
  }
 },
 "nbformat": 4,
 "nbformat_minor": 2
}
