{
 "cells": [
  {
   "cell_type": "markdown",
   "metadata": {},
   "source": [
    "## 문제링크 : https://www.acmicpc.net/problem/1021"
   ]
  },
  {
   "cell_type": "code",
   "execution_count": 42,
   "metadata": {},
   "outputs": [
    {
     "name": "stdout",
     "output_type": "stream",
     "text": [
      "27 [1, 2, 3, 4, 5, 6, 7, 8, 9, 10, 11, 12, 13, 14, 15, 16, 17, 18, 19, 20, 21, 22, 23, 24, 25, 26, 27, 28, 29, 30, 31, 32] 6\n",
      "16 [28, 29, 30, 31, 32, 1, 2, 3, 4, 5, 6, 7, 8, 9, 10, 11, 12, 13, 14, 15, 16, 17, 18, 19, 20, 21, 22, 23, 24, 25, 26] 11\n",
      "30 [17, 18, 19, 20, 21, 22, 23, 24, 25, 26, 28, 29, 30, 31, 32, 1, 2, 3, 4, 5, 6, 7, 8, 9, 10, 11, 12, 13, 14, 15] 12\n",
      "11 [31, 32, 1, 2, 3, 4, 5, 6, 7, 8, 9, 10, 11, 12, 13, 14, 15, 17, 18, 19, 20, 21, 22, 23, 24, 25, 26, 28, 29] 12\n",
      "6 [12, 13, 14, 15, 17, 18, 19, 20, 21, 22, 23, 24, 25, 26, 28, 29, 31, 32, 1, 2, 3, 4, 5, 6, 7, 8, 9, 10] 5\n",
      "23 [7, 8, 9, 10, 12, 13, 14, 15, 17, 18, 19, 20, 21, 22, 23, 24, 25, 26, 28, 29, 31, 32, 1, 2, 3, 4, 5] 13\n",
      "59\n"
     ]
    }
   ],
   "source": [
    "import sys\n",
    "n, m = map(int, sys.stdin.readline().split())\n",
    "find_lst = list(map(int, sys.stdin.readline().split()))\n",
    "queue = [i for i in range(1, n+1)]\n",
    "cnt = 0\n",
    "\n",
    "for i in find_lst:\n",
    "    if i == queue[0]:\n",
    "        queue = queue[1:]\n",
    "        continue\n",
    "\n",
    "    if queue.index(i) > len(queue)//2:\n",
    "        cnt += len(queue[queue.index(i):])\n",
    "        queue = queue[queue.index(i):] + queue[:queue.index(i)]\n",
    "        \n",
    "    else:\n",
    "        cnt += len(queue[:queue.index(i)])\n",
    "        queue = queue[queue.index(i):] + queue[:queue.index(i)]\n",
    "        \n",
    "    queue = queue[1:]\n",
    "\n",
    "print(cnt)\n"
   ]
  },
  {
   "cell_type": "markdown",
   "metadata": {},
   "source": [
    "### 아이디어 정리\n",
    "- 양방향 순환 큐라 그래서 처음엔 deque를 생각\n",
    "- 전체 큐의 길이 // 2보다 작거나 같으면 앞에서부터 옮기는게 빠르다\n",
    "- 아닐 경우는 뒤에서부터 옮기는게 빠르다\n",
    "- 그러나 반복문으로 하나씩 옮기는 것보다 인덱스를 기준으로 잘라서 붙이고\n",
    "- 자른 길이만큼 더하는게 훨씬 빠르지 않을까?"
   ]
  }
 ],
 "metadata": {
  "kernelspec": {
   "display_name": "Python 3",
   "language": "python",
   "name": "python3"
  },
  "language_info": {
   "codemirror_mode": {
    "name": "ipython",
    "version": 3
   },
   "file_extension": ".py",
   "mimetype": "text/x-python",
   "name": "python",
   "nbconvert_exporter": "python",
   "pygments_lexer": "ipython3",
   "version": "3.8.0"
  }
 },
 "nbformat": 4,
 "nbformat_minor": 2
}
