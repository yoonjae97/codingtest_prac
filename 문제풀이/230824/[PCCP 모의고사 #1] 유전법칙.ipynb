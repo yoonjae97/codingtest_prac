{
 "cells": [
  {
   "cell_type": "code",
   "execution_count": null,
   "metadata": {},
   "outputs": [],
   "source": [
    "def get_gene(pose):\n",
    "    n, p = pose\n",
    "    stack = []\n",
    "    \n",
    "    p -= 1\n",
    "    while n>1:\n",
    "        stack.append(p%4)\n",
    "        n -= 1\n",
    "        p //= 4\n",
    "    \n",
    "    while len(stack) > 0:\n",
    "        num = stack.pop()\n",
    "        if num == 0: return 'RR'\n",
    "        if num == 3: return 'rr'\n",
    "    return 'Rr'\n",
    " \n",
    "def solution(queries):\n",
    "    return [*map(get_gene, queries)]\n"
   ]
  }
 ],
 "metadata": {
  "language_info": {
   "name": "python"
  },
  "orig_nbformat": 4
 },
 "nbformat": 4,
 "nbformat_minor": 2
}
