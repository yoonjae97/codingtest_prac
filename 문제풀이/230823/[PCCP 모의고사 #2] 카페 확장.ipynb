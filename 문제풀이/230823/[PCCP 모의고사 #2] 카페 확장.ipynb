{
 "cells": [
  {
   "cell_type": "code",
   "execution_count": null,
   "metadata": {},
   "outputs": [],
   "source": [
    "from collections import deque\n",
    "\n",
    "def solution(menu, order, k):\n",
    "    answer = 1\n",
    "\n",
    "    enter = deque([x * k for x in range(len(order))])\n",
    "    q = deque([enter.popleft()])\n",
    "    curr = 0\n",
    "    \n",
    "    for i in range(len(order)):\n",
    "        \n",
    "        curr = max(curr, i * k) + menu[order[i]]\n",
    "        #curr +=  menu[order[i]]\n",
    "        while enter and enter[0] < curr:\n",
    "            q.append(enter.popleft())\n",
    "\n",
    "        answer = max(answer, len(q))\n",
    "        q.popleft()\n",
    "\n",
    "        if enter and enter[0] == curr:\n",
    "            q.append(enter.popleft())\n",
    "\n",
    "    return answer"
   ]
  },
  {
   "cell_type": "markdown",
   "metadata": {},
   "source": [
    "- 참고 코드 https://inspirer9.tistory.com/484\n",
    "- 주석으로 로직 정리는 위의 코드와 같이 했으나\n",
    "- for문과 while을 사용할 대상에 대해 혼동이 있었음\n",
    "- curr = max(curr, i * k) + menu[order[i]] 이부분에서 max(curr, i * k) 이게 왜 필요한지 이해하지 못했다.\n",
    "- curr +=  menu[order[i]] 이 코드로 했을 때 제출시 런타임 에러 발생하는 이유 모르겠음"
   ]
  },
  {
   "cell_type": "markdown",
   "metadata": {},
   "source": []
  }
 ],
 "metadata": {
  "language_info": {
   "name": "python"
  },
  "orig_nbformat": 4
 },
 "nbformat": 4,
 "nbformat_minor": 2
}
