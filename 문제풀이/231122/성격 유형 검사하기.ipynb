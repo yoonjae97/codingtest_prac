{
 "cells": [
  {
   "cell_type": "markdown",
   "metadata": {},
   "source": [
    "문제 링크 : https://school.programmers.co.kr/learn/courses/30/lessons/118666"
   ]
  },
  {
   "cell_type": "code",
   "execution_count": null,
   "metadata": {},
   "outputs": [],
   "source": [
    "def solution(survey, choices):\n",
    "    survey_dic = dict()\n",
    "    choice_dic = dict()\n",
    "    temp_lst1 = ['R', 'T', 'C', 'F', 'J', 'M', 'A', 'N']\n",
    "    temp_lst2 = [3, 2, 1, 0, 1, 2, 3]\n",
    "    for i in temp_lst1:\n",
    "        survey_dic[i] = 0\n",
    "    \n",
    "    for i in range(1, 8):\n",
    "        choice_dic[i] = temp_lst2[i-1]\n",
    "\n",
    "    for c_survey, choice in zip(survey, choices):\n",
    "        if choice <= 4:\n",
    "            survey_dic[c_survey[0]] += choice_dic[choice]\n",
    "        else:\n",
    "            survey_dic[c_survey[1]] += choice_dic[choice] \n",
    "   \n",
    "    return return_result(temp_lst1, survey_dic)  \n",
    "\n",
    "def return_result(key, dic):\n",
    "    result = \"\"\n",
    "    for i in range(0, len(key), 2):\n",
    "        x, y = key[i:i + 2]\n",
    "        result += x if dic[x] >= dic[y] else y\n",
    "    return result   "
   ]
  },
  {
   "cell_type": "markdown",
   "metadata": {},
   "source": [
    "### 생각 정리\n",
    "- 초이스마다 반복문해서 survey로 돌려준다\n",
    "- 그러나 성격유형을 2개씩 묶어줘야한다.\n",
    "- 키가 성격 유형이 되야하는데 2개씩 묶어줄수있는 조건을 따로할수있나?\n",
    "- 그냥 순서대로 넣고 2개씩 묶어서 보자"
   ]
  }
 ],
 "metadata": {
  "kernelspec": {
   "display_name": "Python 3",
   "language": "python",
   "name": "python3"
  },
  "language_info": {
   "name": "python",
   "version": "3.8.0"
  }
 },
 "nbformat": 4,
 "nbformat_minor": 2
}
