{
 "cells": [
  {
   "cell_type": "code",
   "execution_count": 108,
   "metadata": {},
   "outputs": [],
   "source": [
    "from collections import deque\n",
    "import copy\n",
    "\n",
    "def bfs(graph, start, visited):\n",
    "    #visited = [False] * (n + 1)\n",
    "    count = 1\n",
    "    visited[start] = True\n",
    "    \n",
    "    queue = deque([start])\n",
    "    \n",
    "    while queue:\n",
    "        v = queue.popleft()\n",
    "        for i in graph[v]:\n",
    "            if not visited[i]:\n",
    "                queue.append(i)\n",
    "                visited[i] = True\n",
    "                count += 1\n",
    "    return count\n",
    "\n",
    "\n",
    "def solution(n, wires):\n",
    "    \n",
    "    min_value = 1e9\n",
    "    \n",
    "    for i in range(len(wires)):\n",
    "        temp_wires = wires.copy()\n",
    "        graph = [[] for _ in range(n + 1)]\n",
    " \n",
    "        del temp_wires[i]\n",
    "\n",
    "        for a, b in temp_wires:\n",
    "            graph[a].append(b)\n",
    "            graph[b].append(a)\n",
    "\n",
    "        visited = [False] * (n + 1)\n",
    "        cnt1 = bfs(graph, 1, visited)\n",
    "\n",
    "        min_value = min(min_value, abs(cnt1 - (n - cnt1)))\n",
    "    \n",
    "    return min_value"
   ]
  },
  {
   "cell_type": "code",
   "execution_count": 109,
   "metadata": {},
   "outputs": [
    {
     "data": {
      "text/plain": [
       "3"
      ]
     },
     "execution_count": 109,
     "metadata": {},
     "output_type": "execute_result"
    }
   ],
   "source": [
    "n = 9\n",
    "wires = [[1, 3], [2, 3], [3, 4], [4, 5], [4, 6], [4, 7], [7, 8], [7, 9]]\n",
    "\n",
    "solution(n, wires)"
   ]
  }
 ],
 "metadata": {
  "kernelspec": {
   "display_name": "Python 3",
   "language": "python",
   "name": "python3"
  },
  "language_info": {
   "codemirror_mode": {
    "name": "ipython",
    "version": 3
   },
   "file_extension": ".py",
   "mimetype": "text/x-python",
   "name": "python",
   "nbconvert_exporter": "python",
   "pygments_lexer": "ipython3",
   "version": "3.8.0"
  },
  "orig_nbformat": 4,
  "vscode": {
   "interpreter": {
    "hash": "c2e55c9285be7209c352033cdce09d8fd6005e5e0666f201e74b15d445dd77cd"
   }
  }
 },
 "nbformat": 4,
 "nbformat_minor": 2
}
