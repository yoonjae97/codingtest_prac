{
 "cells": [
  {
   "cell_type": "code",
   "execution_count": 6,
   "metadata": {},
   "outputs": [
    {
     "name": "stdout",
     "output_type": "stream",
     "text": [
      "3\n"
     ]
    }
   ],
   "source": [
    "m, n = map(int, input().split())\n",
    "\n",
    "graph = []\n",
    "\n",
    "for _ in range(m):\n",
    "    graph.append(list(map(int, input())))\n",
    "\n",
    "# 상 하 좌 우\n",
    "dx = [0, 0, -1, 1]\n",
    "dy = [-1, 1, 0, 0]\n",
    "\n",
    "\n",
    "def dfs(x, y):\n",
    "    if x < 0 or y < 0 or x >= m or y >= n:\n",
    "        return False\n",
    "\n",
    "    if graph[x][y] == 0:\n",
    "        graph[x][y] = 1\n",
    "        \n",
    "        dfs(x - 1, y)\n",
    "        dfs(x + 1, y)\n",
    "        dfs(x, y - 1)\n",
    "        dfs(x, y + 1)\n",
    "        return True\n",
    "\n",
    "result = 0\n",
    "for j in range(m):\n",
    "    for k in range(n):\n",
    "        if dfs(j, k) == True:\n",
    "            result += 1\n",
    "\n",
    "print(result)\n"
   ]
  },
  {
   "cell_type": "code",
   "execution_count": 3,
   "metadata": {},
   "outputs": [
    {
     "name": "stdout",
     "output_type": "stream",
     "text": [
      "3\n"
     ]
    }
   ],
   "source": [
    "# 복습 1회차\n",
    "\n",
    "n, m = map(int, input().split())\n",
    "result = 0\n",
    "graph = []\n",
    "\n",
    "for _ in range(n):\n",
    "    graph.append(list(map(int, input())))\n",
    "\n",
    "def dfs(x, y):\n",
    "    if x <= -1 or x >= n or y <= -1 or y >= m:\n",
    "        return False\n",
    "\n",
    "    if graph[x][y] == 0:\n",
    "        graph[x][y] = 1\n",
    "\n",
    "        dfs(x - 1, y)\n",
    "        dfs(x + 1, y)\n",
    "        dfs(x, y - 1)\n",
    "        dfs(x, y + 1)\n",
    "\n",
    "        return True\n",
    "    return False\n",
    "\n",
    "for i in range(n):\n",
    "    for j in range(m):\n",
    "        if dfs(i, j) == True:\n",
    "            result += 1\n",
    "\n",
    "print(result)"
   ]
  },
  {
   "cell_type": "code",
   "execution_count": null,
   "metadata": {},
   "outputs": [],
   "source": []
  }
 ],
 "metadata": {
  "kernelspec": {
   "display_name": "Python 3.8.0 64-bit",
   "language": "python",
   "name": "python3"
  },
  "language_info": {
   "codemirror_mode": {
    "name": "ipython",
    "version": 3
   },
   "file_extension": ".py",
   "mimetype": "text/x-python",
   "name": "python",
   "nbconvert_exporter": "python",
   "pygments_lexer": "ipython3",
   "version": "3.8.0"
  },
  "orig_nbformat": 4,
  "vscode": {
   "interpreter": {
    "hash": "c2e55c9285be7209c352033cdce09d8fd6005e5e0666f201e74b15d445dd77cd"
   }
  }
 },
 "nbformat": 4,
 "nbformat_minor": 2
}
