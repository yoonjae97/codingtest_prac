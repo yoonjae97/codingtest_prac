{
 "cells": [
  {
   "cell_type": "code",
   "execution_count": null,
   "metadata": {},
   "outputs": [],
   "source": [
    "from itertools import product\n",
    "\n",
    "\n",
    "def solution(users, emoticons):\n",
    "    emoticons_d = [10, 20, 30, 40]\n",
    "    result = []\n",
    "    # 이모티콘 할인율 모든 경우의 수 반복문\n",
    "    for i in product(emoticons_d, repeat=len(emoticons)):\n",
    "        total_user = 0\n",
    "        total_price = 0\n",
    "        \n",
    "        # 각 유저별 계산 반복문\n",
    "        for user in users:\n",
    "        \n",
    "            buy_user = 0\n",
    "            buy_price = 0\n",
    "\n",
    "            for j in range(len(emoticons)):\n",
    "\n",
    "                if user[0] <= i[j]:\n",
    "                    buy_price += (((100 - i[j])/100) * emoticons[j])\n",
    "                   \n",
    "            if buy_price < user[1]:\n",
    "                total_price += buy_price\n",
    "            \n",
    "            else:\n",
    "                total_user += 1\n",
    "        \n",
    "        result.append([total_user, total_price])\n",
    "\n",
    "    return sorted(result, key = lambda x : (x[0], x[1]), reverse = True)[0]"
   ]
  },
  {
   "attachments": {},
   "cell_type": "markdown",
   "metadata": {},
   "source": [
    "## 아이디어 정리\n",
    "\n",
    "- 이모티콘의 길이는 7, 할인율 경우의 수 4, 최대 유저 100\n",
    "- 최악의 경우 100 * 4^7 라서 완전탐색 방식으로 풀만하다고 생각함\n",
    "- product를 사용하여 이모티콘의 모든 경우의 계산\n",
    "- 이후 유저마다 최종 구매 가격 계산 후 기준을 넘으면\n",
    "- 플러스 서비스 가입 + 1 그렇지 않을 경우 그냥 계산\n",
    "- 정렬을 가입자 수, 최종 금액 2가지로 정렬해서 첫 번째 값 출력"
   ]
  }
 ],
 "metadata": {
  "kernelspec": {
   "display_name": "Python 3",
   "language": "python",
   "name": "python3"
  },
  "language_info": {
   "codemirror_mode": {
    "name": "ipython",
    "version": 3
   },
   "file_extension": ".py",
   "mimetype": "text/x-python",
   "name": "python",
   "nbconvert_exporter": "python",
   "pygments_lexer": "ipython3",
   "version": "3.8.0"
  },
  "orig_nbformat": 4
 },
 "nbformat": 4,
 "nbformat_minor": 2
}
