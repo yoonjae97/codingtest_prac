{
 "cells": [
  {
   "cell_type": "code",
   "execution_count": 1,
   "metadata": {},
   "outputs": [
    {
     "name": "stdout",
     "output_type": "stream",
     "text": [
      "30\n",
      "30\n"
     ]
    }
   ],
   "source": [
    "n = int(input())\n",
    "data = list(map(int, input().split()))\n",
    "add, sub, mul, div = map(int, input().split())\n",
    "\n",
    "min_value = 1e9\n",
    "max_value = -1e9\n",
    "\n",
    "def dfs(i, now):\n",
    "    global min_value, max_value, add, sub, mul, div\n",
    "\n",
    "    if i == n:\n",
    "        min_value = min(min_value, now)\n",
    "        max_value = max(max_value, now)\n",
    "    \n",
    "    else:\n",
    "        if add > 0:\n",
    "            add -= 1\n",
    "            dfs(i + 1, now + data[i])\n",
    "            add += 1\n",
    "        if sub > 0:\n",
    "            sub -= 1\n",
    "            dfs(i + 1, now - data[i])\n",
    "            sub += 1\n",
    "        if mul > 0:\n",
    "            mul -= 1\n",
    "            dfs(i + 1, now * data[i])\n",
    "            mul += 1\n",
    "        if div > 0:\n",
    "            div -= 1\n",
    "            dfs(i + 1, int(now / data[i]))\n",
    "            div += 1\n",
    "\n",
    "dfs(1, data[0])\n",
    "\n",
    "print(max_value)\n",
    "print(min_value)"
   ]
  },
  {
   "cell_type": "code",
   "execution_count": 6,
   "metadata": {},
   "outputs": [],
   "source": [
    "from itertools import permutations"
   ]
  },
  {
   "cell_type": "code",
   "execution_count": 10,
   "metadata": {},
   "outputs": [
    {
     "name": "stdout",
     "output_type": "stream",
     "text": [
      "35\n",
      "17\n"
     ]
    }
   ],
   "source": [
    "N = int(input())\n",
    "num = list(map(int, input().split()))\n",
    "arr = list(map(int, input().split()))\n",
    "operator = []\n",
    "for i in range(4):\n",
    "    for j in range(arr[i]):\n",
    "        operator.append(i)\n",
    "\n",
    "op = set(list(permutations(operator)))\n",
    "\n",
    "max_ = -1e9\n",
    "min_ = 1e9\n",
    "\n",
    "for k in op:\n",
    "    ans = num[0]\n",
    "    for i in range(len(k)):\n",
    "        if k[i] == 0:\n",
    "            ans = ans + num[i + 1]\n",
    "        elif k[i] == 1:\n",
    "            ans = ans - num[i + 1]\n",
    "        elif k[i] == 2:\n",
    "            ans = ans * num[i + 1]\n",
    "        else:\n",
    "            if ans < 0:\n",
    "                ans = (-1) * ans // num[i + 1]\n",
    "                ans = (-1) * ans\n",
    "            else:\n",
    "                ans = ans // num[i + 1]\n",
    "    max_ = max(ans, max_)\n",
    "    min_ = min(ans, min_)\n",
    "\n",
    "print(max_)\n",
    "print(min_)\n",
    "\n",
    "\n"
   ]
  }
 ],
 "metadata": {
  "kernelspec": {
   "display_name": "Python 3",
   "language": "python",
   "name": "python3"
  },
  "language_info": {
   "codemirror_mode": {
    "name": "ipython",
    "version": 3
   },
   "file_extension": ".py",
   "mimetype": "text/x-python",
   "name": "python",
   "nbconvert_exporter": "python",
   "pygments_lexer": "ipython3",
   "version": "3.8.0"
  },
  "orig_nbformat": 4,
  "vscode": {
   "interpreter": {
    "hash": "c2e55c9285be7209c352033cdce09d8fd6005e5e0666f201e74b15d445dd77cd"
   }
  }
 },
 "nbformat": 4,
 "nbformat_minor": 2
}
