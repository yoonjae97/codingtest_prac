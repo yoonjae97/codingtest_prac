{
 "cells": [
  {
   "cell_type": "code",
   "execution_count": null,
   "metadata": {},
   "outputs": [],
   "source": [
    "m, n = map(int, input().split())\n",
    "\n",
    "map_list = []\n",
    "visit_list = [[0] * n for _ in range(m)]\n",
    "for i in range(m):\n",
    "    map_list.append(list(map(int, input())))\n",
    "\n",
    "start = 1\n",
    "dx = [-1, 0, 1, 0]\n",
    "dy = [0, 1, 0, -1]\n",
    "\n",
    "def bfs(x, y, start):\n",
    "    if x < 0 or y < 0 or x >= m or y >= n:\n",
    "            return False\n",
    "\n",
    "    if map_list[x][y] == 1 and visit_list[x][y] == 0:\n",
    "        visit_list[x][y] = 1\n",
    "        map_list[x][y] = start \n",
    "        start += 1\n",
    "\n",
    "    for i in range(4):\n",
    "        nx = x + dx[i]\n",
    "        ny = y + dy[i]\n",
    "        \n",
    "        bfs(nx, ny, start)\n",
    "    return False\n",
    "bfs(0, 0, 1)\n",
    "print(map_list[m-1][n-1])"
   ]
  },
  {
   "cell_type": "markdown",
   "metadata": {},
   "source": [
    "- 재귀함수가 아닌 deque로 구현할 것"
   ]
  },
  {
   "cell_type": "code",
   "execution_count": 4,
   "metadata": {},
   "outputs": [],
   "source": [
    "from collections import deque"
   ]
  },
  {
   "cell_type": "code",
   "execution_count": 133,
   "metadata": {},
   "outputs": [
    {
     "name": "stdout",
     "output_type": "stream",
     "text": [
      "10\n"
     ]
    }
   ],
   "source": [
    "m, n = map(int, input().split())\n",
    "\n",
    "map_list = []\n",
    "for i in range(m):\n",
    "    map_list.append(list(map(int, input())))\n",
    "\n",
    "dx = [-1, 0, 1, 0]\n",
    "dy = [0, 1, 0, -1]\n",
    "\n",
    "def bfs(x, y):\n",
    "    queue = deque()\n",
    "    queue.append((x, y))\n",
    "\n",
    "    while queue:\n",
    "        x, y = queue.popleft()\n",
    "\n",
    "        for i in range(4):\n",
    "            nx = x + dx[i]\n",
    "            ny = y + dy[i]\n",
    "\n",
    "            if nx < 0 or ny < 0 or nx >= m or ny >= n:\n",
    "                continue\n",
    "\n",
    "            if map_list[nx][ny] == 0:\n",
    "                continue\n",
    "            \n",
    "            if map_list[nx][ny] == 1:\n",
    "                map_list[nx][ny] = map_list[x][y] + 1\n",
    "                queue.append((nx, ny))\n",
    "    \n",
    "    return map_list[m-1][n-1]\n",
    "\n",
    "print(bfs(0, 0))"
   ]
  },
  {
   "cell_type": "code",
   "execution_count": 14,
   "metadata": {},
   "outputs": [
    {
     "data": {
      "text/plain": [
       "10"
      ]
     },
     "execution_count": 14,
     "metadata": {},
     "output_type": "execute_result"
    }
   ],
   "source": [
    "# 복습 1회차\n",
    "\n",
    "n, m = map(int, input().split())\n",
    "\n",
    "graph = []\n",
    "visited_graph = [[False] * m for _ in range(n)]\n",
    "visited_graph[0][0] = True\n",
    "\n",
    "for _ in range(n):\n",
    "    graph.append(list(map(int, input())))\n",
    "\n",
    "dx = [-1, 1, 0, 0]\n",
    "dy = [0, 0, -1, 1]\n",
    "\n",
    "def bfs(x, y):\n",
    "\n",
    "    queue = deque()\n",
    "    queue.append((x, y))\n",
    "\n",
    "    while queue:\n",
    "        x, y = queue.popleft()\n",
    "\n",
    "        for i in range(4):\n",
    "            nx = x + dx[i]\n",
    "            ny = y + dy[i]\n",
    "\n",
    "            if nx <= -1 or nx >= n or ny <= -1 or ny >= m:\n",
    "                continue\n",
    "\n",
    "            if graph[nx][ny] == 0:\n",
    "                continue\n",
    "\n",
    "            if graph[nx][ny] == 1 and visited_graph[nx][ny] == False:\n",
    "                visited_graph[nx][ny] = True\n",
    "                graph[nx][ny] = graph[x][y] + 1\n",
    "                queue.append((nx, ny))\n",
    "\n",
    "    return graph[n - 1][m - 1]\n",
    "\n",
    "bfs(0,0)\n",
    "\n"
   ]
  },
  {
   "cell_type": "code",
   "execution_count": 15,
   "metadata": {},
   "outputs": [
    {
     "data": {
      "text/plain": [
       "[[1, 0, 5, 0, 7, 0],\n",
       " [2, 3, 4, 5, 6, 7],\n",
       " [0, 0, 0, 0, 0, 8],\n",
       " [14, 13, 12, 11, 10, 9],\n",
       " [15, 14, 13, 12, 11, 10]]"
      ]
     },
     "execution_count": 15,
     "metadata": {},
     "output_type": "execute_result"
    }
   ],
   "source": [
    "graph"
   ]
  },
  {
   "cell_type": "code",
   "execution_count": null,
   "metadata": {},
   "outputs": [],
   "source": []
  }
 ],
 "metadata": {
  "kernelspec": {
   "display_name": "Python 3.8.0 64-bit",
   "language": "python",
   "name": "python3"
  },
  "language_info": {
   "codemirror_mode": {
    "name": "ipython",
    "version": 3
   },
   "file_extension": ".py",
   "mimetype": "text/x-python",
   "name": "python",
   "nbconvert_exporter": "python",
   "pygments_lexer": "ipython3",
   "version": "3.8.0"
  },
  "orig_nbformat": 4,
  "vscode": {
   "interpreter": {
    "hash": "c2e55c9285be7209c352033cdce09d8fd6005e5e0666f201e74b15d445dd77cd"
   }
  }
 },
 "nbformat": 4,
 "nbformat_minor": 2
}
