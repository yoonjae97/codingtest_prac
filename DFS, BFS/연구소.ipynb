{
 "cells": [
  {
   "cell_type": "code",
   "execution_count": 11,
   "metadata": {},
   "outputs": [],
   "source": [
    "n, m = map(int ,input().split())\n",
    "data = []\n",
    "temp = [[0] * m for _ in range(n)]\n",
    "\n",
    "for _ in range(n):\n",
    "    data.append(list(map(int, input().split())))\n",
    "\n",
    "dx = [-1, 1, 0 ,0]\n",
    "dy = [0, 0, -1, 1]\n",
    "\n",
    "def virus(x, y):\n",
    "\n",
    "    for i in range(4):\n",
    "        nx = x + dx[i]\n",
    "        ny = y + dy[i]\n",
    "\n",
    "        if nx >= 0 and nx < n and ny >= 0 and ny < m:\n",
    "            \n",
    "            if temp[nx][ny] == 0:\n",
    "                temp[nx][ny] = 2\n",
    "                virus(nx, ny)\n",
    "\n",
    "def get_score():\n",
    "    score = 0\n",
    "    for i in range(n):\n",
    "        for j in range(m):\n",
    "            if temp[i][j] == 0:\n",
    "                score += 1\n",
    "    return score\n",
    "\n",
    "def dfs(count):\n",
    "\n",
    "    global result\n",
    "\n",
    "    if count == 3:\n",
    "        for i in range(n):\n",
    "            for j in range(m):\n",
    "                temp[i][j] = data[i][j]\n",
    "    \n",
    "        for i in range(n):\n",
    "            for j in range(m):\n",
    "                if temp[i][j] == 2:\n",
    "                    temp[i][j] = virus(i, j)\n",
    "    \n",
    "        result = max(result, get_score())\n",
    "        return\n",
    "    \n",
    "    for i in range(n):\n",
    "        for j in range(m):\n",
    "            if data[i][j] == 0:\n",
    "                data[i][j] = 1\n",
    "                count += 1\n",
    "                dfs(count)\n",
    "                data[i][j] = 0\n",
    "                count -= 1\n",
    "                \n",
    "dfs(0)\n",
    "print(result)"
   ]
  }
 ],
 "metadata": {
  "kernelspec": {
   "display_name": "Python 3",
   "language": "python",
   "name": "python3"
  },
  "language_info": {
   "codemirror_mode": {
    "name": "ipython",
    "version": 3
   },
   "file_extension": ".py",
   "mimetype": "text/x-python",
   "name": "python",
   "nbconvert_exporter": "python",
   "pygments_lexer": "ipython3",
   "version": "3.8.0 (tags/v3.8.0:fa919fd, Oct 14 2019, 19:37:50) [MSC v.1916 64 bit (AMD64)]"
  },
  "orig_nbformat": 4,
  "vscode": {
   "interpreter": {
    "hash": "c2e55c9285be7209c352033cdce09d8fd6005e5e0666f201e74b15d445dd77cd"
   }
  }
 },
 "nbformat": 4,
 "nbformat_minor": 2
}
