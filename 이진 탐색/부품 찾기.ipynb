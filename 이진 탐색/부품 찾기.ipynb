{
 "cells": [
  {
   "cell_type": "code",
   "execution_count": 1,
   "metadata": {},
   "outputs": [
    {
     "name": "stdout",
     "output_type": "stream",
     "text": [
      "yes yes "
     ]
    }
   ],
   "source": [
    "# 집합 자료형 이용\n",
    "n = int(input())\n",
    "\n",
    "a = list(input().split())\n",
    "\n",
    "m = int(input())\n",
    "\n",
    "b = list(input().split())\n",
    "\n",
    "for i in b:\n",
    "    if i in a:\n",
    "        print('yes', end=' ')\n",
    "    \n",
    "    else:\n",
    "        print('no', end=' ')"
   ]
  },
  {
   "cell_type": "code",
   "execution_count": 20,
   "metadata": {},
   "outputs": [
    {
     "name": "stdout",
     "output_type": "stream",
     "text": [
      "no yes yes "
     ]
    }
   ],
   "source": [
    "# 이진 탐색\n",
    "def binary_search(array, target, start, end):\n",
    "    if start > end:\n",
    "        return None\n",
    "    \n",
    "    mid = (start + end) // 2\n",
    "\n",
    "    if array[mid] == target:\n",
    "        return mid\n",
    "\n",
    "    elif array[mid] > target:\n",
    "        return binary_search(array, target, start, mid - 1)\n",
    "    \n",
    "    else:\n",
    "        return binary_search(array, target, mid + 1, end)\n",
    "\n",
    "n = int(input())\n",
    "\n",
    "array = sorted(list(map(int, input().split())))\n",
    "\n",
    "m = int(input())\n",
    "\n",
    "targets = list(map(int, input().split()))\n",
    "\n",
    "for target in targets:\n",
    "    result = binary_search(array, target, 0, n-1)\n",
    "\n",
    "    if result != None:\n",
    "        print('yes', end = ' ')\n",
    "\n",
    "    else:\n",
    "        print('no', end = ' ') "
   ]
  },
  {
   "cell_type": "code",
   "execution_count": null,
   "metadata": {},
   "outputs": [],
   "source": [
    "# 모범 답안 추가 (계수 정렬)\n",
    "n = int(input())\n",
    "array = [0] * 1000001\n",
    "\n",
    "for i in input().split():\n",
    "    array[int(i)] = 1\n",
    "\n",
    "m = int(input())\n",
    "\n",
    "x = list(map(int, input().split()))\n",
    "\n",
    "for i in x:\n",
    "    if array[i] == 1:\n",
    "        print('yes', end = ' ')\n",
    "    \n",
    "    else:\n",
    "        print('no', end = ' ')"
   ]
  },
  {
   "cell_type": "code",
   "execution_count": 10,
   "metadata": {},
   "outputs": [
    {
     "name": "stdout",
     "output_type": "stream",
     "text": [
      "no\n",
      "yes\n",
      "yes\n"
     ]
    }
   ],
   "source": [
    "# 복습 1회차\n",
    "\n",
    "def quick_sort(array):\n",
    "    if len(array) <= 1:\n",
    "        return array\n",
    "\n",
    "    pivot = array[0]\n",
    "    tail = array[1:]\n",
    "\n",
    "    left_side = [x for x in tail if x <= pivot]\n",
    "    right_side = [x for x in tail if x > pivot]\n",
    "\n",
    "    return quick_sort(left_side) + [pivot] + quick_sort(right_side)\n",
    "\n",
    "def binary_search(array, target, start, end):\n",
    "\n",
    "    if start > end:\n",
    "        return None\n",
    "    \n",
    "    mid = (start + end) // 2\n",
    "\n",
    "    if target == array[mid]:\n",
    "        return mid\n",
    "\n",
    "    elif target < array[mid]:\n",
    "        return binary_search(array, target, start, mid - 1)\n",
    "    \n",
    "    else:\n",
    "        return binary_search(array, target, mid + 1, end)\n",
    "\n",
    "\n",
    "n = int(input())\n",
    "\n",
    "lst = list(map(int, input().split()))\n",
    "lst = quick_sort(lst)\n",
    "\n",
    "m = int(input())\n",
    "\n",
    "target_lst = list(map(int, input().split()))\n",
    "\n",
    "target_lst = quick_sort(target_lst)\n",
    "\n",
    "for i in target_lst:\n",
    "    if binary_search(lst, i, 0, len(lst)):\n",
    "        print('yes')\n",
    "    else:\n",
    "        print('no')\n",
    "\n"
   ]
  },
  {
   "cell_type": "code",
   "execution_count": 14,
   "metadata": {},
   "outputs": [
    {
     "name": "stdout",
     "output_type": "stream",
     "text": [
      "no\n",
      "yes\n",
      "yes\n"
     ]
    }
   ],
   "source": [
    "# 복습 1회차\n",
    "# 계수 정렬 이용\n",
    "\n",
    "def quick_sort(array):\n",
    "    if len(array) <= 1:\n",
    "        return array\n",
    "\n",
    "    pivot = array[0]\n",
    "    tail = array[1:]\n",
    "\n",
    "    left_side = [x for x in tail if x <= pivot]\n",
    "    right_side = [x for x in tail if x > pivot]\n",
    "\n",
    "    return quick_sort(left_side) + [pivot] + quick_sort(right_side)\n",
    "    \n",
    "n = int(input())\n",
    "\n",
    "lst = list(map(int, input().split()))\n",
    "lst = quick_sort(lst)\n",
    "\n",
    "m = int(input())\n",
    "\n",
    "target_lst = list(map(int, input().split()))\n",
    "\n",
    "result = [0] * 1000001\n",
    "\n",
    "for i in lst:\n",
    "    result[i] += 1\n",
    "\n",
    "for j in target_lst:\n",
    "    if result[j] == 1:\n",
    "        print('yes')\n",
    "    else:\n",
    "        print('no')\n",
    "    \n"
   ]
  }
 ],
 "metadata": {
  "kernelspec": {
   "display_name": "Python 3.8.0 64-bit",
   "language": "python",
   "name": "python3"
  },
  "language_info": {
   "codemirror_mode": {
    "name": "ipython",
    "version": 3
   },
   "file_extension": ".py",
   "mimetype": "text/x-python",
   "name": "python",
   "nbconvert_exporter": "python",
   "pygments_lexer": "ipython3",
   "version": "3.8.0"
  },
  "orig_nbformat": 4,
  "vscode": {
   "interpreter": {
    "hash": "c2e55c9285be7209c352033cdce09d8fd6005e5e0666f201e74b15d445dd77cd"
   }
  }
 },
 "nbformat": 4,
 "nbformat_minor": 2
}
