{
 "cells": [
  {
   "cell_type": "code",
   "execution_count": 3,
   "metadata": {},
   "outputs": [
    {
     "data": {
      "text/plain": [
       "15"
      ]
     },
     "execution_count": 3,
     "metadata": {},
     "output_type": "execute_result"
    }
   ],
   "source": [
    "def binary_search(array, target, start, end):\n",
    "    mid = (start + end) // 2\n",
    "\n",
    "    # 떡이 절단기 높이보다 작을 경우는 잘리지 않아 남는게 0 이므로 0 이하 값은 무시\n",
    "    array_ = [(i - mid) for i in array if (i - mid) > 0]\n",
    "\n",
    "    if sum(array_) == target:\n",
    "        return mid\n",
    "\n",
    "    # 떡이 더 많을 경우는 더 잘라야 하므로 오른쪽 이동\n",
    "    elif sum(array_) > target:\n",
    "        return binary_search(array, target, mid + 1, end)\n",
    "    \n",
    "    # 떡이 더 적을 경우는 덜 잘라야 하므로 왼쪽 이동\n",
    "    else:\n",
    "        return binary_search(array, target, start, mid - 1)\n",
    "\n",
    "n, target = map(int, input().split())\n",
    "\n",
    "array = sorted(list(map(int, input().split())))\n",
    "\n",
    "binary_search(array, target, 0, max(array))"
   ]
  },
  {
   "cell_type": "code",
   "execution_count": 2,
   "metadata": {},
   "outputs": [
    {
     "name": "stdout",
     "output_type": "stream",
     "text": [
      "15\n"
     ]
    }
   ],
   "source": [
    "# 모범 답안\n",
    "\n",
    "# 떡의 개수와 요청한 떡 길이 입력\n",
    "n, m = list(map(int, input().split(' ')))\n",
    "\n",
    "# 각 떡의 개별 높이 정보 입력\n",
    "array = list(map(int, input().split()))\n",
    "\n",
    "# 이진 탐색을 위한 시작점과 끝점 설정\n",
    "start = 0\n",
    "end = max(array)\n",
    "\n",
    "# 이진 탐색 수행\n",
    "result = 0\n",
    "\n",
    "while (start <= end):\n",
    "\n",
    "    total = 0\n",
    "    mid = (start + end) // 2\n",
    "    for x in array:\n",
    "        # 잘랐을 때의 떡의 양 계산\n",
    "\n",
    "        if x > mid:\n",
    "            total += x - mid\n",
    "    \n",
    "    # 떡의 양이 부족한 경우 더 많이 자르기(왼쪽 탐색)\n",
    "    if total < m:\n",
    "        end = mid - 1\n",
    "    \n",
    "    # 떡의 양이 충분한 경우 덜 자르기(오른쪽 탐색)\n",
    "    else:\n",
    "        result = mid # 최대한 덜 잘랐을 때가 정답이므로, 여기에서 result 기록\n",
    "        start = mid + 1\n",
    "\n",
    "# 정답 출력\n",
    "print(result)"
   ]
  },
  {
   "cell_type": "code",
   "execution_count": 1,
   "metadata": {},
   "outputs": [
    {
     "name": "stdout",
     "output_type": "stream",
     "text": [
      "15\n"
     ]
    }
   ],
   "source": [
    "# 복습 1회차\n",
    "\n",
    "n, m = map(int, input().split())\n",
    "lst = list(map(int, input().split()))\n",
    "lst.sort()\n",
    "\n",
    "def binary_search(array, target, start, end):\n",
    "    if start > end:\n",
    "        return None\n",
    "\n",
    "    mid = (start + end) // 2\n",
    "\n",
    "    result = sum(map(lambda x : x - mid if (x - mid) > 0 else 0, array))\n",
    "    \n",
    "    if result == target:\n",
    "        return mid\n",
    "\n",
    "    elif result < target:\n",
    "        return binary_search(array, target, start, mid - 1)\n",
    "    \n",
    "    else:\n",
    "        return binary_search(array, target, mid + 1, end)\n",
    "\n",
    "print(binary_search(lst, m, 0, max(lst)))\n",
    "    "
   ]
  }
 ],
 "metadata": {
  "kernelspec": {
   "display_name": "Python 3.8.0 64-bit",
   "language": "python",
   "name": "python3"
  },
  "language_info": {
   "codemirror_mode": {
    "name": "ipython",
    "version": 3
   },
   "file_extension": ".py",
   "mimetype": "text/x-python",
   "name": "python",
   "nbconvert_exporter": "python",
   "pygments_lexer": "ipython3",
   "version": "3.8.0"
  },
  "orig_nbformat": 4,
  "vscode": {
   "interpreter": {
    "hash": "c2e55c9285be7209c352033cdce09d8fd6005e5e0666f201e74b15d445dd77cd"
   }
  }
 },
 "nbformat": 4,
 "nbformat_minor": 2
}
