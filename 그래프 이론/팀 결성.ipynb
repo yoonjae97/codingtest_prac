{
 "cells": [
  {
   "cell_type": "code",
   "execution_count": null,
   "metadata": {},
   "outputs": [],
   "source": [
    "def find_parent(parent, x):\n",
    "    if parent[x] != x:\n",
    "        parent[x] = find_parent(parent, parent[x])\n",
    "    return parent[x]\n",
    "    \n",
    "def union_parent(parent, a, b):\n",
    "    a = find_parent(parent, a)\n",
    "    b = find_parent(parent, b)\n",
    "    print(a, b)\n",
    "    if a < b:\n",
    "        parent[b] = a\n",
    "    else:\n",
    "        parent[a] = b\n",
    "\n",
    "n, m = map(int, input().split())\n",
    "\n",
    "parent = [0] * (n + 1)\n",
    "\n",
    "for i in range(n + 1):\n",
    "    parent[i] = i\n",
    "\n",
    "for _ in range(m):\n",
    "    q, w, e = map(int, input().split())\n",
    "\n",
    "    if q == 0:\n",
    "        union_parent(parent, w, e)\n",
    "    else:\n",
    "        if find_parent(parent, w) == find_parent(parent, e):\n",
    "            print('YES')\n",
    "        else:\n",
    "            print(\"NO\")"
   ]
  }
 ],
 "metadata": {
  "kernelspec": {
   "display_name": "Python 3",
   "language": "python",
   "name": "python3"
  },
  "language_info": {
   "name": "python",
   "version": "3.8.0 (tags/v3.8.0:fa919fd, Oct 14 2019, 19:37:50) [MSC v.1916 64 bit (AMD64)]"
  },
  "orig_nbformat": 4,
  "vscode": {
   "interpreter": {
    "hash": "c2e55c9285be7209c352033cdce09d8fd6005e5e0666f201e74b15d445dd77cd"
   }
  }
 },
 "nbformat": 4,
 "nbformat_minor": 2
}
