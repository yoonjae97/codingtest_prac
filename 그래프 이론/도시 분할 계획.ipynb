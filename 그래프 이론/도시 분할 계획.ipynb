{
 "cells": [
  {
   "cell_type": "code",
   "execution_count": 2,
   "metadata": {},
   "outputs": [
    {
     "name": "stdout",
     "output_type": "stream",
     "text": [
      "12 4\n"
     ]
    }
   ],
   "source": [
    "def find_parent(parent, x):\n",
    "    if parent[x] != x:\n",
    "        parent[x] = find_parent(parent, parent[x])\n",
    "    return parent[x]\n",
    "\n",
    "def union_parent(parent, a, b):\n",
    "    a = find_parent(parent, a)\n",
    "    b = find_parent(parent, b)\n",
    "\n",
    "    if a < b :\n",
    "        parent[b] = a\n",
    "    else:\n",
    "        parent[a] = b\n",
    "\n",
    "\n",
    "n, m = map(int, input().split())\n",
    "\n",
    "parent = [0] * (n + 1)\n",
    "\n",
    "for i in range(n + 1):\n",
    "    parent[i] = i\n",
    "\n",
    "edges = []\n",
    "\n",
    "for _ in range(m):\n",
    "    x, y, cost = map(int, input().split())\n",
    "    edges.append((cost, x, y))\n",
    "\n",
    "edges.sort()\n",
    "max_cost = 0\n",
    "result = 0 \n",
    "\n",
    "for edge in edges:\n",
    "    cost, x, y = edge\n",
    "\n",
    "    if find_parent(parent, x) != find_parent(parent, y):\n",
    "        union_parent(parent, x, y)\n",
    "        result += cost\n",
    "        max_cost = max(max_cost, cost)\n",
    "    \n",
    "print(result - max_cost)\n"
   ]
  }
 ],
 "metadata": {
  "kernelspec": {
   "display_name": "Python 3",
   "language": "python",
   "name": "python3"
  },
  "language_info": {
   "codemirror_mode": {
    "name": "ipython",
    "version": 3
   },
   "file_extension": ".py",
   "mimetype": "text/x-python",
   "name": "python",
   "nbconvert_exporter": "python",
   "pygments_lexer": "ipython3",
   "version": "3.8.0"
  },
  "orig_nbformat": 4,
  "vscode": {
   "interpreter": {
    "hash": "c2e55c9285be7209c352033cdce09d8fd6005e5e0666f201e74b15d445dd77cd"
   }
  }
 },
 "nbformat": 4,
 "nbformat_minor": 2
}
