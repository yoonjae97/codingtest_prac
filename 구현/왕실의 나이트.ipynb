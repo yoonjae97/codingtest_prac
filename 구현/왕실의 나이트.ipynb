{
 "cells": [
  {
   "cell_type": "code",
   "execution_count": 8,
   "id": "f7971365",
   "metadata": {},
   "outputs": [
    {
     "name": "stdout",
     "output_type": "stream",
     "text": [
      "2\n"
     ]
    }
   ],
   "source": [
    "a = input()\n",
    "result = 0\n",
    "\n",
    "# x, y 좌표 설정\n",
    "col = ['a', 'b', 'c', 'd', 'e', 'f', 'g', 'h']\n",
    "x = int(a[1])\n",
    "for i in range(len(col)):\n",
    "    if col[i] == a[0]:\n",
    "        y = i + 1\n",
    "\n",
    "# 경우의 수 = [우위 우아 좌위 좌아 위우 위좌 아래우 아래좌]\n",
    "nx = [2, 2, -2, -2, 1, -1, 1, -1]\n",
    "ny = [-1, 1, -1, 1, -2, -2, 2, 2]\n",
    "\n",
    "for i in range(len(nx)):\n",
    "    dx = nx[i] + x\n",
    "    dy = ny[i] + y\n",
    "\n",
    "    # 8x8 좌표 밖으로 나갈 경우는 패스\n",
    "    if dx < 1 or dy < 1 or dx > 8 or dy > 8:\n",
    "        continue\n",
    "    \n",
    "    # 그렇지 않을 경우는 +1\n",
    "    result += 1\n",
    "\n",
    "# 최종 가능한 경우의 수 출력\n",
    "print(result)\n",
    "    "
   ]
  },
  {
   "cell_type": "code",
   "execution_count": 9,
   "id": "120223b9",
   "metadata": {},
   "outputs": [
    {
     "name": "stdout",
     "output_type": "stream",
     "text": [
      "2\n"
     ]
    }
   ],
   "source": [
    "# 모범 답안\n",
    "\n",
    "# 현재 나이트의 위치 입력받기\n",
    "input_data = input()\n",
    "row = int(input_data[1])\n",
    "column = int(ord(input_data[0])) - int(ord('a')) + 1\n",
    "\n",
    "# 나이트가 이동할 수 있는 8가지 방향 정의\n",
    "steps = [(-2, -1), (-1, -2), (1, -2), (2, -1), (2, 1), (1, 2), (-1, 2), (-2, 1)]\n",
    "\n",
    "# 8가지 방향에 대하여 각 위치로 이동이 가능한지 확인\n",
    "result = 0\n",
    "for step in steps:\n",
    "    # 이동하고자 하는 위치 확인\n",
    "    next_row = row + step[0]\n",
    "    next_column = column + step[1]\n",
    "    # 해당 위치로 이동이 가능하다면 카운트 증가\n",
    "    if next_row >= 1 and next_row <= 8 and next_column >= 1 and next_column <= 8:\n",
    "        result += 1\n",
    "\n",
    "print(result)"
   ]
  },
  {
   "cell_type": "markdown",
   "id": "ed15de5e",
   "metadata": {},
   "source": [
    "#### # 변수명을 좀 더 구분할 수 있게 정하는 것이 좋을듯함."
   ]
  }
 ],
 "metadata": {
  "kernelspec": {
   "display_name": "Python 3.8.0 64-bit",
   "language": "python",
   "name": "python3"
  },
  "language_info": {
   "codemirror_mode": {
    "name": "ipython",
    "version": 3
   },
   "file_extension": ".py",
   "mimetype": "text/x-python",
   "name": "python",
   "nbconvert_exporter": "python",
   "pygments_lexer": "ipython3",
   "version": "3.8.0"
  },
  "vscode": {
   "interpreter": {
    "hash": "c2e55c9285be7209c352033cdce09d8fd6005e5e0666f201e74b15d445dd77cd"
   }
  }
 },
 "nbformat": 4,
 "nbformat_minor": 5
}
