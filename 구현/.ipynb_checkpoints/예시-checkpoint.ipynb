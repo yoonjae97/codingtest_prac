{
 "cells": [
  {
   "cell_type": "markdown",
   "id": "57d5fc0a",
   "metadata": {},
   "source": [
    "## 예시 4-1 상하좌우"
   ]
  },
  {
   "cell_type": "code",
   "execution_count": 5,
   "id": "55a3ff2c",
   "metadata": {},
   "outputs": [
    {
     "data": {
      "text/plain": [
       "[3, 4]"
      ]
     },
     "execution_count": 5,
     "metadata": {},
     "output_type": "execute_result"
    }
   ],
   "source": [
    "\n",
    "def func1(input, direction):\n",
    "    \n",
    "    start = [1,1]\n",
    "    \n",
    "    for dir in direction:\n",
    "\n",
    "        if dir == 'L' and start[1] >= 2:\n",
    "            start[1] -= 1\n",
    "\n",
    "        elif dir == 'R' and start[1]<= input:\n",
    "            start[1] += 1\n",
    "\n",
    "        elif dir == 'U' and start[0] >= 2:\n",
    "            start[0] -= 1\n",
    "\n",
    "        elif dir == 'D' and start[0] <= input:\n",
    "            start[0] += 1\n",
    "            \n",
    "    return start\n",
    "\n",
    "input = 5\n",
    "direction = ['R', 'R', 'R', 'U', 'D', 'D']\n",
    "\n",
    "func1(input, direction)\n"
   ]
  },
  {
   "cell_type": "code",
   "execution_count": null,
   "id": "b0594b83",
   "metadata": {},
   "outputs": [],
   "source": [
    "## 답안 예시\n",
    "\n",
    "n = int(input())\n",
    "x, y = 1, 1\n",
    "plans = input().split()\n",
    "\n",
    "# L, R, U, D에 따른 이동 방향\n",
    "dx = [0, 0, -1, 1]\n",
    "dy = [-1, 1, 0, 0]\n",
    "move_types = ['L', 'R', 'U', 'D']\n",
    "\n",
    "# 이동 계획을 하나씩 확인\n",
    "for plan in plans:\n",
    "    \n",
    "    # 이동 후 좌표 구하기\n",
    "    for i in range(len(move_types)):\n",
    "        if plan == move_types[i]:\n",
    "            nx = x + dx[i]\n",
    "            ny = y + dy[i]\n",
    "    \n",
    "    # 공간을 벗어나는 경우 무시\n",
    "    if nx < 1 or ny < 1 or nx > n or ny > n:\n",
    "        continue\n",
    "    \n",
    "    #이동 수행\n",
    "    x, y = nx, ny"
   ]
  },
  {
   "cell_type": "markdown",
   "id": "c10b2382",
   "metadata": {},
   "source": [
    "## 예시 4-2 시각"
   ]
  },
  {
   "cell_type": "code",
   "execution_count": null,
   "id": "f615640e",
   "metadata": {},
   "outputs": [],
   "source": [
    "def func1(input):\n",
    "    sum = 0\n",
    "    \n",
    "    for i in range(input+1):\n",
    "        for j in range(60):\n",
    "            for k in range(60):\n",
    "                if str(3) in str(i)+str(j)+str(k):\n",
    "                    sum += 1\n",
    "    \n",
    "    return sum\n",
    "\n",
    "func1(5)\n"
   ]
  }
 ],
 "metadata": {
  "kernelspec": {
   "display_name": "Python 3 (ipykernel)",
   "language": "python",
   "name": "python3"
  },
  "language_info": {
   "codemirror_mode": {
    "name": "ipython",
    "version": 3
   },
   "file_extension": ".py",
   "mimetype": "text/x-python",
   "name": "python",
   "nbconvert_exporter": "python",
   "pygments_lexer": "ipython3",
   "version": "3.8.0"
  }
 },
 "nbformat": 4,
 "nbformat_minor": 5
}
