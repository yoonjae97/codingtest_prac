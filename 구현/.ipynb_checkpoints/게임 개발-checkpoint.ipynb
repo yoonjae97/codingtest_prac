{
 "cells": [
  {
   "cell_type": "code",
   "execution_count": 52,
   "id": "9f3a099a",
   "metadata": {},
   "outputs": [
    {
     "ename": "IndexError",
     "evalue": "index 4 is out of bounds for axis 0 with size 4",
     "output_type": "error",
     "traceback": [
      "\u001b[1;31m---------------------------------------------------------------------------\u001b[0m",
      "\u001b[1;31mIndexError\u001b[0m                                Traceback (most recent call last)",
      "Input \u001b[1;32mIn [52]\u001b[0m, in \u001b[0;36m<cell line: 13>\u001b[1;34m()\u001b[0m\n\u001b[0;32m     20\u001b[0m nx \u001b[38;5;241m=\u001b[39m x \u001b[38;5;241m+\u001b[39m dx[direction]\n\u001b[0;32m     21\u001b[0m ny \u001b[38;5;241m=\u001b[39m y \u001b[38;5;241m+\u001b[39m dy[direction]   \n\u001b[1;32m---> 23\u001b[0m \u001b[38;5;28;01mif\u001b[39;00m \u001b[43ma\u001b[49m\u001b[43m[\u001b[49m\u001b[43mnx\u001b[49m\u001b[38;5;241;43m-\u001b[39;49m\u001b[38;5;241;43m1\u001b[39;49m\u001b[43m]\u001b[49m[ny\u001b[38;5;241m-\u001b[39m\u001b[38;5;241m1\u001b[39m] \u001b[38;5;241m==\u001b[39m \u001b[38;5;28;01mTrue\u001b[39;00m:\n\u001b[0;32m     24\u001b[0m     count \u001b[38;5;241m+\u001b[39m\u001b[38;5;241m=\u001b[39m \u001b[38;5;241m1\u001b[39m\n\u001b[0;32m     25\u001b[0m     turn \u001b[38;5;241m=\u001b[39m \u001b[38;5;241m0\u001b[39m\n",
      "\u001b[1;31mIndexError\u001b[0m: index 4 is out of bounds for axis 0 with size 4"
     ]
    }
   ],
   "source": [
    "import numpy as np\n",
    "n, m = 4, 4\n",
    "input = '1111100111011111'\n",
    "a = np.array([True if i =='1' else False for i in input]).reshape(n, m)\n",
    "\n",
    "dir_ = [0, 1, 2, 3]\n",
    "dx = [0, 1, 0, -1]\n",
    "dy = [1, 0, -1, 0]\n",
    "\n",
    "x, y, direction = 1, 1, 0\n",
    "\n",
    "while True:\n",
    "    count = 0\n",
    "    turn = 0\n",
    "    \n",
    "    direction -= 1\n",
    "    if direction == -1:\n",
    "        direction = 3\n",
    "    \n",
    "    nx = x + dx[direction]\n",
    "    ny = y + dy[direction]   \n",
    "    \n",
    "    if a[nx-1][ny-1] == True:\n",
    "        count += 1\n",
    "        turn = 0\n",
    "        x = nx\n",
    "        y = ny\n",
    "        a[nx-1][ny-1] = False\n",
    "    \n",
    "    else :\n",
    "        turn += 1\n",
    "    \n",
    "    if turn == 4:\n",
    "        nx = x - dx[direction]\n",
    "        ny = y - dy[direction]\n",
    "        \n",
    "        if a[nx-1][ny-1] == True:\n",
    "            x = nx\n",
    "            y = ny\n",
    "        else:\n",
    "            break\n",
    "        turn = 0\n",
    "\n",
    "print(count)\n",
    "        \n",
    "    "
   ]
  },
  {
   "cell_type": "code",
   "execution_count": 54,
   "id": "8f73adea",
   "metadata": {},
   "outputs": [],
   "source": [
    "acount = 0\n",
    "turn = 0\n",
    "\n",
    "direction -= 1\n",
    "if direction == -1:\n",
    "    direction = 3\n",
    "\n",
    "nx = x + dx[direction]\n",
    "ny = y + dy[direction]   \n",
    "\n",
    "if a[nx-1][ny-1] == True:\n",
    "    count += 1\n",
    "    turn = 0\n",
    "    x = nx\n",
    "    y = ny\n",
    "    a[nx-1][ny-1] = False\n",
    "\n",
    "else :\n",
    "    turn += 1\n",
    "\n",
    "if turn == 4:\n",
    "    nx = x - dx[direction]\n",
    "    ny = y - dy[direction]\n",
    "\n",
    "    if a[nx-1][ny-1] == True:\n",
    "        x = nx\n",
    "        y = ny\n",
    "    else:\n",
    "        print('ㅇㅇ')\n",
    "        #break\n",
    "    turn = 0"
   ]
  },
  {
   "cell_type": "code",
   "execution_count": 55,
   "id": "6a2a8199",
   "metadata": {},
   "outputs": [
    {
     "data": {
      "text/plain": [
       "4"
      ]
     },
     "execution_count": 55,
     "metadata": {},
     "output_type": "execute_result"
    }
   ],
   "source": [
    "x"
   ]
  },
  {
   "cell_type": "code",
   "execution_count": 56,
   "id": "69230f6d",
   "metadata": {},
   "outputs": [
    {
     "data": {
      "text/plain": [
       "3"
      ]
     },
     "execution_count": 56,
     "metadata": {},
     "output_type": "execute_result"
    }
   ],
   "source": [
    "y"
   ]
  },
  {
   "cell_type": "code",
   "execution_count": 58,
   "id": "9a24208e",
   "metadata": {},
   "outputs": [
    {
     "data": {
      "text/plain": [
       "False"
      ]
     },
     "execution_count": 58,
     "metadata": {},
     "output_type": "execute_result"
    }
   ],
   "source": [
    "a[x-1][y-1]"
   ]
  },
  {
   "cell_type": "code",
   "execution_count": 59,
   "id": "f773b6e8",
   "metadata": {},
   "outputs": [
    {
     "data": {
      "text/plain": [
       "array([[False,  True,  True, False],\n",
       "       [False, False, False, False],\n",
       "       [False, False, False, False],\n",
       "       [False, False, False, False]])"
      ]
     },
     "execution_count": 59,
     "metadata": {},
     "output_type": "execute_result"
    }
   ],
   "source": [
    "a"
   ]
  },
  {
   "cell_type": "code",
   "execution_count": 61,
   "id": "0cd8b25b",
   "metadata": {},
   "outputs": [
    {
     "data": {
      "text/plain": [
       "0"
      ]
     },
     "execution_count": 61,
     "metadata": {},
     "output_type": "execute_result"
    }
   ],
   "source": [
    "count"
   ]
  },
  {
   "cell_type": "code",
   "execution_count": null,
   "id": "017357c2",
   "metadata": {},
   "outputs": [],
   "source": []
  }
 ],
 "metadata": {
  "kernelspec": {
   "display_name": "Python 3 (ipykernel)",
   "language": "python",
   "name": "python3"
  },
  "language_info": {
   "codemirror_mode": {
    "name": "ipython",
    "version": 3
   },
   "file_extension": ".py",
   "mimetype": "text/x-python",
   "name": "python",
   "nbconvert_exporter": "python",
   "pygments_lexer": "ipython3",
   "version": "3.8.0"
  }
 },
 "nbformat": 4,
 "nbformat_minor": 5
}
