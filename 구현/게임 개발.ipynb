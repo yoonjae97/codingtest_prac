{
 "cells": [
  {
   "cell_type": "code",
   "execution_count": 35,
   "id": "7e76c3a4",
   "metadata": {},
   "outputs": [],
   "source": [
    "import numpy as np"
   ]
  },
  {
   "cell_type": "code",
   "execution_count": 90,
   "id": "017357c2",
   "metadata": {},
   "outputs": [
    {
     "name": "stdout",
     "output_type": "stream",
     "text": [
      "3\n"
     ]
    }
   ],
   "source": [
    "# 맵 크기, 시작 좌표, 방향 입력\n",
    "m, n = map(int, input().split())\n",
    "x, y, dir = map(int, input().split())\n",
    "\n",
    "# 맵 행렬 생성\n",
    "map_list = []\n",
    "for i in range(m):\n",
    "    a = list(map(int, input().split()))\n",
    "    map_list.append(a)\n",
    "\n",
    "map_list = np.array(map_list)\n",
    "#map_list[x, y] = 1\n",
    "\n",
    "# 방문 행렬 생성\n",
    "visit_list = np.zeros([m, n])\n",
    "visit_list[x, y] = 1\n",
    "\n",
    "# 북 동 남 서\n",
    "direction = [0, 1, 2, 3]\n",
    "\n",
    "dx = [-1, 0, 1, 0]\n",
    "dy = [0, -1, 0, 1]\n",
    "\n",
    "turn_time = 0\n",
    "visit = 1\n",
    "\n",
    "while True:\n",
    "    # 좌측으로 회전\n",
    "    dir -= 1\n",
    "    if dir == -1:\n",
    "        dir = 3\n",
    "    \n",
    "    nx = dx[dir] + x\n",
    "    ny = dy[dir] + y\n",
    "\n",
    "    # 이동위치가 행렬을 벗어날 경우 횟수만 +1\n",
    "    if nx < 1 or ny < 1 or nx > m or ny > n:\n",
    "        turn_time += 1\n",
    "        continue\n",
    "    \n",
    "    # 육지이고 방문한적 없는 장소일 경우 이동하고 이동한 장소 방문 처리\n",
    "    if map_list[nx, ny] == 0 and visit_list[nx, ny] == 0:\n",
    "        x = nx\n",
    "        y = ny\n",
    "        visit += 1\n",
    "        visit_list[x, y] = 1\n",
    "        turn_time = 0\n",
    "        continue\n",
    "\n",
    "    else :\n",
    "        turn_time += 1\n",
    "\n",
    "    # turn_time 4일 경우 방향 그대로 뒤로 이동\n",
    "    if turn_time == 4:\n",
    "        nx = x - dx[dir]\n",
    "        ny = y - dy[dir]\n",
    "\n",
    "        # 뒤가 육지일 경우 이동\n",
    "        if map_list[nx, ny] == 0:\n",
    "            x = nx\n",
    "            y = ny\n",
    "        \n",
    "        # 바다일 경우 종료\n",
    "        else:\n",
    "            break\n",
    "        \n",
    "        # 육지일 경우는 turn_time 초기화\n",
    "        turn_time = 0\n",
    "\n",
    "print(visit)\n"
   ]
  },
  {
   "cell_type": "markdown",
   "id": "a7944862",
   "metadata": {},
   "source": [
    "#### 오답노트\n",
    "- 1. 방향을 반대로 생각..\n",
    "- 2. 코딩테스트는 실무와 달리 예외처리를 고려하지 않고 빠르게 작성하는게 목표라는 점.\n",
    "- 3. 방문횟수는 시작이 1\n",
    "- 4. 방문행렬 따로 생성"
   ]
  },
  {
   "cell_type": "code",
   "execution_count": 94,
   "id": "2ef57e7f",
   "metadata": {},
   "outputs": [
    {
     "name": "stdout",
     "output_type": "stream",
     "text": [
      "3\n"
     ]
    }
   ],
   "source": [
    "# 모범답안\n",
    "\n",
    "# N, M을 공백으로 구분하여 입력받기\n",
    "n, m = map(int, input().split())\n",
    "\n",
    "# 방문한 위치를 저장하기 위한 맵을 생성하여 0으로 초기화\n",
    "d = [[0] * m for _ in range(n)]\n",
    "\n",
    "# 현재 캐릭터의 X 좌표, Y 좌표, 방향 입력받기\n",
    "x, y, direction = map(int, input().split())\n",
    "d[x][y] = 1 # 현재 좌표 방문 처리\n",
    "\n",
    "# 전체 맵 정보를 입력받기\n",
    "array = []\n",
    "for i in range(n):\n",
    "    array.append(list(map(int, input().split())))\n",
    "\n",
    "# 북, 동, 남, 서 방향 정의\n",
    "dx = [-1, 0, 1, 0]\n",
    "dy = [0, 1, 0, -1]\n",
    "\n",
    "# 왼쪽으로 회전\n",
    "def turn_left():\n",
    "    global direction\n",
    "    direction -= 1\n",
    "    if direction == -1:\n",
    "        direction = 3\n",
    "    \n",
    "# 시뮬레이션 시작\n",
    "count = 1\n",
    "turn_time = 0\n",
    "\n",
    "while True:\n",
    "    # 왼쪽으로 회전\n",
    "    turn_left()\n",
    "    nx = x + dx[direction]\n",
    "    ny = y + dy[direction]\n",
    "\n",
    "    # 회전한 이후 정면에 가보지 않은 칸이 존재하는 경우 이동\n",
    "    if d[nx][ny] == 0 and array[nx][ny] == 0:\n",
    "        d[nx][ny] = 1\n",
    "        x = nx\n",
    "        y = ny\n",
    "        count += 1\n",
    "        turn_time = 0\n",
    "        continue\n",
    "\n",
    "    # 회전한 이후 정면에 가보지 않은 칸이 없거나 바다인 경우\n",
    "    else :\n",
    "        turn_time += 1\n",
    "    \n",
    "    # 네 방향 모두 갈 수 없는 경우\n",
    "    if turn_time == 4:\n",
    "        nx = x - dx[direction]\n",
    "        ny = y - dy[direction]\n",
    "\n",
    "        # 뒤로 갈 수 있다면 이동하기\n",
    "        if array[nx][ny] == 0:\n",
    "            x = nx\n",
    "            y = ny\n",
    "    \n",
    "        # 뒤가 바다로 막혀있는 경우\n",
    "        else:\n",
    "            break\n",
    "\n",
    "        turn_time = 0\n",
    "\n",
    "print(count)"
   ]
  }
 ],
 "metadata": {
  "kernelspec": {
   "display_name": "Python 3.8.0 64-bit",
   "language": "python",
   "name": "python3"
  },
  "language_info": {
   "codemirror_mode": {
    "name": "ipython",
    "version": 3
   },
   "file_extension": ".py",
   "mimetype": "text/x-python",
   "name": "python",
   "nbconvert_exporter": "python",
   "pygments_lexer": "ipython3",
   "version": "3.8.0"
  },
  "vscode": {
   "interpreter": {
    "hash": "c2e55c9285be7209c352033cdce09d8fd6005e5e0666f201e74b15d445dd77cd"
   }
  }
 },
 "nbformat": 4,
 "nbformat_minor": 5
}
