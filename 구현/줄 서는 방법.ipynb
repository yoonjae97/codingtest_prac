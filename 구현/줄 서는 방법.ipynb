{
 "cells": [
  {
   "cell_type": "code",
   "execution_count": null,
   "metadata": {},
   "outputs": [],
   "source": [
    "import math\n",
    "\n",
    "def solution(n, k):\n",
    "    answer = []\n",
    "    numberlist = [i for i in range(1, n + 1)]\n",
    "    while (n != 0):\n",
    "        temp = math.factorial(n) // n\n",
    "        index = k // temp\n",
    "        k = k % temp\n",
    "        if k == 0:\n",
    "            answer.append(numberlist.pop(index - 1))\n",
    "        else:\n",
    "            answer.append(numberlist.pop(index))\n",
    "        n -= 1\n",
    "    return answer"
   ]
  }
 ],
 "metadata": {
  "language_info": {
   "name": "python"
  },
  "orig_nbformat": 4
 },
 "nbformat": 4,
 "nbformat_minor": 2
}
