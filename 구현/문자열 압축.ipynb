{
 "cells": [
  {
   "cell_type": "code",
   "execution_count": 25,
   "metadata": {},
   "outputs": [
    {
     "data": {
      "text/plain": [
       "7"
      ]
     },
     "execution_count": 25,
     "metadata": {},
     "output_type": "execute_result"
    }
   ],
   "source": [
    "s = 'aabbaccc'\n",
    "\n",
    "def solution(s):\n",
    "    answer = len(s)\n",
    "    for i in range(1, len(s) // 2 + 1):\n",
    "        word = s[0:i]\n",
    "        compressed = ''\n",
    "        count = 1\n",
    "\n",
    "        for j in range(i, len(s), i):\n",
    "            \n",
    "            if word == s[j:j + i]:\n",
    "                count += 1\n",
    "            \n",
    "            else:\n",
    "                compressed += word + str(count) if count >= 2 else word\n",
    "                word = s[j:j + i]\n",
    "                count = 1\n",
    "        \n",
    "        compressed += str(count) + word if count >= 2 else word\n",
    "\n",
    "        answer = min(answer, len(compressed))\n",
    "\n",
    "    return answer\n",
    "\n",
    "\n",
    "solution(s)"
   ]
  }
 ],
 "metadata": {
  "kernelspec": {
   "display_name": "Python 3",
   "language": "python",
   "name": "python3"
  },
  "language_info": {
   "codemirror_mode": {
    "name": "ipython",
    "version": 3
   },
   "file_extension": ".py",
   "mimetype": "text/x-python",
   "name": "python",
   "nbconvert_exporter": "python",
   "pygments_lexer": "ipython3",
   "version": "3.8.0 (tags/v3.8.0:fa919fd, Oct 14 2019, 19:37:50) [MSC v.1916 64 bit (AMD64)]"
  },
  "orig_nbformat": 4,
  "vscode": {
   "interpreter": {
    "hash": "c2e55c9285be7209c352033cdce09d8fd6005e5e0666f201e74b15d445dd77cd"
   }
  }
 },
 "nbformat": 4,
 "nbformat_minor": 2
}
