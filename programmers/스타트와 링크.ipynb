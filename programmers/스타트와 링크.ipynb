{
 "cells": [
  {
   "cell_type": "code",
   "execution_count": 38,
   "metadata": {},
   "outputs": [
    {
     "name": "stdout",
     "output_type": "stream",
     "text": [
      "5\n"
     ]
    }
   ],
   "source": [
    "# 1차시도 시간초과\n",
    "# import sys\n",
    "# input = sys.stdin.readline\n",
    "\n",
    "n = int(input())\n",
    "n_list = [_ for _ in range(n)]\n",
    "graph = [list(map(int, input().split())) for _ in range(n)]\n",
    "\n",
    "list_A = []\n",
    "result = 1e9\n",
    "\n",
    "def backtracking(cnt, idx):\n",
    "    global result \n",
    "    \n",
    "    if cnt == (n // 2):\n",
    "        result = min(result, compare(list_A))\n",
    "        print(list_A, result)\n",
    "\n",
    "    for i in range(idx, n):\n",
    "        if i not in list_A:\n",
    "            list_A.append(i)\n",
    "            backtracking(cnt + 1, idx + 1)\n",
    "            list_A.remove(i)\n",
    "\n",
    "def compare(list_A):\n",
    "    list_B = list(set(n_list) - set(list_A))\n",
    "    print(list_B, 'b')\n",
    "    val_A = 0\n",
    "    val_B = 0\n",
    "\n",
    "    for i in list_A:\n",
    "        for j in list_A:\n",
    "            if i != j:\n",
    "                val_A += graph[i][j]\n",
    "    \n",
    "    for i in list_B:\n",
    "        for j in list_B:\n",
    "            if i != j:\n",
    "                val_B += graph[i][j]\n",
    "\n",
    "    return abs(val_A - val_B)\n",
    "\n",
    "backtracking(0, 0)\n",
    "print(result)"
   ]
  },
  {
   "cell_type": "code",
   "execution_count": 81,
   "metadata": {},
   "outputs": [
    {
     "name": "stdout",
     "output_type": "stream",
     "text": [
      "0\n"
     ]
    }
   ],
   "source": [
    "# 2차 시간초과\n",
    "import sys\n",
    "input = sys.stdin.readline\n",
    "\n",
    "n = int(input())\n",
    "n_list = [_ for _ in range(n)]\n",
    "graph = [list(map(int, input().split())) for _ in range(n)]\n",
    "\n",
    "list_A = []\n",
    "result = 1e9\n",
    "\n",
    "def backtracking(cnt, idx):\n",
    "    global result \n",
    "    \n",
    "    if cnt == (n // 2):\n",
    "        result = min(result, compare(list_A))\n",
    "\n",
    "    else:\n",
    "        for i in range(idx, n):\n",
    "            if i not in list_A:\n",
    "                list_A.append(i)\n",
    "                backtracking(cnt + 1, idx + 1)\n",
    "                list_A.remove(i)\n",
    "\n",
    "def compare(list_A):\n",
    "    list_B = list(set(n_list) - set(list_A))\n",
    "    val_A = 0\n",
    "    val_B = 0\n",
    "\n",
    "    for i in range(len(list_A)):\n",
    "        for j in range(i + 1, len(list_A)):\n",
    "            if list_A[i] != list_A[j]:\n",
    "                val_A += graph[i][j]\n",
    "                val_A += graph[j][i]\n",
    "    \n",
    "    for i in range(len(list_B)):\n",
    "        for j in range(i + 1, len(list_B)):\n",
    "            if list_B[i] != list_B[j]:\n",
    "                val_B += graph[i][j]\n",
    "                val_B += graph[j][i]\n",
    "    return abs(val_A - val_B)\n",
    "\n",
    "backtracking(0, 0)\n",
    "print(result)\n"
   ]
  },
  {
   "cell_type": "code",
   "execution_count": null,
   "metadata": {},
   "outputs": [],
   "source": [
    "# 3차 시간초과\n",
    "import sys\n",
    "input = sys.stdin.readline\n",
    "\n",
    "n = int(input())\n",
    "graph = []\n",
    "result = 1e9\n",
    "visited = [False] * (n + 1)\n",
    "for _ in range(n):\n",
    "    graph.append(list(map(int, input().split())))\n",
    "\n",
    "def backtracking(cnt, idx):\n",
    "    global result \n",
    "    if cnt == (n // 2):\n",
    "        val_A, val_B = 0, 0\n",
    "        for i in range(n): \n",
    "            for j in range(i + 1, n): \n",
    "                if visited[i] and visited[j]:\n",
    "                    val_A += (graph[i][j] + graph[j][i]) \n",
    "                elif not visited[i] and not visited[j]:\n",
    "                    val_B += (graph[i][j] + graph[j][i])\n",
    "                    \n",
    "        result = min(result, abs(val_A - val_B))\n",
    "    for i in range(idx, n):\n",
    "        if not visited[i]:\n",
    "            visited[i] = True\n",
    "            backtracking(cnt + 1, idx + 1)\n",
    "            visited[i] = False\n",
    "\n",
    "backtracking(0, 0)\n",
    "print(result)"
   ]
  },
  {
   "cell_type": "code",
   "execution_count": 78,
   "metadata": {},
   "outputs": [
    {
     "name": "stdout",
     "output_type": "stream",
     "text": [
      "0\n"
     ]
    }
   ],
   "source": [
    "# 참고한 답안\n",
    "N = int(input())\n",
    "array = []\n",
    "result = 1e9 #결과값 출력을 위한 result값을 문제의 범위를 벗어나는 큰 수로 초기화\n",
    "visited = [False] * (N + 1) #방문여부를 확인하는 리스트\n",
    "for _ in range(N):\n",
    "    array.append(list(map(int, input().split())))\n",
    "\n",
    "\n",
    "def solve(depth, idx):\n",
    "    global result\n",
    "    if depth == (N // 2): # N // 2 번만큼 재귀를 돌면\n",
    "        start, link = 0, 0 #start팀과 link팀 0으로 선언\n",
    "        for i in range(N): \n",
    "            for j in range(i + 1, N): #이중 리스트의 열은 굳이 0부터 돌필요가 없기 때문에 i + 1 로 범위를 좁혀준다. \n",
    "                if visited[i] and visited[j]: #만약 i,j 둘다 방문 했다면 \n",
    "                    start += (array[i][j] + array[j][i]) #방문한 사람을 스타트팀에 더해준다.\n",
    "                elif not visited[i] and not visited[j]: # 방문 안한 i j 는 링크팀이므로\n",
    "                    link += (array[i][j] + array[j][i])  #방문안한 사람을 링크팀에 더해준다\n",
    "        \n",
    "        result = min(result, abs(start - link)) #최솟값을 결과값에 대입\n",
    "    for i in range(idx, N): \n",
    "        if not visited[i]: #만약 방문을 안했다면\n",
    "            visited[i] = True #방문으로 처리\n",
    "            solve(depth + 1, i + 1) #재귀를 돈다 \n",
    "            visited[i] = False #방문 완료 처리\n",
    "\n",
    "\n",
    "solve(0, 0)\n",
    "print(result)"
   ]
  },
  {
   "attachments": {},
   "cell_type": "markdown",
   "metadata": {},
   "source": [
    "- 반복을 최대한 줄이는 것이 중요하다"
   ]
  }
 ],
 "metadata": {
  "kernelspec": {
   "display_name": "Python 3",
   "language": "python",
   "name": "python3"
  },
  "language_info": {
   "codemirror_mode": {
    "name": "ipython",
    "version": 3
   },
   "file_extension": ".py",
   "mimetype": "text/x-python",
   "name": "python",
   "nbconvert_exporter": "python",
   "pygments_lexer": "ipython3",
   "version": "3.8.0"
  },
  "orig_nbformat": 4,
  "vscode": {
   "interpreter": {
    "hash": "c2e55c9285be7209c352033cdce09d8fd6005e5e0666f201e74b15d445dd77cd"
   }
  }
 },
 "nbformat": 4,
 "nbformat_minor": 2
}
