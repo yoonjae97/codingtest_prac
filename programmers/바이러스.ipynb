{
 "cells": [
  {
   "cell_type": "code",
   "execution_count": 15,
   "metadata": {},
   "outputs": [],
   "source": [
    "from collections import deque\n",
    "\n",
    "n = int(input())\n",
    "m = int(input())\n",
    "lst = [[] for i in range(n + 1)]\n",
    "state = [False] * (n + 1)\n",
    "\n",
    "for _ in range(m):\n",
    "    x, y = map(int, input().split())\n",
    "    lst[x].append(y)\n",
    "    lst[y].append(x)\n",
    "\n",
    "q = deque()\n",
    "q.append(1)\n",
    "\n",
    "while q:\n",
    "    now = q.popleft()\n",
    "\n",
    "    for i in lst[now]:\n",
    "        if state[i] == False:\n",
    "            q.append(i)\n",
    "            state[i] = True\n",
    "\n",
    "count = -1\n",
    "\n",
    "for i in state:\n",
    "    if i:\n",
    "        count += 1\n",
    "        \n",
    "print(count)\n"
   ]
  }
 ],
 "metadata": {
  "kernelspec": {
   "display_name": "Python 3",
   "language": "python",
   "name": "python3"
  },
  "language_info": {
   "codemirror_mode": {
    "name": "ipython",
    "version": 3
   },
   "file_extension": ".py",
   "mimetype": "text/x-python",
   "name": "python",
   "nbconvert_exporter": "python",
   "pygments_lexer": "ipython3",
   "version": "3.8.0"
  },
  "orig_nbformat": 4,
  "vscode": {
   "interpreter": {
    "hash": "c2e55c9285be7209c352033cdce09d8fd6005e5e0666f201e74b15d445dd77cd"
   }
  }
 },
 "nbformat": 4,
 "nbformat_minor": 2
}
