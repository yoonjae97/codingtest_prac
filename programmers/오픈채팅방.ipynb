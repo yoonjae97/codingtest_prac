{
 "cells": [
  {
   "cell_type": "code",
   "execution_count": null,
   "metadata": {},
   "outputs": [],
   "source": [
    "def solution(record):\n",
    "    result_lst = []\n",
    "    name_dict = {}\n",
    "    for i in record:\n",
    "        temp_lst = i.split()\n",
    "\n",
    "        if temp_lst[0] == 'Enter':\n",
    "            result_lst.append([temp_lst[0], temp_lst[1]])\n",
    "            name_dict[temp_lst[1]] = temp_lst[2]\n",
    "            \n",
    "        elif temp_lst[0] == 'Leave':\n",
    "            result_lst.append([temp_lst[0], temp_lst[1]])\n",
    "            \n",
    "        else:\n",
    "            name_dict[temp_lst[1]] = temp_lst[2]\n",
    "    \n",
    "    result = []\n",
    "    for i in result_lst:\n",
    "        if i[0] == 'Enter':\n",
    "            result.append(f'{name_dict[i[1]]}님이 들어왔습니다.')\n",
    "        else:\n",
    "            result.append(f'{name_dict[i[1]]}님이 나갔습니다.')\n",
    "    \n",
    "    return result"
   ]
  },
  {
   "attachments": {},
   "cell_type": "markdown",
   "metadata": {},
   "source": [
    "# 일단 split 으로 쪼개서\n",
    "# 첫 단어가 enter, leave일 경우 첫 단어하고 uid만 최종 리스트에 따로 저장\n",
    "# dict 활용해서 uid를 key로 value를 이름으로 준다.\n",
    "# 첫 단어가 change일 경우 dict[uid]를 바뀐이름으로 변경\n",
    "\n",
    "# 최종 리스트 반복문 활용해서 출력"
   ]
  }
 ],
 "metadata": {
  "language_info": {
   "name": "python"
  },
  "orig_nbformat": 4
 },
 "nbformat": 4,
 "nbformat_minor": 2
}
