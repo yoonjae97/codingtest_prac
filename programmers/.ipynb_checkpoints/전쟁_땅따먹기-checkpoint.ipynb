{
 "cells": [
  {
   "cell_type": "code",
   "execution_count": null,
   "id": "546cd05c",
   "metadata": {},
   "outputs": [],
   "source": [
    "from collections import Counter\n",
    "import sys\n",
    "\n",
    "n = int(sys.stdin.readline())\n",
    "\n",
    "g_lst = []\n",
    "\n",
    "for _ in range(n):\n",
    "    lst = list(map(int, sys.stdin.readline().split()))\n",
    "    cri = lst[0]/2\n",
    "    temp_lst = lst[1:]\n",
    "\n",
    "    result = Counter(temp_lst)\n",
    "\n",
    "    result = sorted(result.items(), key=lambda x: x[1], reverse=True)\n",
    "    print(result)\n",
    "    if cri < result[0][1]:\n",
    "        print(result[0][0])\n",
    "    else:\n",
    "        print('SYJKGW')"
   ]
  },
  {
   "cell_type": "code",
   "execution_count": null,
   "id": "f879d71c",
   "metadata": {},
   "outputs": [],
   "source": [
    "\n",
    "from collections import Counter\n",
    "import sys\n",
    "\n",
    "n = int(sys.stdin.readline())\n",
    "\n",
    "g_lst = []\n",
    "\n",
    "for _ in range(n):\n",
    "    lst = list(map(int, sys.stdin.readline().split()))\n",
    "    cri = lst[0]/2\n",
    "    temp_lst = lst[1:]\n",
    "\n",
    "    result = Counter(temp_lst).most_common(1)\n",
    "\n",
    "    print(result)\n",
    "    if cri < result[0][1]:\n",
    "        print(result[0][0])\n",
    "    else:\n",
    "        print('SYJKGW')"
   ]
  },
  {
   "cell_type": "markdown",
   "id": "774caf01",
   "metadata": {},
   "source": [
    "- 하나씩 딕셔너리 형태로 받을 수 있지만 Counter를 사용할 경우 훨씬 간단하게 풀 수 있는 문제였다.\n",
    "- Counter에서 most_common 함수를 사용하면 값이 가장 많이 나온 것부터 내림차순 형태로 반환한다.\n",
    "- most_common에 숫자값을 줌으로써 많이 등장한 key, val 값을 숫자값만큼 얻을 수 있다."
   ]
  },
  {
   "cell_type": "markdown",
   "id": "840374dc",
   "metadata": {},
   "source": [
    "##### 주의\n",
    "- input() 내장함수는 입력받은 값의 개행 문자를 삭제(rstrip함수 적용)시켜서 리턴하고 prompt message를 출력한다.\n",
    "- sys.stdin.readline() 함수는 개행 문자를 포함한 값을 리턴하며 prompt message를 인수로 받지 않는다."
   ]
  },
  {
   "cell_type": "markdown",
   "id": "fe417a1b",
   "metadata": {},
   "source": [
    "### 보이어-무어 다수결 투표 알고리즘\n",
    "- https://lighter.tistory.com/22"
   ]
  },
  {
   "cell_type": "code",
   "execution_count": null,
   "id": "82a81f0b",
   "metadata": {},
   "outputs": [],
   "source": [
    "def boyer_moore_majority(arr):\n",
    "    count = 0 # 과반수 원소 후보의 실질적인 개수 \n",
    "    major = 0 # 과반수 원소 후보 번호\n",
    "    \n",
    "    for ele in arr:\n",
    "        if count == 0: # 후보가 실질적으로 0번 등장했다면\n",
    "            major = ele # 후보 교체\n",
    "        if major == ele: \n",
    "            count += 1\n",
    "        else:\n",
    "            count -= 1\n",
    "    \n",
    "    k = len(arr)\n",
    "    m = 0\n",
    "\n",
    "    for ele in arr:\n",
    "        if ele == major:\n",
    "            m += 1\n",
    "    \n",
    "    if m > k//2:\n",
    "        return m, major # 과반수 원소 갯수와 원소 반환\n",
    "    else:\n",
    "        return None, None\n"
   ]
  },
  {
   "cell_type": "markdown",
   "id": "fc6d57c4",
   "metadata": {},
   "source": [
    "- 과반 수 이상을 차지하는 요소는 다른 요소들로 인해 상쇄될 수 없다는 점을 이용한 것"
   ]
  },
  {
   "cell_type": "code",
   "execution_count": null,
   "id": "3df92605",
   "metadata": {},
   "outputs": [],
   "source": []
  }
 ],
 "metadata": {
  "kernelspec": {
   "display_name": "Python 3 (ipykernel)",
   "language": "python",
   "name": "python3"
  },
  "language_info": {
   "codemirror_mode": {
    "name": "ipython",
    "version": 3
   },
   "file_extension": ".py",
   "mimetype": "text/x-python",
   "name": "python",
   "nbconvert_exporter": "python",
   "pygments_lexer": "ipython3",
   "version": "3.10.9"
  }
 },
 "nbformat": 4,
 "nbformat_minor": 5
}
