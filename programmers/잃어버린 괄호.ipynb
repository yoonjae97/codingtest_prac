{
 "cells": [
  {
   "cell_type": "code",
   "execution_count": 17,
   "metadata": {},
   "outputs": [
    {
     "name": "stdout",
     "output_type": "stream",
     "text": [
      "-30\n"
     ]
    }
   ],
   "source": [
    "x = input().split('-')\n",
    "s = 0\n",
    "\n",
    "for i in x[0].split('+'):\n",
    "    s += int(i)\n",
    "\n",
    "for i in x[1:]:\n",
    "    for j in i.split('+'):\n",
    "        s -= int(j)\n",
    "\n",
    "print(s)\n",
    "\n"
   ]
  },
  {
   "attachments": {},
   "cell_type": "markdown",
   "metadata": {},
   "source": [
    "##### 규칙\n",
    "\n",
    "- '-'를 기준으로 나누기\n",
    "- 나눈 값 중 첫번째는 더하기\n",
    "- 나머지는 - () 이므로 뺄 것"
   ]
  }
 ],
 "metadata": {
  "kernelspec": {
   "display_name": "Python 3",
   "language": "python",
   "name": "python3"
  },
  "language_info": {
   "codemirror_mode": {
    "name": "ipython",
    "version": 3
   },
   "file_extension": ".py",
   "mimetype": "text/x-python",
   "name": "python",
   "nbconvert_exporter": "python",
   "pygments_lexer": "ipython3",
   "version": "3.8.0"
  },
  "orig_nbformat": 4,
  "vscode": {
   "interpreter": {
    "hash": "c2e55c9285be7209c352033cdce09d8fd6005e5e0666f201e74b15d445dd77cd"
   }
  }
 },
 "nbformat": 4,
 "nbformat_minor": 2
}
