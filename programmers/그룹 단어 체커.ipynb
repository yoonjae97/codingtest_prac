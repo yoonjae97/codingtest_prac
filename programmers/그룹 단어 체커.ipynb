{
 "cells": [
  {
   "cell_type": "code",
   "execution_count": 16,
   "metadata": {},
   "outputs": [
    {
     "name": "stdout",
     "output_type": "stream",
     "text": [
      "1\n"
     ]
    }
   ],
   "source": [
    "n = int(input())\n",
    "lst = []\n",
    "count = 0\n",
    "\n",
    "for _ in range(n):\n",
    "    lst.append(input())\n",
    "    \n",
    "def word_checker(word):\n",
    "    if len(word) == 1:\n",
    "        return True\n",
    "    \n",
    "    result = []\n",
    "    result.append(word[0]) \n",
    "    for i in range(1, len(word)):\n",
    "        if word[i - 1] == word[i]:\n",
    "            continue\n",
    "        else:\n",
    "            if word[i] not in result:\n",
    "                result.append(word[i])\n",
    "            else:\n",
    "                return False\n",
    "    return True\n",
    "\n",
    "for word in lst:\n",
    "    if word_checker(word) == True:\n",
    "        count += 1\n",
    "\n",
    "print(count)"
   ]
  },
  {
   "cell_type": "code",
   "execution_count": null,
   "metadata": {},
   "outputs": [],
   "source": [
    "# 다른 사람의 풀이\n",
    "N = int(input())\n",
    "cnt = N\n",
    "\n",
    "for i in range(N):\n",
    "    word = input()\n",
    "    for j in range(0, len(word)-1):\n",
    "        if word[j] == word[j+1]:\n",
    "            pass\n",
    "        elif word[j] in word[j+1:]:\n",
    "            cnt -= 1\n",
    "            break\n",
    "\n",
    "print(cnt)"
   ]
  }
 ],
 "metadata": {
  "kernelspec": {
   "display_name": "Python 3",
   "language": "python",
   "name": "python3"
  },
  "language_info": {
   "codemirror_mode": {
    "name": "ipython",
    "version": 3
   },
   "file_extension": ".py",
   "mimetype": "text/x-python",
   "name": "python",
   "nbconvert_exporter": "python",
   "pygments_lexer": "ipython3",
   "version": "3.8.0"
  },
  "orig_nbformat": 4,
  "vscode": {
   "interpreter": {
    "hash": "c2e55c9285be7209c352033cdce09d8fd6005e5e0666f201e74b15d445dd77cd"
   }
  }
 },
 "nbformat": 4,
 "nbformat_minor": 2
}
