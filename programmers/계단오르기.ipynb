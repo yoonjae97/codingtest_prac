{
 "cells": [
  {
   "cell_type": "code",
   "execution_count": 14,
   "metadata": {},
   "outputs": [
    {
     "name": "stdout",
     "output_type": "stream",
     "text": [
      "75\n"
     ]
    }
   ],
   "source": [
    "import sys\n",
    "input = sys.stdin.readline\n",
    "\n",
    "n = int(input())\n",
    "lst = [int(input()) for i in range(n)]\n",
    "dp = [0] * n\n",
    "\n",
    "if len(lst) <= 2:\n",
    "    print(sum(lst))\n",
    "else:\n",
    "    dp[0] = lst[0]\n",
    "    dp[1] = lst[0] + lst[1]\n",
    "    for i in range(2, n):\n",
    "        dp[i] = max(dp[i-3] + lst[i-1] + lst[i], dp[i-2] + lst[i])\n",
    "    print(dp[-1])"
   ]
  }
 ],
 "metadata": {
  "kernelspec": {
   "display_name": "Python 3",
   "language": "python",
   "name": "python3"
  },
  "language_info": {
   "codemirror_mode": {
    "name": "ipython",
    "version": 3
   },
   "file_extension": ".py",
   "mimetype": "text/x-python",
   "name": "python",
   "nbconvert_exporter": "python",
   "pygments_lexer": "ipython3",
   "version": "3.8.0"
  },
  "orig_nbformat": 4,
  "vscode": {
   "interpreter": {
    "hash": "c2e55c9285be7209c352033cdce09d8fd6005e5e0666f201e74b15d445dd77cd"
   }
  }
 },
 "nbformat": 4,
 "nbformat_minor": 2
}
