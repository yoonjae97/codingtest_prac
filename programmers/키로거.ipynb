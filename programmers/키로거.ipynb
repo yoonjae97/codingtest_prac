{
 "cells": [
  {
   "cell_type": "code",
   "execution_count": 9,
   "metadata": {},
   "outputs": [
    {
     "name": "stdout",
     "output_type": "stream",
     "text": [
      "BAPC\n"
     ]
    }
   ],
   "source": [
    "n = int(input())\n",
    "\n",
    "for _ in range(n):\n",
    "    st = input()\n",
    "    left = []\n",
    "    right = []\n",
    "\n",
    "    for i in st:\n",
    "        if i == '>':\n",
    "            if right:\n",
    "                left.append(right.pop())\n",
    "        \n",
    "        elif i == '<':\n",
    "            if left:\n",
    "                right.append(left.pop())\n",
    "        \n",
    "        elif i == '-':\n",
    "            if left:\n",
    "                left.pop()\n",
    "\n",
    "        else:\n",
    "            left.append(i)\n",
    "    \n",
    "    print(\"\".join(left) + \"\".join(reversed(right)))\n",
    "\n"
   ]
  },
  {
   "attachments": {},
   "cell_type": "markdown",
   "metadata": {},
   "source": [
    "1. 화살표와 백스페이스가 없을 때는 바로 출력\n",
    "2. 화살표가 맨 앞에 올 때 처리 필요\n",
    "3. 커서의 위치 갱신 필요"
   ]
  },
  {
   "attachments": {},
   "cell_type": "markdown",
   "metadata": {},
   "source": [
    "- https://reliablecho-programming.tistory.com/102 풀이 참고함\n",
    "- 커서 인덱스를 카운팅할 필요없이 리스트 2개를 활용하면 간단해지는 문제였다.\n",
    "- right의 경우 뒤집어서 붙여야한다."
   ]
  }
 ],
 "metadata": {
  "kernelspec": {
   "display_name": "Python 3",
   "language": "python",
   "name": "python3"
  },
  "language_info": {
   "codemirror_mode": {
    "name": "ipython",
    "version": 3
   },
   "file_extension": ".py",
   "mimetype": "text/x-python",
   "name": "python",
   "nbconvert_exporter": "python",
   "pygments_lexer": "ipython3",
   "version": "3.8.0"
  },
  "orig_nbformat": 4,
  "vscode": {
   "interpreter": {
    "hash": "c2e55c9285be7209c352033cdce09d8fd6005e5e0666f201e74b15d445dd77cd"
   }
  }
 },
 "nbformat": 4,
 "nbformat_minor": 2
}
