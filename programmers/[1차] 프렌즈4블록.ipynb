{
 "cells": [
  {
   "cell_type": "code",
   "execution_count": null,
   "metadata": {},
   "outputs": [],
   "source": [
    "def solution(m, n, board):    \n",
    "    board1 = [[board[j][i] for j in range(m)]for i in range(n)]\n",
    "    count = n * m\n",
    "    temp = 0\n",
    "    \n",
    "    while count != temp:\n",
    "\n",
    "        check_list = [[False for j in range(m)] for i in range(n)]\n",
    "\n",
    "        for i in range(n - 1):\n",
    "            for j in range(m - 1):\n",
    "                if board1[i][j] == board1[i][j + 1] == board1[i + 1][j] == board1[i + 1][j + 1]:\n",
    "                    check_list[i][j] = True\n",
    "                    check_list[i + 1][j] = True\n",
    "                    check_list[i][j + 1] = True\n",
    "                    check_list[i + 1][j + 1] = True\n",
    "\n",
    "        for i in range(n):\n",
    "            for j in range(m):\n",
    "                if check_list[i][j]:\n",
    "                    board1[i][j] = None\n",
    "                    temp += 1\n",
    "\n",
    "        for i in range(len(board1)):\n",
    "            for j in range(len(board1[i])):\n",
    "                if board1[i][j] == None:\n",
    "\n",
    "                    for k in range(j, 0, -1):\n",
    "\n",
    "                        board1[i][k] = board1[i][k - 1]\n",
    "                        board1[i][k - 1] = None\n",
    "        \n",
    "        if count != temp:\n",
    "            count = temp\n",
    "            temp = 0\n",
    "            \n",
    "    result = 0\n",
    "    \n",
    "    for i in range(n):\n",
    "        for j in range(m):\n",
    "            if board1[i][j]:\n",
    "                result += 1\n",
    "    \n",
    "    return (n*m) - result"
   ]
  },
  {
   "attachments": {},
   "cell_type": "markdown",
   "metadata": {},
   "source": [
    "-  board1[i][j] == board1[i][j + 1] == board1[i + 1][j] == board1[i + 1][j + 1]\n",
    "- 이 부분을 떠올리지 못해서 다른 블로그의 풀이를 참고했다.\n",
    "- https://comdoc.tistory.com/entry/42-%ED%94%84%EB%A0%8C%EC%A6%884%EB%B8%94%EB%A1%9D"
   ]
  },
  {
   "attachments": {},
   "cell_type": "markdown",
   "metadata": {},
   "source": [
    "- 코드를 짤 때 쓸데없는 반복을 피하도록 생각할 것\n",
    "\n"
   ]
  }
 ],
 "metadata": {
  "language_info": {
   "name": "python"
  },
  "orig_nbformat": 4
 },
 "nbformat": 4,
 "nbformat_minor": 2
}
