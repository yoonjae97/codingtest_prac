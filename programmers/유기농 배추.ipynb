{
 "cells": [
  {
   "cell_type": "code",
   "execution_count": null,
   "metadata": {},
   "outputs": [],
   "source": [
    "#import sys\n",
    "\n",
    "#input = sys.stdin.readline\n",
    "\n",
    "t = int(input())\n",
    "m, n, k = map(int, input().split())\n",
    "\n",
    "loc = [[0] * (n) for i in range(m)]\n",
    "\n",
    "for _ in range(k):\n",
    "    x, y = map(int, input().split())\n",
    "    loc[x][y] = 1"
   ]
  },
  {
   "cell_type": "code",
   "execution_count": null,
   "metadata": {},
   "outputs": [],
   "source": []
  }
 ],
 "metadata": {
  "kernelspec": {
   "display_name": "torch_book",
   "language": "python",
   "name": "python3"
  },
  "language_info": {
   "codemirror_mode": {
    "name": "ipython",
    "version": 3
   },
   "file_extension": ".py",
   "mimetype": "text/x-python",
   "name": "python",
   "nbconvert_exporter": "python",
   "pygments_lexer": "ipython3",
   "version": "3.9.0"
  },
  "orig_nbformat": 4,
  "vscode": {
   "interpreter": {
    "hash": "edd1d8f499feb6b461b16d8379c06d61e21fc1c4d3adb4a3e21977ccd33f1089"
   }
  }
 },
 "nbformat": 4,
 "nbformat_minor": 2
}
