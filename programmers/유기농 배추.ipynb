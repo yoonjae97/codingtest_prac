{
 "cells": [
  {
   "cell_type": "code",
   "execution_count": null,
   "metadata": {},
   "outputs": [],
   "source": [
    "import sys\n",
    "input = sys.stdin.readline\n",
    "sys.setrecursionlimit(10000)\n",
    "def find_worm(x, y):\n",
    "    dx = [-1, 1, 0, 0]\n",
    "    dy = [0, 0, -1, 1]\n",
    "\n",
    "    for i in range(4):\n",
    "    \n",
    "        nx = x + dx[i]\n",
    "        ny = y + dy[i]\n",
    "\n",
    "        if nx >= 0 and nx < m and ny >= 0 and ny < n:\n",
    "            if lst[nx][ny] == 1:\n",
    "                lst[nx][ny] = 0\n",
    "                find_worm(nx, ny)\n",
    "\n",
    "t = int(input())\n",
    "# 열 행 개수\n",
    "for _ in range(t):\n",
    "    m, n, k = map(int, input().split())\n",
    "    lst = [[0] * n for _ in range(m)]\n",
    "\n",
    "    for _ in range(k):\n",
    "        x, y = map(int, input().split())\n",
    "        lst[x][y] = 1\n",
    "\n",
    "    count = 0\n",
    "\n",
    "    for i in range(m):\n",
    "        for j in range(n):\n",
    "            if lst[i][j] == 1:\n",
    "                find_worm(i, j)\n",
    "                count += 1\n",
    "\n",
    "    print(count)"
   ]
  }
 ],
 "metadata": {
  "kernelspec": {
   "display_name": "base",
   "language": "python",
   "name": "python3"
  },
  "language_info": {
   "codemirror_mode": {
    "name": "ipython",
    "version": 3
   },
   "file_extension": ".py",
   "mimetype": "text/x-python",
   "name": "python",
   "nbconvert_exporter": "python",
   "pygments_lexer": "ipython3",
   "version": "3.8.0"
  },
  "orig_nbformat": 4,
  "vscode": {
   "interpreter": {
    "hash": "7caafd1d1ac70734489f6ac4804ba0a432e88ee0c506a5d0c032ccb1a0009b91"
   }
  }
 },
 "nbformat": 4,
 "nbformat_minor": 2
}
