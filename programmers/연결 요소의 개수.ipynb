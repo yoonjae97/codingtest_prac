{
 "cells": [
  {
   "cell_type": "code",
   "execution_count": 32,
   "metadata": {},
   "outputs": [
    {
     "name": "stdout",
     "output_type": "stream",
     "text": [
      "2\n"
     ]
    }
   ],
   "source": [
    "from collections import deque\n",
    "import sys\n",
    "\n",
    "input = sys.stdin.readline\n",
    "\n",
    "n, m = map(int, input().split())\n",
    "lst = [[] for i in range(n + 1)]\n",
    "visit = [False] * (n + 1)\n",
    "count = 0\n",
    "\n",
    "for _ in range(m):\n",
    "    x, y = map(int, input().split())\n",
    "    lst[x].append(y)\n",
    "    lst[y].append(x)\n",
    "\n",
    "def bfs(i):\n",
    "\n",
    "    q = deque()\n",
    "    q.append(i)\n",
    "    visit[i] = True\n",
    "\n",
    "    while q:\n",
    "        now = q.popleft()\n",
    "        visit[now] = True\n",
    "\n",
    "        for j in lst[now]:\n",
    "            if not visit[j]:\n",
    "                visit[j] = True\n",
    "                q.append(j)\n",
    "\n",
    "for i in range(1, n + 1):\n",
    "    if not visit[i]:\n",
    "        bfs(i)\n",
    "        count += 1\n",
    "\n",
    "print(count)\n",
    "\n",
    "\n",
    "\n",
    "\n",
    "    \n",
    "\n"
   ]
  }
 ],
 "metadata": {
  "kernelspec": {
   "display_name": "Python 3",
   "language": "python",
   "name": "python3"
  },
  "language_info": {
   "codemirror_mode": {
    "name": "ipython",
    "version": 3
   },
   "file_extension": ".py",
   "mimetype": "text/x-python",
   "name": "python",
   "nbconvert_exporter": "python",
   "pygments_lexer": "ipython3",
   "version": "3.8.0"
  },
  "orig_nbformat": 4,
  "vscode": {
   "interpreter": {
    "hash": "c2e55c9285be7209c352033cdce09d8fd6005e5e0666f201e74b15d445dd77cd"
   }
  }
 },
 "nbformat": 4,
 "nbformat_minor": 2
}
