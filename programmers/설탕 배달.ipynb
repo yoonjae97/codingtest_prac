{
 "cells": [
  {
   "cell_type": "code",
   "execution_count": 12,
   "metadata": {},
   "outputs": [
    {
     "name": "stdout",
     "output_type": "stream",
     "text": [
      "4\n"
     ]
    }
   ],
   "source": [
    "n = int(input())\n",
    "inf = 1e9\n",
    "lst = [inf] * 19\n",
    "count = 0\n",
    "\n",
    "while n >= 0:\n",
    "    if n % 5 == 0:\n",
    "        count += (n // 5)\n",
    "        print(count)\n",
    "        break\n",
    "    n -= 3\n",
    "    count += 1\n",
    "\n",
    "else:\n",
    "    print(-1)\n"
   ]
  },
  {
   "attachments": {},
   "cell_type": "markdown",
   "metadata": {},
   "source": [
    "1. 일단 5키로로 나눈다?\n",
    "2. 5키로로 나눠지면 몫을 사용\n",
    "3. 5키로로 안나눠지면 3을뺀다(1 ~ 3 반복)\n",
    "4. 안나눠지면 -1"
   ]
  }
 ],
 "metadata": {
  "kernelspec": {
   "display_name": "Python 3",
   "language": "python",
   "name": "python3"
  },
  "language_info": {
   "codemirror_mode": {
    "name": "ipython",
    "version": 3
   },
   "file_extension": ".py",
   "mimetype": "text/x-python",
   "name": "python",
   "nbconvert_exporter": "python",
   "pygments_lexer": "ipython3",
   "version": "3.8.0"
  },
  "orig_nbformat": 4,
  "vscode": {
   "interpreter": {
    "hash": "c2e55c9285be7209c352033cdce09d8fd6005e5e0666f201e74b15d445dd77cd"
   }
  }
 },
 "nbformat": 4,
 "nbformat_minor": 2
}
