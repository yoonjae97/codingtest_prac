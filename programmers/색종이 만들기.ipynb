{
 "cells": [
  {
   "cell_type": "code",
   "execution_count": 15,
   "metadata": {},
   "outputs": [
    {
     "name": "stdout",
     "output_type": "stream",
     "text": [
      "9 7 "
     ]
    }
   ],
   "source": [
    "# 답안\n",
    "n = int(input())\n",
    "lst = []\n",
    "\n",
    "for i in range(n):\n",
    "    lst.append(list(map(int, input().split())))\n",
    "\n",
    "def func(x, y, n):\n",
    "    global white, blue\n",
    "    color = lst[x][y]\n",
    "\n",
    "    for i in range(x, x + n):\n",
    "        for j in range(y, y + n):\n",
    "            if color != lst[i][j]:\n",
    "                func(x, y, + n // 2)\n",
    "                func(x, y + n // 2, n // 2)\n",
    "                func(x + n // 2, y, n // 2)\n",
    "                func(x + n // 2, y + n // 2, n // 2)\n",
    "                return\n",
    "    \n",
    "    if color == 0:\n",
    "        white += 1\n",
    "    \n",
    "    else:\n",
    "        blue += 1\n",
    "white = 0\n",
    "blue = 0\n",
    "func(0, 0, n)\n",
    "print(white, blue, end = ' ')"
   ]
  },
  {
   "cell_type": "code",
   "execution_count": null,
   "metadata": {},
   "outputs": [],
   "source": [
    "# 틀린 답안\n",
    "white = 0\n",
    "blue = 0\n",
    "\n",
    "def func(lst):\n",
    "    global blue, white\n",
    "    if count(lst) != 2 or len(lst) == 1:\n",
    "        if count(lst) == 1:\n",
    "            blue += 1\n",
    "        else:\n",
    "            white += 1\n",
    "    \n",
    "    else:\n",
    "        func(lst[:(n//2)+1][:(n//2)+1])\n",
    "        func(lst[:(n//2)+1][(n//2)+1:])\n",
    "        func(lst[(n//2)+1:][:(n//2)+1])\n",
    "        func(lst[(n/2)+1:][(n/2)+1:])\n",
    "\n",
    "    print(white, blue)\n",
    "        \n",
    "\n",
    "\n",
    "def count(lst):\n",
    "    lst_set = set()\n",
    "    for i in range(len(lst)):\n",
    "        for j in range(len(lst)):\n",
    "            lst_set.add(lst[i][j])\n",
    "        \n",
    "    if len(lst_set) == 2:\n",
    "        return 2\n",
    "    \n",
    "    if len(lst_set) == 1:\n",
    "        return list(lst_set)[0]\n",
    "\n",
    "func(lst)"
   ]
  },
  {
   "attachments": {},
   "cell_type": "markdown",
   "metadata": {},
   "source": [
    "- 분할된 색종이의 모든 값을 다 비교하지 않고 첫 번째 값하고만 비교하면 해결됐었음."
   ]
  }
 ],
 "metadata": {
  "kernelspec": {
   "display_name": "Python 3",
   "language": "python",
   "name": "python3"
  },
  "language_info": {
   "codemirror_mode": {
    "name": "ipython",
    "version": 3
   },
   "file_extension": ".py",
   "mimetype": "text/x-python",
   "name": "python",
   "nbconvert_exporter": "python",
   "pygments_lexer": "ipython3",
   "version": "3.8.0"
  },
  "orig_nbformat": 4,
  "vscode": {
   "interpreter": {
    "hash": "c2e55c9285be7209c352033cdce09d8fd6005e5e0666f201e74b15d445dd77cd"
   }
  }
 },
 "nbformat": 4,
 "nbformat_minor": 2
}
