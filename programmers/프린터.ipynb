{
 "cells": [
  {
   "cell_type": "code",
   "execution_count": null,
   "metadata": {},
   "outputs": [],
   "source": [
    "from collections import deque\n",
    "\n",
    "def solution(priorities, location):\n",
    "    temp = deque([(v, i) for i, v in enumerate(priorities)])\n",
    "    count = 0\n",
    "    \n",
    "    while temp:\n",
    "        val = temp.popleft()\n",
    "        if temp and val[0] < max(temp)[0]:\n",
    "            temp.append(val)\n",
    "        else:\n",
    "            count += 1\n",
    "            \n",
    "            if val[1] == location:\n",
    "                break\n",
    "        \n",
    "    return count"
   ]
  },
  {
   "attachments": {},
   "cell_type": "markdown",
   "metadata": {},
   "source": [
    "##### if temp and val[0] < max(temp)[0]: 에서 temp가 빠졌더니 틀렸다.\n",
    "\n",
    "##### if temp가 의미하는게 무엇인지 찾아볼 것.\n"
   ]
  }
 ],
 "metadata": {
  "language_info": {
   "name": "python"
  },
  "orig_nbformat": 4
 },
 "nbformat": 4,
 "nbformat_minor": 2
}
