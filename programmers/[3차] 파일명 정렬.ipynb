{
 "cells": [
  {
   "cell_type": "code",
   "execution_count": null,
   "metadata": {},
   "outputs": [],
   "source": [
    "# 내 코드\n",
    "# 런타임에러로 실패\n",
    "import copy\n",
    "\n",
    "def div1(x):   \n",
    "    \n",
    "    result = []\n",
    "    num_check = False\n",
    "\n",
    "    for i in range(len(x)):\n",
    "        if num_check == False and x[i].isdecimal():\n",
    "            num_check = True\n",
    "            result.append(x[:i])\n",
    "            num_index = copy.deepcopy(i)\n",
    "            \n",
    "        if num_check == True and not x[i].isdecimal():\n",
    "            result.extend([x[num_index:i], x[i:]])\n",
    "            return result\n",
    "\n",
    "def solution(files):\n",
    "    result_lst = []\n",
    "\n",
    "    for i in range(len(files)):\n",
    "        result_lst.append(div1(files[i]))\n",
    "    \n",
    "    result_lst = sorted(result_lst, key = lambda x: (str.lower(x[0]), int(x[1])))\n",
    "    \n",
    "    result = [\"\".join(i) for i in result_lst]\n",
    "        \n",
    "    return result"
   ]
  },
  {
   "cell_type": "code",
   "execution_count": null,
   "metadata": {},
   "outputs": [],
   "source": [
    "# 모범 답안\n",
    "\n",
    "import re\n",
    "\n",
    "def solution(files):\n",
    "    a = sorted(files, key=lambda file : int(re.findall('\\d+', file)[0]))\n",
    "    b = sorted(a, key=lambda file : re.split('\\d+', file.lower())[0])\n",
    "    return b"
   ]
  }
 ],
 "metadata": {
  "language_info": {
   "name": "python"
  },
  "orig_nbformat": 4
 },
 "nbformat": 4,
 "nbformat_minor": 2
}
