{
 "cells": [
  {
   "cell_type": "code",
   "execution_count": null,
   "metadata": {},
   "outputs": [],
   "source": [
    "import math\n",
    " \n",
    "def solution(fees, records):\n",
    "    b_time, b_fee, p_time, p_fee = fees[0] , fees[1], fees[2], fees[3]\n",
    "    \n",
    "    in_ = {}\n",
    "    stack = {}\n",
    "    result = []\n",
    "    \n",
    "    for record in records:\n",
    "        time, car, inout = record.split()\n",
    "        hour, minute = time.split(\":\")\n",
    "        minute_t = int(hour) * 60 + int(minute)\n",
    "        \n",
    "        if inout == 'IN':\n",
    "            in_[car] = minute_t\n",
    "        elif inout == 'OUT':\n",
    "            try:\n",
    "                stack[car] += minute_t - in_[car]\n",
    "            except:\n",
    "                stack[car] = minute_t - in_[car]\n",
    "            del in_[car]\n",
    "\n",
    "    for idx, val in in_.items():\n",
    "        try:\n",
    "            stack[idx] += 23*60+59 - val\n",
    "        except:\n",
    "            stack[idx] = 23*60+59 - val\n",
    "    \n",
    "    for idx, val in stack.items():\n",
    "        \n",
    "        if b_time >= val:\n",
    "            result.append((idx, b_fee))\n",
    "        else:\n",
    "            temp = b_fee + math.ceil((val - b_time) / p_time) * p_fee\n",
    "            result.append((idx, temp))\n",
    "    \n",
    "    return [i[1] for i in sorted(result, key = lambda x: int(x[0]))]"
   ]
  },
  {
   "attachments": {},
   "cell_type": "markdown",
   "metadata": {},
   "source": [
    "- 입차와 출차를 list 또는 deque로 나눠서 저장하고 출력하려 했으나\n",
    "- 차량번호를 짝을 맞춰 출력하는 것이 문제였다.\n",
    "- ex). 입차만 존재하는 것이 하나일 경우는 넘기고 출력하면 되지만 \n",
    "- 여러 개일 경우 문제 발생\n",
    "-----------\n",
    "- https://latte-is-horse.tistory.com/326 풀이 참고\n",
    "- dict를 사용하여 출차를 따로 저장하지 않고 입차를 저장한 값에서 바로 출력하는 점을 생각 못함"
   ]
  }
 ],
 "metadata": {
  "language_info": {
   "name": "python"
  },
  "orig_nbformat": 4
 },
 "nbformat": 4,
 "nbformat_minor": 2
}
