{
 "cells": [
  {
   "cell_type": "code",
   "execution_count": 6,
   "metadata": {},
   "outputs": [
    {
     "name": "stdout",
     "output_type": "stream",
     "text": [
      "2\n"
     ]
    }
   ],
   "source": [
    "n = int(input())\n",
    "lst = [0] * n\n",
    "count = 0\n",
    "\n",
    "def n_queens(x):\n",
    "    global count\n",
    "    if x == n:\n",
    "        count += 1\n",
    "    \n",
    "    else:\n",
    "         for i in range(n):\n",
    "            lst[x] = i\n",
    "            if is_promising(x):\n",
    "                n_queens(x + 1)\n",
    "\n",
    "def is_promising(x):\n",
    "    for i in range(x):\n",
    "        if lst[x] == lst[i] or abs(lst[x] - lst[i]) == abs(x - i):\n",
    "            return False\n",
    "    return True\n",
    "\n",
    "n_queens(0)\n",
    "print(count)"
   ]
  },
  {
   "cell_type": "code",
   "execution_count": null,
   "metadata": {},
   "outputs": [],
   "source": []
  }
 ],
 "metadata": {
  "kernelspec": {
   "display_name": "Python 3",
   "language": "python",
   "name": "python3"
  },
  "language_info": {
   "codemirror_mode": {
    "name": "ipython",
    "version": 3
   },
   "file_extension": ".py",
   "mimetype": "text/x-python",
   "name": "python",
   "nbconvert_exporter": "python",
   "pygments_lexer": "ipython3",
   "version": "3.8.0"
  },
  "orig_nbformat": 4,
  "vscode": {
   "interpreter": {
    "hash": "c2e55c9285be7209c352033cdce09d8fd6005e5e0666f201e74b15d445dd77cd"
   }
  }
 },
 "nbformat": 4,
 "nbformat_minor": 2
}
