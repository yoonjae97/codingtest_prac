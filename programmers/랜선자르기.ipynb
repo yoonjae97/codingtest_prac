{
 "cells": [
  {
   "cell_type": "code",
   "execution_count": null,
   "metadata": {},
   "outputs": [],
   "source": [
    "# import sys\n",
    "# input = sys.stdin.readline\n",
    "\n",
    "k, n = map(int, input().split())\n",
    "lst = [int(input()) for _ in range(k)]\n",
    "\n",
    "start, end = 1, max(lst)\n",
    "\n",
    "while start >= end:\n",
    "    mid = (start + mid) // 2\n",
    "    cnt = 0\n",
    "\n",
    "    for i in lst:\n",
    "        cnt += (i // mid)\n",
    "    \n",
    "    if cnt >= n:\n",
    "        start = mid + 1\n",
    "    else:\n",
    "        end = mid - 1\n",
    "\n",
    "print(end)\n"
   ]
  }
 ],
 "metadata": {
  "language_info": {
   "name": "python"
  },
  "orig_nbformat": 4
 },
 "nbformat": 4,
 "nbformat_minor": 2
}
