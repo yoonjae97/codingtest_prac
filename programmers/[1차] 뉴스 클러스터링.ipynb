{
 "cells": [
  {
   "cell_type": "code",
   "execution_count": null,
   "metadata": {},
   "outputs": [],
   "source": [
    "import re\n",
    "import math\n",
    "\n",
    "def solution(str1, str2):\n",
    "    str1_lst = [str1[i].lower() + str1[i + 1].lower() for i in range(0, len(str1) - 1)]\n",
    "    str2_lst = [str2[i].lower() + str2[i + 1].lower() for i in range(0, len(str2) - 1)]\n",
    "    \n",
    "    str1_lst = [re.sub('[^A-Za-z]', '', i) for i in str1_lst if len(re.sub('[^A-Za-z]', '', i)) > 1]\n",
    "    str2_lst = [re.sub('[^A-Za-z]', '', i) for i in str2_lst if len(re.sub('[^A-Za-z]', '', i)) > 1]\n",
    "    \n",
    "    inter_lst = []\n",
    "    str1_len = len(str1_lst)\n",
    "    str2_len = len(str2_lst)\n",
    "    \n",
    "    for i in str1_lst:\n",
    "        if i in str2_lst:\n",
    "            inter_lst.append(i)\n",
    "            str2_lst.remove(i)\n",
    "    \n",
    "    inter_val = len(inter_lst)\n",
    "    uni_val = str1_len + str2_len - inter_val\n",
    "\n",
    "    if inter_val == uni_val:\n",
    "        return (65536)\n",
    "    else:\n",
    "        return (math.floor(inter_val / uni_val * 65536))"
   ]
  },
  {
   "attachments": {},
   "cell_type": "markdown",
   "metadata": {},
   "source": [
    "- if not re.findall('[^A-Za-z]+', 문자) 를 활용하면 str1-2 리스트 전처리를 한줄로 가능했다.\n",
    "- str1 = [str1[i:i+2].lower() for i in range(0, len(str1)-1) if not re.findall('[^a-zA-Z]+', str1[i:i+2])]\n",
    "- 정규표현식을 잘 활용할 수 있도록 공부할 것"
   ]
  }
 ],
 "metadata": {
  "language_info": {
   "name": "python"
  },
  "orig_nbformat": 4
 },
 "nbformat": 4,
 "nbformat_minor": 2
}
