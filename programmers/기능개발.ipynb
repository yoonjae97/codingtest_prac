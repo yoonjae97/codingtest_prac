{
 "cells": [
  {
   "cell_type": "code",
   "execution_count": null,
   "metadata": {},
   "outputs": [],
   "source": [
    "def solution(progresses, speeds):\n",
    "    answer = []\n",
    "    time = 0\n",
    "    count = 0\n",
    "    \n",
    "    while len(progresses) != 0:\n",
    "        if (progresses[0] + time * speeds[0]) >= 100:\n",
    "            progresses.pop(0)\n",
    "            speeds.pop(0)\n",
    "            count += 1\n",
    "        \n",
    "        else:\n",
    "            if count > 0 :\n",
    "                answer.append(count)\n",
    "                count = 0\n",
    "\n",
    "            time +=1\n",
    "            \n",
    "    answer.append(count)\n",
    "        \n",
    "            \n",
    "    return answer"
   ]
  }
 ],
 "metadata": {
  "language_info": {
   "name": "python"
  },
  "orig_nbformat": 4
 },
 "nbformat": 4,
 "nbformat_minor": 2
}
