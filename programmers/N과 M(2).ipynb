{
 "cells": [
  {
   "cell_type": "code",
   "execution_count": 55,
   "metadata": {},
   "outputs": [
    {
     "name": "stdout",
     "output_type": "stream",
     "text": [
      "1 2 3 4\n"
     ]
    }
   ],
   "source": [
    "import copy\n",
    "\n",
    "n, m = map(int, input().split())\n",
    "lst = []\n",
    "set_lst = []\n",
    "\n",
    "def func():\n",
    "    if len(lst) == m:\n",
    "        temp = lst.copy()\n",
    "        temp.sort()\n",
    "        if temp not in set_lst:\n",
    "            set_lst.append(temp)\n",
    "            print(\" \".join(map(str, lst)))\n",
    "\n",
    "    for i in range(1, n + 1):\n",
    "        if i not in lst:\n",
    "            lst.append(i)\n",
    "            func()\n",
    "            lst.pop()\n",
    "\n",
    "func()"
   ]
  },
  {
   "cell_type": "code",
   "execution_count": 57,
   "metadata": {},
   "outputs": [
    {
     "name": "stdout",
     "output_type": "stream",
     "text": [
      "1 2\n",
      "1 3\n",
      "1 4\n",
      "2 3\n",
      "2 4\n",
      "3 4\n"
     ]
    }
   ],
   "source": [
    "# 다른 답안\n",
    "\n",
    "n, m = map(int, input().split())\n",
    "lst = []\n",
    "\n",
    "def func(x):\n",
    "    if len(lst) == m:\n",
    "        print(' '.join(map(str, lst)))\n",
    "\n",
    "    for i in range(x, n + 1):\n",
    "        if i not in lst:\n",
    "            lst.append(i)\n",
    "            func(i + 1)\n",
    "            lst.pop()\n",
    "\n",
    "func(1)\n"
   ]
  }
 ],
 "metadata": {
  "kernelspec": {
   "display_name": "Python 3",
   "language": "python",
   "name": "python3"
  },
  "language_info": {
   "codemirror_mode": {
    "name": "ipython",
    "version": 3
   },
   "file_extension": ".py",
   "mimetype": "text/x-python",
   "name": "python",
   "nbconvert_exporter": "python",
   "pygments_lexer": "ipython3",
   "version": "3.8.0 (tags/v3.8.0:fa919fd, Oct 14 2019, 19:37:50) [MSC v.1916 64 bit (AMD64)]"
  },
  "orig_nbformat": 4,
  "vscode": {
   "interpreter": {
    "hash": "c2e55c9285be7209c352033cdce09d8fd6005e5e0666f201e74b15d445dd77cd"
   }
  }
 },
 "nbformat": 4,
 "nbformat_minor": 2
}
