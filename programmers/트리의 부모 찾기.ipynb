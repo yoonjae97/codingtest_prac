{
 "cells": [
  {
   "cell_type": "code",
   "execution_count": 9,
   "metadata": {},
   "outputs": [
    {
     "name": "stdout",
     "output_type": "stream",
     "text": [
      "[0, 1, 4, 6, 1, 3, 1, 4]\n"
     ]
    }
   ],
   "source": [
    "import sys\n",
    "sys.setrecursionlimit(10 ** 9)\n",
    "input = sys.stdin.readline\n",
    "\n",
    "n = int(input())\n",
    "lst = [[] for i in range(n + 1)]\n",
    "visit = [False] * (n + 1)\n",
    "node_lst = [i for i in range(n + 1)]\n",
    "\n",
    "for _ in range(n - 1):\n",
    "    x, y = map(int, input().split())\n",
    "    lst[x].append(y)\n",
    "    lst[y].append(x)\n",
    "\n",
    "def dfs(node):\n",
    "    visit[node] = True\n",
    "    for i in lst[node]:\n",
    "        if not visit[i]:\n",
    "            node_lst[i] = node\n",
    "            dfs(i)\n",
    "\n",
    "dfs(1)\n",
    "for i in range(2, len(node_lst)):\n",
    "    print(node_lst[i])\n"
   ]
  },
  {
   "attachments": {},
   "cell_type": "markdown",
   "metadata": {},
   "source": [
    "- 반복문으로 여러줄 입력시 input은 시간초과 발생 가능\n",
    "- 따라서 sys.stdin.readline 사용할 것"
   ]
  }
 ],
 "metadata": {
  "kernelspec": {
   "display_name": "Python 3",
   "language": "python",
   "name": "python3"
  },
  "language_info": {
   "codemirror_mode": {
    "name": "ipython",
    "version": 3
   },
   "file_extension": ".py",
   "mimetype": "text/x-python",
   "name": "python",
   "nbconvert_exporter": "python",
   "pygments_lexer": "ipython3",
   "version": "3.8.0"
  },
  "orig_nbformat": 4,
  "vscode": {
   "interpreter": {
    "hash": "c2e55c9285be7209c352033cdce09d8fd6005e5e0666f201e74b15d445dd77cd"
   }
  }
 },
 "nbformat": 4,
 "nbformat_minor": 2
}
