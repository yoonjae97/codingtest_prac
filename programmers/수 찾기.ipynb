{
 "cells": [
  {
   "cell_type": "code",
   "execution_count": 1,
   "metadata": {},
   "outputs": [],
   "source": [
    "n = int(input())\n",
    "map_list = list(map(int, input().split()))\n",
    "m = int(input())\n",
    "find_list = list(map(int, input().split()))\n",
    "\n",
    "map_list = sorted(map_list)\n",
    "\n",
    "def find_(arr, target, start, end):\n",
    "    if start > end:\n",
    "        return False\n",
    "    \n",
    "    mid = (start + end) // 2\n",
    "\n",
    "    if target == arr[mid]:\n",
    "        return True\n",
    "\n",
    "    elif target < arr[mid]:\n",
    "        return find_(arr, target, start, mid - 1)\n",
    "    \n",
    "    else:\n",
    "        return find_(arr, target, mid + 1, end)\n",
    "\n",
    "for i in find_list:\n",
    "    if find_(map_list, i, 0, len(map_list) - 1):\n",
    "        print(1)\n",
    "    else:\n",
    "        print(0)\n"
   ]
  }
 ],
 "metadata": {
  "kernelspec": {
   "display_name": "Python 3",
   "language": "python",
   "name": "python3"
  },
  "language_info": {
   "codemirror_mode": {
    "name": "ipython",
    "version": 3
   },
   "file_extension": ".py",
   "mimetype": "text/x-python",
   "name": "python",
   "nbconvert_exporter": "python",
   "pygments_lexer": "ipython3",
   "version": "3.8.0"
  },
  "orig_nbformat": 4,
  "vscode": {
   "interpreter": {
    "hash": "c2e55c9285be7209c352033cdce09d8fd6005e5e0666f201e74b15d445dd77cd"
   }
  }
 },
 "nbformat": 4,
 "nbformat_minor": 2
}
