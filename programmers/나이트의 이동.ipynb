{
 "cells": [
  {
   "cell_type": "code",
   "execution_count": 9,
   "metadata": {},
   "outputs": [],
   "source": [
    "from collections import deque\n",
    "import sys\n",
    "input = sys.stdin.readline"
   ]
  },
  {
   "cell_type": "code",
   "execution_count": 22,
   "metadata": {},
   "outputs": [
    {
     "name": "stdout",
     "output_type": "stream",
     "text": [
      "5\n",
      "28\n",
      "0\n"
     ]
    }
   ],
   "source": [
    "from collections import deque\n",
    "import sys\n",
    "input = sys.stdin.readline\n",
    "\n",
    "def bfs():\n",
    "    dx = [-1, 1, 2, 2, -1, 1, -2, -2]\n",
    "    dy = [2, 2, -1, 1, -2, -2, -1, 1]\n",
    "\n",
    "    q = deque()\n",
    "    q.append((x_s, y_s))\n",
    "    lst[x_s][y_s] = 1\n",
    "\n",
    "\n",
    "    while q:\n",
    "        x, y = q.popleft()\n",
    "\n",
    "        if x == x_e and y == y_e:\n",
    "            return lst[x][y] - 1\n",
    "\n",
    "        for i in range(8):\n",
    "            nx = x + dx[i]\n",
    "            ny = y + dy[i]\n",
    "\n",
    "            if nx >= 0 and nx < n and ny >= 0 and ny < n and lst[nx][ny] == 0:\n",
    "                lst[nx][ny] = lst[x][y] + 1\n",
    "                q.append((nx, ny))\n",
    "\n",
    "num = int(input())\n",
    "\n",
    "for _ in range(num):\n",
    "    n = int(input())\n",
    "    x_s, y_s = map(int, input().split())\n",
    "    x_e, y_e = map(int, input().split())\n",
    "\n",
    "    lst = [([0] * n) for _ in range(n)]\n",
    "    visit_lst = [([False] * n) for _ in range(n)]\n",
    "\n",
    "    print(bfs())\n"
   ]
  },
  {
   "attachments": {},
   "cell_type": "markdown",
   "metadata": {},
   "source": [
    "1. 시작과 목표 자리가 같을 경우 종료\n",
    "2. dx, dy 리스트를 만들어 8방향 모두 이동\n",
    "3. 최소거리를 구해야 하므로 0일때만 값을 갱신할 것"
   ]
  }
 ],
 "metadata": {
  "kernelspec": {
   "display_name": "Python 3",
   "language": "python",
   "name": "python3"
  },
  "language_info": {
   "codemirror_mode": {
    "name": "ipython",
    "version": 3
   },
   "file_extension": ".py",
   "mimetype": "text/x-python",
   "name": "python",
   "nbconvert_exporter": "python",
   "pygments_lexer": "ipython3",
   "version": "3.8.0"
  },
  "orig_nbformat": 4,
  "vscode": {
   "interpreter": {
    "hash": "c2e55c9285be7209c352033cdce09d8fd6005e5e0666f201e74b15d445dd77cd"
   }
  }
 },
 "nbformat": 4,
 "nbformat_minor": 2
}
