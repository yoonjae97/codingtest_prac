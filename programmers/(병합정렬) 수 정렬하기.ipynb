{
 "cells": [
  {
   "cell_type": "code",
   "execution_count": 13,
   "metadata": {},
   "outputs": [
    {
     "name": "stdout",
     "output_type": "stream",
     "text": [
      "[1, 2, 3, 4, 5]\n"
     ]
    }
   ],
   "source": [
    "# 퀵 정렬 구현\n",
    "\n",
    "n = int(input())\n",
    "lst = [int(input()) for i in range(n)]\n",
    "\n",
    "def quick(lst):\n",
    "    if len(lst) <= 1:\n",
    "        return lst\n",
    "        \n",
    "    pivot = lst[0]\n",
    "    tail = lst[1:]\n",
    "\n",
    "    under_tail = [i for i in tail if i <= pivot]\n",
    "    upper_tail = [i for i in tail if i > pivot]\n",
    "\n",
    "    return quick(under_tail) + [pivot] + quick(upper_tail)\n",
    "\n",
    "lst = quick(lst)\n",
    "\n",
    "for i in lst:\n",
    "    print(i)"
   ]
  },
  {
   "attachments": {},
   "cell_type": "markdown",
   "metadata": {},
   "source": [
    "- 퀵 정렬은 피벗 값에 따라서 편향되게 분할할 가능성이 있다는 점에서\n",
    "최악의 경우 O(N ^ 2)의 시간 복잡도를 갖는다. 해당 문제에서는 이로 인해 메모리 초과 발생\n",
    "\n",
    "- 병합 정렬은 정확히 반씩 나눈다는 점에서 최악의 경우에도 O(N * logN)을 보장\n",
    "\n",
    "- https://www.acmicpc.net/board/view/31887"
   ]
  },
  {
   "cell_type": "code",
   "execution_count": 14,
   "metadata": {},
   "outputs": [
    {
     "name": "stdout",
     "output_type": "stream",
     "text": [
      "1\n",
      "2\n",
      "3\n",
      "4\n",
      "5\n"
     ]
    }
   ],
   "source": [
    "# 병합 정렬 구현\n",
    "\n",
    "n = int(input())\n",
    "lst = [int(input()) for i in range(n)]\n",
    "\n",
    "def merge_sort(lst):\n",
    "    if len(lst) <= 1:\n",
    "        return lst\n",
    "    \n",
    "    mid = len(lst) // 2\n",
    "\n",
    "    leftlst = lst[:mid]\n",
    "    rightlst = lst[mid:]\n",
    "    leftlst = merge_sort(leftlst)\n",
    "    rightlst = merge_sort(rightlst)\n",
    "\n",
    "    return merge(leftlst, rightlst)\n",
    "\n",
    "def merge(left, right):\n",
    "    merged_lst = []\n",
    "    i, j = 0, 0\n",
    "\n",
    "    while i < len(left) and j < len(right):\n",
    "        if left[i] < right[j]:\n",
    "            merged_lst.append(left[i])\n",
    "            i += 1\n",
    "        else:\n",
    "            merged_lst.append(right[j])\n",
    "            j += 1\n",
    "    \n",
    "    if i < len(left):\n",
    "        merged_lst += left[i:]\n",
    "    if j < len(right):\n",
    "        merged_lst += right[j:]\n",
    "    \n",
    "    return merged_lst\n",
    "\n",
    "result = merge_sort(lst)\n",
    "for i in result:\n",
    "    print(i)"
   ]
  }
 ],
 "metadata": {
  "kernelspec": {
   "display_name": "Python 3",
   "language": "python",
   "name": "python3"
  },
  "language_info": {
   "codemirror_mode": {
    "name": "ipython",
    "version": 3
   },
   "file_extension": ".py",
   "mimetype": "text/x-python",
   "name": "python",
   "nbconvert_exporter": "python",
   "pygments_lexer": "ipython3",
   "version": "3.8.0"
  },
  "orig_nbformat": 4,
  "vscode": {
   "interpreter": {
    "hash": "c2e55c9285be7209c352033cdce09d8fd6005e5e0666f201e74b15d445dd77cd"
   }
  }
 },
 "nbformat": 4,
 "nbformat_minor": 2
}
