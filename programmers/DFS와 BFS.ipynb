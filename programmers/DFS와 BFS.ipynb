{
 "cells": [
  {
   "cell_type": "code",
   "execution_count": 80,
   "metadata": {},
   "outputs": [
    {
     "name": "stdout",
     "output_type": "stream",
     "text": [
      "3 4 5 2 1  \n",
      "3 4 1 5 2 "
     ]
    }
   ],
   "source": [
    "from collections import deque\n",
    "\n",
    "n, m, v = map(int, input().split())\n",
    "lst = [[] for _ in range(n + 1)]\n",
    "visited = [False] * (n + 1)\n",
    "\n",
    "for _ in range(m):\n",
    "    x, y = map(int, input().split())\n",
    "    lst[x].append(y)\n",
    "    lst[y].append(x)\n",
    "\n",
    "lst = [sorted(i) for i in lst]\n",
    "\n",
    "def dfs(lst, v, visited):\n",
    "    print(v, end = ' ')\n",
    "    visited[v] = True\n",
    "    for i in lst[v]:\n",
    "        if not visited[i] and i:\n",
    "            dfs(lst, i, visited)\n",
    "\n",
    "def bfs(lst, v, visited):\n",
    "    q = deque([v])\n",
    "    visited[v] = True\n",
    "\n",
    "    while q:\n",
    "        now = q.popleft()\n",
    "        print(now, end = ' ')\n",
    "        for i in lst[now]:\n",
    "            if visited[i] == False:\n",
    "                q.append(i)\n",
    "                visited[i] = True\n",
    "\n",
    "dfs(lst, v, visited)\n",
    "print('')\n",
    "visited = [False] * (n + 1)\n",
    "bfs(lst, v, visited)\n"
   ]
  }
 ],
 "metadata": {
  "kernelspec": {
   "display_name": "Python 3",
   "language": "python",
   "name": "python3"
  },
  "language_info": {
   "codemirror_mode": {
    "name": "ipython",
    "version": 3
   },
   "file_extension": ".py",
   "mimetype": "text/x-python",
   "name": "python",
   "nbconvert_exporter": "python",
   "pygments_lexer": "ipython3",
   "version": "3.8.0 (tags/v3.8.0:fa919fd, Oct 14 2019, 19:37:50) [MSC v.1916 64 bit (AMD64)]"
  },
  "orig_nbformat": 4,
  "vscode": {
   "interpreter": {
    "hash": "c2e55c9285be7209c352033cdce09d8fd6005e5e0666f201e74b15d445dd77cd"
   }
  }
 },
 "nbformat": 4,
 "nbformat_minor": 2
}
