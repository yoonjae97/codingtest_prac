{
 "cells": [
  {
   "cell_type": "code",
   "execution_count": null,
   "metadata": {},
   "outputs": [],
   "source": [
    "# import sys\n",
    "# input = sys.stdin.readline\n",
    "\n",
    "n = int(input())\n",
    "T, P = [], []\n",
    "\n",
    "for i in range(n):\n",
    "    t, p = map(int, input().split())\n",
    "    T.append(t)\n",
    "    P.append(p)\n",
    "\n",
    "dp = [0] * (n+1)\n",
    "\n",
    "for i in range(n-1, -1, -1):\n",
    "    if i + T[i] > n:\n",
    "        dp[i] = dp[i+1]\n",
    "    else:\n",
    "        dp[i] = max(dp[i+1], P[i] + dp[i + T[i]])\n",
    "\n",
    "print(dp[0])"
   ]
  }
 ],
 "metadata": {
  "kernelspec": {
   "display_name": "Python 3",
   "language": "python",
   "name": "python3"
  },
  "language_info": {
   "codemirror_mode": {
    "name": "ipython",
    "version": 3
   },
   "file_extension": ".py",
   "mimetype": "text/x-python",
   "name": "python",
   "nbconvert_exporter": "python",
   "pygments_lexer": "ipython3",
   "version": "3.8.0"
  },
  "orig_nbformat": 4,
  "vscode": {
   "interpreter": {
    "hash": "c2e55c9285be7209c352033cdce09d8fd6005e5e0666f201e74b15d445dd77cd"
   }
  }
 },
 "nbformat": 4,
 "nbformat_minor": 2
}
