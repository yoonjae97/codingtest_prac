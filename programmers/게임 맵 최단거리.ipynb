{
 "cells": [
  {
   "cell_type": "code",
   "execution_count": null,
   "metadata": {},
   "outputs": [],
   "source": [
    "from collections import deque\n",
    "\n",
    "def solution(maps):\n",
    "    start, end = 0, 0\n",
    "    n, m = len(maps), len(maps[0])\n",
    "\n",
    "    dx = [-1, 1, 0, 0]\n",
    "    dy = [0, 0, -1, 1]\n",
    "\n",
    "    q = deque()\n",
    "    # 상 하 좌 우\n",
    "    q.append((start, end))\n",
    "\n",
    "    while q:\n",
    "        x, y = q.popleft()\n",
    "\n",
    "        for i in range(4):\n",
    "            nx = x + dx[i]\n",
    "            ny = y + dy[i]\n",
    "\n",
    "            if nx >= 0 and nx < n and ny >= 0 and ny < m and maps[nx][ny] == 1:\n",
    "                maps[nx][ny] = maps[x][y] + 1\n",
    "                q.append((nx, ny))        \n",
    "\n",
    "    if maps[n-1][m-1] == 1:\n",
    "        return -1\n",
    "    else:\n",
    "        return maps[n-1][m-1] "
   ]
  }
 ],
 "metadata": {
  "language_info": {
   "name": "python"
  },
  "orig_nbformat": 4
 },
 "nbformat": 4,
 "nbformat_minor": 2
}
