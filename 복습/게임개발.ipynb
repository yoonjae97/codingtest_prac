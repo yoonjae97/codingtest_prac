{
 "cells": [
  {
   "cell_type": "code",
   "execution_count": 51,
   "metadata": {},
   "outputs": [
    {
     "name": "stdout",
     "output_type": "stream",
     "text": [
      "1 1 1 2 (0, 1) 0 dd\n",
      "1 2\n",
      "1 2 2 2 (1, 0) 0 dd\n",
      "2 2\n",
      "2 2 2 1 (0, -1) 0 dd\n",
      "2 2 1 2 (-1, 0) 1 dd\n",
      "2 2 2 3 (0, 1) 2 dd\n",
      "2 2 3 2 (1, 0) 3 dd\n"
     ]
    }
   ],
   "source": [
    "def turn_left():\n",
    "    global d\n",
    "    d += 1\n",
    "    if d == 4:\n",
    "        d = 0\n",
    "\n",
    "n, m = map(int, input().split())\n",
    "x, y, d = map(int, input().split())\n",
    "map_lst = []\n",
    "visit_lst = [[False] * m for i in range(n)]\n",
    "\n",
    "for i in range(n):\n",
    "    map_lst.append(list(map(int, input().split())))\n",
    "\n",
    "move_lst = [(-1, 0), (0, 1), (1, 0), (0, -1)]\n",
    "d_cnt = 0\n",
    "result = 1\n",
    "\n",
    "while True:\n",
    "    if d_cnt==4:\n",
    "        dx = x - move_lst[d][0]\n",
    "        dy = y - move_lst[d][1]\n",
    "\n",
    "        if (map_lst[dx][dy] == 0 and visit_lst[dx][dy] == False):\n",
    "            x = dx\n",
    "            y = dx\n",
    "            d_cnt = 0\n",
    "        else:\n",
    "            break\n",
    "    \n",
    "    turn_left()\n",
    "    dx = x + move_lst[d][0]\n",
    "    dy = y + move_lst[d][1]\n",
    "    \n",
    "    if (dx >= 0 and dy >= 0 and dx < m and dy < n):\n",
    "        if (visit_lst[dx][dy] == False and map_lst[dx][dy] == 0):\n",
    "            x = dx\n",
    "            y = dy\n",
    "            visit_lst[x][y] = True\n",
    "            result += 1\n",
    "            d_cnt = 0\n",
    "            continue\n",
    "\n",
    "    d_cnt += 1\n",
    "    "
   ]
  }
 ],
 "metadata": {
  "kernelspec": {
   "display_name": "Python 3",
   "language": "python",
   "name": "python3"
  },
  "language_info": {
   "codemirror_mode": {
    "name": "ipython",
    "version": 3
   },
   "file_extension": ".py",
   "mimetype": "text/x-python",
   "name": "python",
   "nbconvert_exporter": "python",
   "pygments_lexer": "ipython3",
   "version": "3.8.0"
  },
  "orig_nbformat": 4
 },
 "nbformat": 4,
 "nbformat_minor": 2
}
