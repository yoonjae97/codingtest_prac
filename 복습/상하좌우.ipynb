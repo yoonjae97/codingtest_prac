{
 "cells": [
  {
   "cell_type": "code",
   "execution_count": 22,
   "metadata": {},
   "outputs": [
    {
     "name": "stdout",
     "output_type": "stream",
     "text": [
      "3 4\n"
     ]
    }
   ],
   "source": [
    "n = int(input())\n",
    "move_lst = list(input().split())\n",
    "move = {\"L\":(0, -1) , \"R\": (0, 1), \"U\":(-1, 0), \"D\":(1, 0)}\n",
    "map_lst = [[0] * n for i in range(n)]\n",
    "x, y = 0, 0\n",
    "\n",
    "for i in move_lst:\n",
    "    mx, my = move[i]\n",
    "    dx = x + mx\n",
    "    dy = y + my\n",
    "\n",
    "    if (dx > n or dx < 0 or dy > n or dy < 0):\n",
    "        continue\n",
    "\n",
    "    x = dx\n",
    "    y = dy\n",
    "\n",
    "print(x + 1, y + 1)"
   ]
  }
 ],
 "metadata": {
  "kernelspec": {
   "display_name": "Python 3",
   "language": "python",
   "name": "python3"
  },
  "language_info": {
   "codemirror_mode": {
    "name": "ipython",
    "version": 3
   },
   "file_extension": ".py",
   "mimetype": "text/x-python",
   "name": "python",
   "nbconvert_exporter": "python",
   "pygments_lexer": "ipython3",
   "version": "3.8.0"
  },
  "orig_nbformat": 4
 },
 "nbformat": 4,
 "nbformat_minor": 2
}
