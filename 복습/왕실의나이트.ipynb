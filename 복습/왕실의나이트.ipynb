{
 "cells": [
  {
   "cell_type": "code",
   "execution_count": 18,
   "metadata": {},
   "outputs": [
    {
     "name": "stdout",
     "output_type": "stream",
     "text": [
      "2\n"
     ]
    }
   ],
   "source": [
    "n = input()\n",
    "x = int(ord(n[0])) - int(ord(\"a\"))\n",
    "y = int(n[1]) -1\n",
    "move_lst = [(-2, -1), (-2, 1), (-1, 2), (1, 2), (2, -1), (2, 1), (1, -2), (1, -2)]\n",
    "cnt = 0\n",
    "\n",
    "for i in move_lst:\n",
    "    dx = x + i[0]\n",
    "    dy = y + i[1]\n",
    "\n",
    "    \n",
    "    if (dx > -1 and dy > -1 and dx < 8 and dy < 8):\n",
    "        cnt += 1\n",
    "\n",
    "print(cnt)\n",
    "\n"
   ]
  }
 ],
 "metadata": {
  "kernelspec": {
   "display_name": "Python 3",
   "language": "python",
   "name": "python3"
  },
  "language_info": {
   "codemirror_mode": {
    "name": "ipython",
    "version": 3
   },
   "file_extension": ".py",
   "mimetype": "text/x-python",
   "name": "python",
   "nbconvert_exporter": "python",
   "pygments_lexer": "ipython3",
   "version": "3.8.0"
  },
  "orig_nbformat": 4
 },
 "nbformat": 4,
 "nbformat_minor": 2
}
