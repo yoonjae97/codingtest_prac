{
 "cells": [
  {
   "cell_type": "code",
   "execution_count": 1,
   "metadata": {},
   "outputs": [],
   "source": [
    "import heapq"
   ]
  },
  {
   "cell_type": "code",
   "execution_count": 14,
   "metadata": {},
   "outputs": [],
   "source": [
    "n, m, c = map(int, input().split())\n",
    "\n",
    "INF = int(1e9)\n",
    "\n",
    "start = c\n",
    "sum = 0\n",
    "\n",
    "graph = [[] for _ in range(n + 1)]\n",
    "distance = [INF] * (n + 1)\n",
    "\n",
    "for _ in range(m):\n",
    "    a, b, c = map(int, input().split())\n",
    "    graph[a].append((b, c))"
   ]
  },
  {
   "cell_type": "code",
   "execution_count": 15,
   "metadata": {},
   "outputs": [
    {
     "name": "stdout",
     "output_type": "stream",
     "text": [
      "2 4\n"
     ]
    }
   ],
   "source": [
    "def dijkstra(start):\n",
    "    q = []\n",
    "\n",
    "    heapq.heappush(q, (0, start))\n",
    "    distance[start] = 0\n",
    "\n",
    "    while q:\n",
    "\n",
    "        dist, now = heapq.heappop(q)\n",
    "\n",
    "        if distance[now] < dist:\n",
    "            continue\n",
    "\n",
    "        for i in graph[now]:\n",
    "            cost = dist + i[1]\n",
    "\n",
    "            if cost < distance[i[0]]:\n",
    "                distance[i[0]] = cost\n",
    "                heapq.heappush(q, (cost, i[0]))\n",
    "\n",
    "dijkstra(start)\n",
    "    \n",
    "for j in range(len(distance)):\n",
    "    if distance[j] < INF and distance[j] > 0:\n",
    "        sum += 1\n",
    "    else:\n",
    "        distance[j] = -1\n",
    "\n",
    "print(sum, max(distance))\n"
   ]
  },
  {
   "cell_type": "code",
   "execution_count": 28,
   "metadata": {},
   "outputs": [
    {
     "name": "stdout",
     "output_type": "stream",
     "text": [
      "2 4\n"
     ]
    }
   ],
   "source": [
    "# 복습 1회차\n",
    "\n",
    "n, m, start = map(int, input().split())\n",
    "\n",
    "graph = [[] for i in range(n + 1)]\n",
    "\n",
    "INF = int(1e9)\n",
    "distance = [INF] * (n + 1)\n",
    "\n",
    "for _ in range(m):\n",
    "    x, y, z = map(int, input().split())\n",
    "    graph[x].append((y, z))\n",
    "\n",
    "def dijkstra(start):\n",
    "\n",
    "    q = []\n",
    "\n",
    "    heapq.heappush(q, (0, start))\n",
    "    distance[start] = 0\n",
    "\n",
    "    while q:\n",
    "        dist, now = heapq.heappop(q)\n",
    "\n",
    "        if distance[now] < dist:\n",
    "            continue\n",
    "            \n",
    "        for i in graph[now]:\n",
    "            cost = dist + i[1] \n",
    "\n",
    "            if cost < distance[i[0]]:\n",
    "                distance[i[0]] = cost\n",
    "                heapq.heappush(q, (cost, i[0]))\n",
    "\n",
    "dijkstra(start)\n",
    "\n",
    "count = 0\n",
    "max_dist = 0\n",
    "\n",
    "for i in range(len(distance)):\n",
    "    if distance[i] != INF and distance[i] > 0:\n",
    "        count += 1\n",
    "        max_dist = max(distance[i], max_dist)\n",
    "\n",
    "print(count, max_dist)\n"
   ]
  }
 ],
 "metadata": {
  "kernelspec": {
   "display_name": "base",
   "language": "python",
   "name": "python3"
  },
  "language_info": {
   "codemirror_mode": {
    "name": "ipython",
    "version": 3
   },
   "file_extension": ".py",
   "mimetype": "text/x-python",
   "name": "python",
   "nbconvert_exporter": "python",
   "pygments_lexer": "ipython3",
   "version": "3.8.0"
  },
  "orig_nbformat": 4,
  "vscode": {
   "interpreter": {
    "hash": "7caafd1d1ac70734489f6ac4804ba0a432e88ee0c506a5d0c032ccb1a0009b91"
   }
  }
 },
 "nbformat": 4,
 "nbformat_minor": 2
}
